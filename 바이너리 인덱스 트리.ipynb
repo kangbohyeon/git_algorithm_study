{
 "cells": [
  {
   "cell_type": "markdown",
   "id": "3f348514",
   "metadata": {},
   "source": [
    "![](image/293.png)"
   ]
  },
  {
   "cell_type": "markdown",
   "id": "83da7555",
   "metadata": {},
   "source": [
    "![](image/294.png)"
   ]
  },
  {
   "cell_type": "markdown",
   "id": "eb2ee133",
   "metadata": {},
   "source": [
    "![](image/295.png)"
   ]
  },
  {
   "cell_type": "markdown",
   "id": "0b851a92",
   "metadata": {},
   "source": [
    "![](image/296.png)"
   ]
  },
  {
   "cell_type": "code",
   "execution_count": 2,
   "id": "ef9a9e2d",
   "metadata": {},
   "outputs": [
    {
     "name": "stdout",
     "output_type": "stream",
     "text": [
      "0 의 마지막 비트: 0\n",
      "1 의 마지막 비트: 1\n",
      "2 의 마지막 비트: 2\n",
      "3 의 마지막 비트: 1\n",
      "4 의 마지막 비트: 4\n",
      "5 의 마지막 비트: 1\n",
      "6 의 마지막 비트: 2\n",
      "7 의 마지막 비트: 1\n",
      "8 의 마지막 비트: 8\n"
     ]
    }
   ],
   "source": [
    "n = 8\n",
    "\n",
    "for i in range(n + 1):\n",
    "    print(i, \"의 마지막 비트:\",(i & -i))"
   ]
  },
  {
   "cell_type": "markdown",
   "id": "39771ced",
   "metadata": {},
   "source": [
    "![](image/297.png)"
   ]
  },
  {
   "cell_type": "markdown",
   "id": "a7b9b679",
   "metadata": {},
   "source": [
    "![](image/298.png)"
   ]
  },
  {
   "cell_type": "code",
   "execution_count": null,
   "id": "28a9b93c",
   "metadata": {},
   "outputs": [],
   "source": [
    "#import sys\n",
    "#input = sys.stdin.readline\n",
    "\n",
    "# 데이터의 개수(n), 변경 횟수(m), 구간 합 계산 횟수(k)\n",
    "n, m, k = map(int, input().split())\n",
    "\n",
    "# 전체 데이터의 개수는 최대 1,000,000개\n",
    "arr = [0] * (n + 1)\n",
    "tree = [0] * (n + 1)\n",
    "\n",
    "# i번째 수까지의 누적 합을 계산하는 함수\n",
    "def prefix_sum(i):\n",
    "    result = 0\n",
    "    while i > 0:\n",
    "        result += tree[i]\n",
    "        # 0이 아닌 마지막 비트만큼 빼가면서 이동\n",
    "        i -= (i & -i)\n",
    "    return result\n",
    "\n",
    "# i번째 수를 dif만큼 더하는 함수\n",
    "def update(i, dif):\n",
    "    while i <= n:\n",
    "        tree[i] += dif\n",
    "        i += (i & -i)\n",
    "\n",
    "# start부터 end까지의 구간 합을 계산하는 함수\n",
    "def interval_sum(start, end):\n",
    "    return prefix_sum(end) - prefix_sum(start - 1)\n",
    "\n",
    "for i in range(1, n + 1):\n",
    "    x = int(input())\n",
    "    arr[i] = x\n",
    "    update(i, x)\n",
    "\n",
    "for i in range(m + k):\n",
    "    a, b, c = map(int, input().split())\n",
    "    # 업데이트(update) 연산인 경우\n",
    "    if a == 1:\n",
    "        update(b, c - arr[b]) # 바뀐 크기(dif)만큼 적용\n",
    "        arr[b] = c\n",
    "    # 구간 합(interval sum) 연산인 경우\n",
    "    else:\n",
    "        print(interval_sum(b, c))"
   ]
  }
 ],
 "metadata": {
  "kernelspec": {
   "display_name": "Python 3 (ipykernel)",
   "language": "python",
   "name": "python3"
  },
  "language_info": {
   "codemirror_mode": {
    "name": "ipython",
    "version": 3
   },
   "file_extension": ".py",
   "mimetype": "text/x-python",
   "name": "python",
   "nbconvert_exporter": "python",
   "pygments_lexer": "ipython3",
   "version": "3.9.7"
  }
 },
 "nbformat": 4,
 "nbformat_minor": 5
}
