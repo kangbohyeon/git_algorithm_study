{
 "cells": [
  {
   "cell_type": "markdown",
   "id": "421fa5b0",
   "metadata": {},
   "source": [
    "![](image/147.png)"
   ]
  },
  {
   "cell_type": "markdown",
   "id": "0c41278c",
   "metadata": {},
   "source": [
    "# 다익스트라 최단 경로 알고리즘 개요\n",
    "+ 특정한 노드에서 출발하여 다른 모든 노드로 가는 최단 경로를 계산합니다\n",
    "+ 다익스트라 최단 경로 알고리즘은 음의 간섭이 없을 때 정상적으로 동작합니다\n",
    "    + 현실 세계의 도로(간선)은 음의 간선으로 표현되지 않습니다\n",
    "+ 다익스트라 최단 경로 알고리즘은 그리디 알고리즘으로 분류됩니다.\n",
    "    + 매 상황에서 가장 비용이 적은 노드를 선택해 임의의 과정을 반복합니다."
   ]
  },
  {
   "cell_type": "markdown",
   "id": "51797920",
   "metadata": {},
   "source": [
    "# 다익스트라 최단 경로 알고리즘\n",
    "+ 알고리즘의 동작 과정은 다음과 같습니다.\n",
    "    1. 출발노드를 설정합니다.\n",
    "    2. 최단 거리 테이블을 초기화합니다.\n",
    "    3. 방문하지 않은 노드 중에서 최단 거리가 가장 짧은 노드를 선택합니다\n",
    "    4. 해당 노드를 거쳐 다른 노드로 가는 비용을 계산하여 최단 거리 테이블을 갱신합니다.\n",
    "    5. 위 과정에서 3번과 4번을 반복합니다."
   ]
  },
  {
   "cell_type": "markdown",
   "id": "c2f96a2f",
   "metadata": {},
   "source": [
    "![](image/148.png)"
   ]
  },
  {
   "cell_type": "markdown",
   "id": "0b3f066f",
   "metadata": {},
   "source": [
    "![](image/149.png)"
   ]
  },
  {
   "cell_type": "markdown",
   "id": "282dd65b",
   "metadata": {},
   "source": [
    "![](image/150.png)"
   ]
  },
  {
   "cell_type": "markdown",
   "id": "3cd69e37",
   "metadata": {},
   "source": [
    "![](image/151.png)"
   ]
  },
  {
   "cell_type": "markdown",
   "id": "790f94dd",
   "metadata": {},
   "source": [
    "![](image/152.png)"
   ]
  },
  {
   "cell_type": "markdown",
   "id": "d33bf966",
   "metadata": {},
   "source": [
    "![](image/153.png)"
   ]
  },
  {
   "cell_type": "markdown",
   "id": "d6b09f83",
   "metadata": {},
   "source": [
    "![](image/154.png)"
   ]
  },
  {
   "cell_type": "markdown",
   "id": "941b72af",
   "metadata": {},
   "source": [
    "![](image/155.png)"
   ]
  },
  {
   "cell_type": "markdown",
   "id": "d7e8aba6",
   "metadata": {},
   "source": [
    "# 다익스트라 알고리즘의 특징\n",
    "+ 그리디 알골리즘 : 매상황에서 방문하지 않은 가장 비용이 적은 노드를 선택해 임의의 과정을 반복합니다.\n",
    "+ 단계를 거치며 한 번 처리된 노드의 최단 거리는 고정되어 더 이상 바뀌지 않습니다.\n",
    "    + 한 단계당 하나의 노드에 대한 최단 거리를 확실히 찾는 것으로 이해할 수 있습니다.\n",
    "+ 다익스트라 알고리즘을 수행한 뒤에 테이블에 각 노드까지의 최단 거리 저옵가 저장됩니다.\n",
    "    + 완벽한 형태의 최단 경로를 구하려면 소스코드에 추가적인 기능을 더 넣어야 합니다."
   ]
  },
  {
   "cell_type": "markdown",
   "id": "62f6da78",
   "metadata": {},
   "source": [
    "# 다익스트라 알고리즘 : 간단한 구현 방법\n",
    "+ 단계마다 방문하지 않은 노드 중에서 최단 거리가 가장 짧은 노드를 선택하기 위해 매 단계마다 1차원 테이블의 모든 원소를 확인(순차 탐색)합니다."
   ]
  },
  {
   "cell_type": "code",
   "execution_count": null,
   "id": "6cec785d",
   "metadata": {},
   "outputs": [],
   "source": [
    "### import sys\n",
    "#input = sys.stdin.readline\n",
    "INF = int(1e9) # 무한을 의미하는 값으로 10억을 설정\n",
    "\n",
    "#노드의 개수, 간선의 개수를 입력받기\n",
    "n, m= map(int,input().split())\n",
    "\n",
    "#시작 노드 번호를 입력받기\n",
    "start = int(input())\n",
    "#각 노드에 연결되어 있는 노드에 대한 정보를 담는 리스트를 만들기\n",
    "graph = [[] for i in range(n + 1)]\n",
    "#방문한 적이 있는지 체크하는 목적의 리스트를 만들기\n",
    "visited = [False] * (n + 1)\n",
    "#최단 거리 테이블을 모두 무한으로 초기화\n",
    "distance = [INF] * (n + 1)\n",
    "\n",
    "# 모든 간선 정보를 입력받기\n",
    "for _ in range(m):\n",
    "    a, b, c = map(int, input().split())\n",
    "    #a번 노드에서 b번 노드로 가는 비용이 c라는 의미\n",
    "    graph[a].append((b,c))\n",
    "    \n",
    "#방문하지 않은 노드 중에서, 가장 최단 거리가 짧은 노드의 번호를 반환\n",
    "def get_smallest_node():\n",
    "    min_value = INF\n",
    "    index = 0 #가장 최단 거리가 짧은 노드(인덱스)\n",
    "    for i in range(1, n + 1):\n",
    "        if distance[i] < min_value and not visited[i]:\n",
    "            min_value = distance[i]\n",
    "            index = i\n",
    "    return index\n",
    "\n",
    "def dijkstra(start):\n",
    "    #시작 노드에 대해서 초기화\n",
    "    distance[start] = 0\n",
    "    visited[start] = True\n",
    "    for j in graph[start]:\n",
    "        distance[j[0]] = j[1]\n",
    "    #시작 노드를 제외한 전체 n - 1개의 노드에 대해 반복\n",
    "    for i in range(n - 1):\n",
    "        #현재 최단 거리가 가장 짧은 노드를 꺼내서, 방문처리\n",
    "        now = get_smallest_node()\n",
    "        visited[now] = True\n",
    "        #현재 노드와 연결된 다른 노드를 확인\n",
    "        for j in graph[now]:\n",
    "            cost = distance[now] + j[1]\n",
    "            #현재 노드를 거쳐서 다른 노드로 이동하는 거리가 더 짧은 경우\n",
    "            if cost < distance[j[0]]:\n",
    "                distance[j[0]] = cost\n",
    "\n",
    "#다익스트라 알고리즘을 수행\n",
    "dijkstra(start)\n",
    "\n",
    "#모든 노드로 가기 위한 최단 거리를 출력\n",
    "for i in range(1, n + 1):\n",
    "    #도달할 수 없는 경우, 무한(INFINITY)이라고 출력\n",
    "    if distance[i] == INF:\n",
    "        print(\"INFINITY\")\n",
    "    #도달할 수 있는 경우 거리를 출력\n",
    "    else :\n",
    "        print(distance[i])"
   ]
  },
  {
   "cell_type": "markdown",
   "id": "e0d224a7",
   "metadata": {},
   "source": [
    "# 다익스트라 알고리즘: 간단한 구현 방법 성능 분석\n",
    "+ 총 O(V)번에 걸쳐서 최단 거리가 가장 짧은 노드를 매번 선형 탐색해야 합니다.\n",
    "+ 따라서 전체 시간 복잡도는 O(V^2)입니다.\n",
    "+ 일반적으로 코딩 테스트의 최단 경로 문제에서 전체 노드의 개수가 5000개 이하라면 이 코드로 문제를 해결할 수 있습니다.\n",
    "    + 하지만 노드의 개수가 10000개를 넘어가는 문제라면 어떻게 해야 할까요?"
   ]
  },
  {
   "cell_type": "markdown",
   "id": "7e4565fc",
   "metadata": {},
   "source": [
    "![](image/156.png)"
   ]
  },
  {
   "cell_type": "markdown",
   "id": "fe4c24a9",
   "metadata": {},
   "source": [
    "![](image/157.png)"
   ]
  },
  {
   "cell_type": "code",
   "execution_count": 12,
   "id": "1748018e",
   "metadata": {},
   "outputs": [
    {
     "name": "stdout",
     "output_type": "stream",
     "text": [
      "[0, 1, 2, 3, 4, 5, 6, 7, 8, 9]\n"
     ]
    }
   ],
   "source": [
    "import heapq\n",
    "\n",
    "#오름차순 힙 정렬\n",
    "def heapsort(iterable):\n",
    "    h = []\n",
    "    result = []\n",
    "    #모든 원소를 차례대로 힙에 삽입\n",
    "    for value in iterable:\n",
    "        heapq.heappush(h, value)\n",
    "    #힙에 삽입된 모든 원소를 차례대로 꺼내어 담기\n",
    "    for i in range(len(h)):\n",
    "        result.append(heapq.heappop(h))\n",
    "    return result\n",
    "\n",
    "result = heapsort([1, 3, 5, 7, 9, 2, 4, 6, 8, 0])\n",
    "print(result)"
   ]
  },
  {
   "cell_type": "code",
   "execution_count": 14,
   "id": "acd6cb70",
   "metadata": {},
   "outputs": [
    {
     "name": "stdout",
     "output_type": "stream",
     "text": [
      "[9, 8, 7, 6, 5, 4, 3, 2, 1, 0]\n"
     ]
    }
   ],
   "source": [
    "import heapq\n",
    "\n",
    "#내림차순 힙 정렬\n",
    "def heapsort(iterable):\n",
    "    h = []\n",
    "    result = []\n",
    "    #모든 원소를 차례대로 힙에 삽입\n",
    "    for value in iterable:\n",
    "        heapq.heappush(h, -value)\n",
    "    #힙에 삽입된 모든 원소를 차례대로 꺼내어 담기\n",
    "    for i in range(len(h)):\n",
    "        result.append(-heapq.heappop(h))\n",
    "    return result\n",
    "\n",
    "result = heapsort([1, 3, 5, 7, 9, 2, 4, 6, 8, 0])\n",
    "print(result)"
   ]
  },
  {
   "cell_type": "markdown",
   "id": "b5f73689",
   "metadata": {},
   "source": [
    "# 다익스트라 알고리즘: 개선된 구현 방법\n",
    "+ 단계마다 방문하지 않은 노드 중ㅇ서 최단 거리가 가장 짧은 노드를 선택하기 위해 힙 자료구조를 이용합니다\n",
    "+ 다익스트라 알고리즘이 동작하는 기본 원리는 동일합니다.\n",
    "    + 현재 가장 가까운 노드를 저장해 놓기 위해서 힙 자료구조를 추가적으로 이요한다는 점이 다릅니다.\n",
    "    + 현재의 최단 거리가 가장 짧은 노드를 선택해야 하므로 최소 힙을 사용합니다.\n",
    "    "
   ]
  },
  {
   "cell_type": "markdown",
   "id": "a39315e9",
   "metadata": {},
   "source": [
    "![](image/158.png)"
   ]
  },
  {
   "cell_type": "markdown",
   "id": "4ab59687",
   "metadata": {},
   "source": [
    "![](image/159.png)"
   ]
  },
  {
   "cell_type": "markdown",
   "id": "68f17ec9",
   "metadata": {},
   "source": [
    "![](image/160.png)"
   ]
  },
  {
   "cell_type": "markdown",
   "id": "e629e984",
   "metadata": {},
   "source": [
    "![](image/161.png)"
   ]
  },
  {
   "cell_type": "markdown",
   "id": "f01892e4",
   "metadata": {},
   "source": [
    "![](image/162.png)"
   ]
  },
  {
   "cell_type": "markdown",
   "id": "d7ad5976",
   "metadata": {},
   "source": [
    "![](image/163.png)"
   ]
  },
  {
   "cell_type": "markdown",
   "id": "3043b0bc",
   "metadata": {},
   "source": [
    "![](image/164.png)"
   ]
  },
  {
   "cell_type": "markdown",
   "id": "1f8e1483",
   "metadata": {},
   "source": [
    "![](image/165.png)"
   ]
  },
  {
   "cell_type": "code",
   "execution_count": 3,
   "id": "be76fec1",
   "metadata": {},
   "outputs": [
    {
     "name": "stdout",
     "output_type": "stream",
     "text": [
      "6 11\n",
      "1\n",
      "0\n",
      "INFINITY\n",
      "INFINITY\n",
      "INFINITY\n",
      "INFINITY\n",
      "INFINITY\n"
     ]
    }
   ],
   "source": [
    "import heapq\n",
    "#import sys\n",
    "# input = sys.stdin.readline\n",
    "INF = int(1e9) # 무한을 의미하는 값으로 10억을 설정\n",
    "\n",
    "#노드의 개수, 간선의 개수를 입력받기\n",
    "n, m = map(int,input().split())\n",
    "\n",
    "#시작 노드 번호를 입력받기\n",
    "start = int(input())\n",
    "#각 노드에 연결되어 있는 노드에 대한 정보를 담는 리스트를 만들기\n",
    "graph = [[] for i in range(n + 1)]\n",
    "#방문한 적이 있는지 체크하는 목적의 리스트를 만들기\n",
    "visited = [False] * (n + 1)\n",
    "#최단 거리 테이블을 모두 무한으로 초기화\n",
    "distance = [INF] * (n + 1)\n",
    "\n",
    "def dijkstra(start):\n",
    "    q = []\n",
    "    # 시작 노드로 가기 위한 최단 경로는 0으로 설정하여, 큐에 삽입\n",
    "    heapq.heappush(q, (0, start))\n",
    "    distance[start] = 0\n",
    "    while q: # 큐가 비어있지 않다면\n",
    "        #가장 최단 거리가 짧은 노드에 대한 정보 꺼내기\n",
    "        dist, now = heapq.heappop(q)\n",
    "        #현재 노드가 이미 처리된 적이 있는 노드라면 무시\n",
    "        if distance[now] < dist :\n",
    "            continue\n",
    "        #현재 노드와 연결된 다른 인접한 노드들을 확인\n",
    "        for i in graph[now]:\n",
    "            cost = dist + i[1]\n",
    "            #현재 노드를 거쳐서 다른 노드로 이동하는 거리가 더 짧은 경우\n",
    "            if cost < distance[i[0]]:\n",
    "                distance[i[0]] = cost\n",
    "                heapq.heappush(q, (cost, i[0]))\n",
    "\n",
    "\n",
    "#다익스트라 알고리즘을 수행\n",
    "dijkstra(start)\n",
    "\n",
    "#모든 노드로 가기 위한 최단 거리를 출력\n",
    "for i in range(1, n + 1):\n",
    "    #도달할 수 없는 경우, 무한(INFINITY)이라고 출력\n",
    "    if distance[i] == INF:\n",
    "        print(\"INFINITY\")\n",
    "    #도달할 수 있는 경우 거리를 출력\n",
    "    else :\n",
    "        print(distance[i])"
   ]
  },
  {
   "cell_type": "markdown",
   "id": "cb2fda3e",
   "metadata": {},
   "source": [
    "![](image/166.png)"
   ]
  },
  {
   "cell_type": "code",
   "execution_count": null,
   "id": "837a532f",
   "metadata": {},
   "outputs": [],
   "source": []
  },
  {
   "cell_type": "markdown",
   "id": "761ed82c",
   "metadata": {},
   "source": [
    "![](image/167.png)"
   ]
  },
  {
   "cell_type": "markdown",
   "id": "d274f220",
   "metadata": {},
   "source": [
    "![](image/168.png)"
   ]
  },
  {
   "cell_type": "markdown",
   "id": "66bf7f77",
   "metadata": {},
   "source": [
    "![](image/169.png)"
   ]
  },
  {
   "cell_type": "markdown",
   "id": "dee42fc4",
   "metadata": {},
   "source": [
    "![](image/170.png)"
   ]
  },
  {
   "cell_type": "markdown",
   "id": "d295c096",
   "metadata": {},
   "source": [
    "![](image/171.png)"
   ]
  },
  {
   "cell_type": "markdown",
   "id": "249b2258",
   "metadata": {},
   "source": [
    "![](image/172.png)"
   ]
  },
  {
   "cell_type": "markdown",
   "id": "091584b5",
   "metadata": {},
   "source": [
    "![](image/173.png)"
   ]
  },
  {
   "cell_type": "code",
   "execution_count": null,
   "id": "93e72086",
   "metadata": {},
   "outputs": [],
   "source": [
    "#플로이드 워셜 알고리즘\n",
    "INF = int(1e9) # 무한을 의미하는 값으로 10억을 설정\n",
    "\n",
    "#노드의 개수 및 간선의 개수를 입력받기\n",
    "n = int(input())\n",
    "m = int(input())\n",
    "#2차원 리시트(그래프 표현)를 만들고, 무한으로 초기화\n",
    "graph = [INF * (n + 1) for _ in range(n + 1)]\n",
    "\n",
    "#자기 자신에서 자기 자신으로 가는 비용은 0으로 초기화\n",
    "for a in range(1, n + 1):\n",
    "    for b in range(1, n + 1):\n",
    "        if a == b:\n",
    "            graph[a][b] = 0\n",
    "            \n",
    "# 각 간선에 대한 정보를 입력 받아, 그 값으로 초기화\n",
    "for _ in range(m):\n",
    "    # A에서 B로 가는 비용은 C라고 설정\n",
    "    a, b, c = map(int, input().split())\n",
    "    graph[a][b] = c\n",
    "    \n",
    "#점화식에 따라 플로이드 워셜 알고리즘을 수행\n",
    "for k in range(1, n + 1):\n",
    "    for a in range(1, n + 1):\n",
    "        for b in range(1, n + 1):\n",
    "            graph[a][b] = min(graph[a][b], graph[a][k] + graph[k][b])\n",
    "            \n",
    "            \n",
    "#수행된 결과를 출력\n",
    "for a in range(1, n + 1):\n",
    "    for b in range(1, n + 1):\n",
    "        #도달할 수 없는 경우, 무한이라고 출력\n",
    "        if graph[a][b] ==INF:\n",
    "            print(\"INFINITY\", end=\" \")\n",
    "        #도달할 수 있는 경우 거리를 출력\n",
    "        else :\n",
    "            print(graph[a][b], end = \" \")\n",
    "    print()\n",
    "    "
   ]
  },
  {
   "cell_type": "markdown",
   "id": "e8fb8588",
   "metadata": {},
   "source": [
    "![](image/174.png)"
   ]
  },
  {
   "cell_type": "code",
   "execution_count": null,
   "id": "59a6a6d3",
   "metadata": {},
   "outputs": [],
   "source": []
  },
  {
   "cell_type": "markdown",
   "id": "99c0be33",
   "metadata": {},
   "source": [
    "![](image/175.png)"
   ]
  },
  {
   "cell_type": "markdown",
   "id": "5795897d",
   "metadata": {},
   "source": [
    "![](image/176.png)"
   ]
  },
  {
   "cell_type": "markdown",
   "id": "adc14fad",
   "metadata": {},
   "source": [
    "![](image/177.png)"
   ]
  },
  {
   "cell_type": "code",
   "execution_count": 7,
   "id": "2a9bb717",
   "metadata": {},
   "outputs": [
    {
     "name": "stdout",
     "output_type": "stream",
     "text": [
      "3 2 1\n",
      "1 2 4\n",
      "1 3 2\n",
      "2 4\n"
     ]
    }
   ],
   "source": [
    "import heapq\n",
    "#import sys\n",
    "# input = sys.stdin.readline\n",
    "INF = int(1e9) # 무한을 의미하는 값으로 10억을 설정\n",
    "\n",
    "def dijkstra(start):\n",
    "    q = []\n",
    "    # 시작 노드로 가기 위한 최단 경로는 0으로 설정하여, 큐에 삽입\n",
    "    heapq.heappush(q, (0, start))\n",
    "    distance[start] = 0\n",
    "    while q: # 큐가 비어있지 않다면\n",
    "        #가장 최단 거리가 짧은 노드에 대한 정보 꺼내기\n",
    "        dist, now = heapq.heappop(q)\n",
    "        #현재 노드가 이미 처리된 적이 있는 노드라면 무시\n",
    "        if distance[now] < dist :\n",
    "            continue\n",
    "        #현재 노드와 연결된 다른 인접한 노드들을 확인\n",
    "        for i in graph[now]:\n",
    "            cost = dist + i[1]\n",
    "            #현재 노드를 거쳐서 다른 노드로 이동하는 거리가 더 짧은 경우\n",
    "            if cost < distance[i[0]]:\n",
    "                distance[i[0]] = cost\n",
    "                heapq.heappush(q, (cost, i[0]))\n",
    "\n",
    "#노드의 개수, 간선의 개수, 시작 노드를 입력받기\n",
    "n, m, start = map(int,input().split())\n",
    "#각 노드에 연결되어 있는 노드에 대한 정보를 담는 리스트를 만들기\n",
    "graph = [[] for i in range(n + 1)]\n",
    "#최단 거리 테이블을 모두 무한으로 초기화\n",
    "distance = [INF] * (n + 1)\n",
    "\n",
    "#모든 간선 정보를 입력받기\n",
    "for _ in range(m):\n",
    "    x, y, z =map(int, input().split())\n",
    "    # X번 노드에서 Y번 노드로 가는 Z비용이 라는 의미\n",
    "    graph[x].append((y,z))\n",
    "    \n",
    "#다익스트라 알고리즘을 수행\n",
    "dijkstra(start)\n",
    "\n",
    "#도달할 수 있는 노드의 개수\n",
    "count = 0 \n",
    "# 도달할 수 있는 노드 중에서, 가장 멀리 있는 노드와의 최단 거리\n",
    "max_distance = 0\n",
    "for d in distance :\n",
    "    #도달 할 수 있는 노드인 경우\n",
    "    if d!= 1e9:\n",
    "        count +=1\n",
    "        max_distance = max(max_distance, d)\n",
    "        \n",
    "#시작 노드는 제외해야 하므로 count - 1을 출력\n",
    "print(count - 1, max_distance)"
   ]
  },
  {
   "cell_type": "code",
   "execution_count": null,
   "id": "43489fa2",
   "metadata": {},
   "outputs": [],
   "source": []
  },
  {
   "cell_type": "markdown",
   "id": "dad3960e",
   "metadata": {},
   "source": [
    "![](image/178.png)"
   ]
  },
  {
   "cell_type": "markdown",
   "id": "1f6c55ab",
   "metadata": {},
   "source": [
    "![](image/179.png)"
   ]
  },
  {
   "cell_type": "markdown",
   "id": "61c507b0",
   "metadata": {},
   "source": [
    "![](image/180.png)"
   ]
  },
  {
   "cell_type": "code",
   "execution_count": 8,
   "id": "1e30cffa",
   "metadata": {},
   "outputs": [
    {
     "name": "stdout",
     "output_type": "stream",
     "text": [
      "5 7\n",
      "1 2\n",
      "1 3\n",
      "1 4\n",
      "2 4\n",
      "3 4\n",
      "3 5\n",
      "4 5\n",
      "4 5\n",
      "3\n"
     ]
    }
   ],
   "source": [
    "INF = int(1e9) # 무한을 의미하는 값으로 10억을 설정\n",
    "\n",
    "#노드의 개수, 간선의 개수를 입력받기\n",
    "n, m = map(int,input().split())\n",
    "#각 노드에 연결되어 있는 노드에 대한 정보를 담는 리스트를 만들기\n",
    "graph = [[INF] * (n + 1) for _ in range(n + 1)]\n",
    "\n",
    "#자기 자신에서 자기 자신으로 가는 비용은 0으로 초기화\n",
    "for a in range(1, n + 1):\n",
    "    for b in range(1, n + 1):\n",
    "        if a == b:\n",
    "            graph[a][b] = 0\n",
    "            \n",
    "#각 간선에 대한 정보를 입력받아, 그 값으로 초기화\n",
    "for _ in range(m):\n",
    "    #A와 B가 서로에게 가는 비용은 1이라고 설정\n",
    "    a, b= map(int,input().split())\n",
    "    graph[a][b] = 1\n",
    "    graph[b][a] = 1\n",
    "    \n",
    "#거쳐 갈 노드 X와 최종 목적지 노드 k를 입력받기\n",
    "x, k = map(int,input().split())\n",
    "\n",
    "#점화식에 따라 플로이드 워셜 알고맂므을 수행\n",
    "for k in range(1, n + 1):\n",
    "    for a in range(1, n + 1):\n",
    "        for b in range(1, n + 1):\n",
    "            graph[a][b] = min(graph[a][b], graph[a][k] + graph[k][b])\n",
    "\n",
    "#수행된 결과를 출력\n",
    "distance = graph[1][k] + graph[k][x]\n",
    "\n",
    "#도달할 수 없는 경우, -1을 출력\n",
    "if distance >=INF:\n",
    "    print(\"-1\")\n",
    "    \n",
    "#도달할 수 있다면, 최단 거리를 출력\n",
    "else :\n",
    "    print(distance)\n"
   ]
  },
  {
   "cell_type": "markdown",
   "id": "de0dc22b",
   "metadata": {},
   "source": [
    "출처 : https://www.youtube.com/watch?v=acqm9mM1P6o&list=PLRx0vPvlEmdAghTr5mXQxGpHjWqSz0dgC&index=7"
   ]
  }
 ],
 "metadata": {
  "kernelspec": {
   "display_name": "Python 3 (ipykernel)",
   "language": "python",
   "name": "python3"
  },
  "language_info": {
   "codemirror_mode": {
    "name": "ipython",
    "version": 3
   },
   "file_extension": ".py",
   "mimetype": "text/x-python",
   "name": "python",
   "nbconvert_exporter": "python",
   "pygments_lexer": "ipython3",
   "version": "3.9.7"
  }
 },
 "nbformat": 4,
 "nbformat_minor": 5
}
