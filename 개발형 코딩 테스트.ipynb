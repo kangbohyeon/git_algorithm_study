{
 "cells": [
  {
   "cell_type": "markdown",
   "id": "6db961a3",
   "metadata": {},
   "source": [
    "![](image/256.png)"
   ]
  },
  {
   "cell_type": "markdown",
   "id": "e012c022",
   "metadata": {},
   "source": [
    "![](image/257.png)"
   ]
  },
  {
   "cell_type": "markdown",
   "id": "44a3fb1d",
   "metadata": {},
   "source": [
    "![](image/258.png)"
   ]
  },
  {
   "cell_type": "markdown",
   "id": "c9919168",
   "metadata": {},
   "source": [
    "![](image/259.png)"
   ]
  },
  {
   "cell_type": "markdown",
   "id": "149ec6e8",
   "metadata": {},
   "source": [
    "![](image/260.png)"
   ]
  },
  {
   "cell_type": "markdown",
   "id": "31bc3903",
   "metadata": {},
   "source": [
    "![](image/261.png)"
   ]
  },
  {
   "cell_type": "code",
   "execution_count": 1,
   "id": "23df9791",
   "metadata": {},
   "outputs": [
    {
     "name": "stdout",
     "output_type": "stream",
     "text": [
      "<!doctype html><html itemscope=\"\" itemtype=\"http://schema.org/WebPage\" lang=\"ko\"><head><meta content=\"text/html; charset=UTF-8\" http-equiv=\"Content-Type\"><meta content=\"/logos/doodles/2022/international-womens-day-2022-6753651837109192.5-l.png\" itemprop=\"image\"><meta content=\"2022&#45380; &#49464;&#44228; &#50668;&#49457;&#51032; &#45216;\" property=\"twitter:title\"><meta content=\"2022&#45380; &#49464;&#44228; &#50668;&#49457;&#51032; &#45216;&#51012; &#44592;&#45392;&#54633;&#45768;&#45796; #GoogleDoodle\" property=\"twitter:description\"><meta content=\"2022&#45380; &#49464;&#44228; &#50668;&#49457;&#51032; &#45216;&#51012; &#44592;&#45392;&#54633;&#45768;&#45796; #GoogleDoodle\" property=\"og:description\"><meta content=\"summary_large_image\" property=\"twitter:card\"><meta content=\"@GoogleDoodles\" property=\"twitter:site\"><meta content=\"https://www.google.com/logos/doodles/2022/international-womens-day-2022-6753651837109192-2xa.gif\" property=\"twitter:image\"><meta content=\"https://www.google.com/logos/doodles/2022/international-womens-day-2022-6753651837109192-2xa.gif\" property=\"og:image\"><meta content=\"950\" property=\"og:image:width\"><meta content=\"460\" property=\"og:image:height\"><meta content=\"https://www.google.com/logos/doodles/2022/international-womens-day-2022-6753651837109192-2xa.gif\" property=\"og:url\"><meta content=\"video.other\" property=\"og:type\"><title>Google</title><script nonce=\"Ti68g4nrMFMqJCeBQwps4g==\">(function(){window.google={kEI:'9S0nYti2JoammAXzl5XoDw',kEXPI:'0,202450,3,1100083,56873,6058,207,4804,2316,383,246,5,1354,4013,1238,1122515,1197724,699,380067,16115,19397,9287,17572,4858,1362,9291,3025,17583,4020,978,13227,3848,10622,7432,15309,5081,1593,1279,2742,149,1103,840,6297,108,3406,606,2023,1777,520,14670,3227,1989,856,7,17450,11625,4142,553,1851,2614,13142,3,576,6459,149,13975,4,1528,2304,7039,25073,2658,7357,30,11010,2618,4437,9358,7428,5812,2545,4094,4052,3,3541,1,16807,38,25309,2,14022,1931,5589,126,618,5852,10463,1160,5679,1021,2380,2717,18235,63,2,6,7718,4568,5817,436,6729,16695,1246,4612,2,6,1221,9212,2649,339,2768,1538,2794,19,6070,1395,445,2,2,1,6395,4395,1709,4822,4125,2303,616,5,1815,10,1,436,288,758,4730,2379,113,2453,69,2489,5,508,827,118,798,1,187,2,1948,905,859,6570,421,880,1042,847,1019,255,753,555,328,3359,881,1210,14,444,1495,251,960,122,117,2,6,895,315,686,764,2,1,467,306,36,1153,3867,67,87,229,2,66,596,2,1215,393,1586,238,175,127,468,1153,219,84,484,476,176,360,220,330,496,476,885,243,1289,1570,1385,913,5463021,1861,2032,99,760,378,5995558,2801216,882,444,3,1877,1,2562,1,748,141,795,563,1,4265,1,1,2,1331,4142,2609,155,17,13,72,139,4,2,20,2,169,13,19,46,5,39,96,548,29,2,2,1,2,1,2,2,7,4,1,2,2,2,2,2,2,353,513,186,1,1,158,3,2,2,2,2,2,4,2,3,3,269,1601,141,576,426,28,19,14,2,12,5,1,22,17,23951859,2772894,1268795,3,450,1964,1491,9,1435,159,1358,4726,3,923,32,3,1209,497,416,1385,97,1434,2025,417',kBL:'pI3-'};google.sn='webhp';google.kHL='ko';})();(function(){\n",
      "var f=this||self;var h,k=[];function l(a){for(var b;a&&(!a.getAttribute||!(b=a.getAttribute(\"eid\")));)a=a.parentNode;return b||h}function m(a){for(var b=null;a&&(!a.getAttribute||!(b=a.getAttribute(\"leid\")));)a=a.parentNode;return b}\n",
      "function n(a,b,c,d,g){var e=\"\";c||-1!==b.search(\"&ei=\")||(e=\"&ei=\"+l(d),-1===b.search(\"&lei=\")&&(d=m(d))&&(e+=\"&lei=\"+d));d=\"\";!c&&f._cshid&&-1===b.search(\"&cshid=\")&&\"slh\"!==a&&(d=\"&cshid=\"+f._cshid);c=c||\"/\"+(g||\"gen_204\")+\"?atyp=i&ct=\"+a+\"&cad=\"+b+e+\"&zx=\"+Date.now()+d;/^http:/i.test(c)&&\"https:\"===window.location.protocol&&(google.ml&&google.ml(Error(\"a\"),!1,{src:c,glmm:1}),c=\"\");return c};h=google.kEI;google.getEI=l;google.getLEI=m;google.ml=function(){return null};google.log=function(a,b,c,d,g){if(c=n(a,b,c,d,g)){a=new Image;var e=k.length;k[e]=a;a.onerror=a.onload=a.onabort=function(){delete k[e]};a.src=c}};google.logUrl=n;}).call(this);(function(){\n",
      "google.y={};google.sy=[];google.x=function(a,b){if(a)var c=a.id;else{do c=Math.random();while(google.y[c])}google.y[c]=[a,b];return!1};google.sx=function(a){google.sy.push(a)};google.lm=[];google.plm=function(a){google.lm.push.apply(google.lm,a)};google.lq=[];google.load=function(a,b,c){google.lq.push([[a],b,c])};google.loadAll=function(a,b){google.lq.push([a,b])};google.bx=!1;google.lx=function(){};}).call(this);google.f={};(function(){\n",
      "document.documentElement.addEventListener(\"submit\",function(b){var a;if(a=b.target){var c=a.getAttribute(\"data-submitfalse\");a=\"1\"===c||\"q\"===c&&!a.elements.q.value?!0:!1}else a=!1;a&&(b.preventDefault(),b.stopPropagation())},!0);document.documentElement.addEventListener(\"click\",function(b){var a;a:{for(a=b.target;a&&a!==document.documentElement;a=a.parentElement)if(\"A\"===a.tagName){a=\"1\"===a.getAttribute(\"data-nohref\");break a}a=!1}a&&b.preventDefault()},!0);}).call(this);</script><style>#gbar,#guser{font-size:13px;padding-top:1px !important;}#gbar{height:22px}#guser{padding-bottom:7px !important;text-align:right}.gbh,.gbd{border-top:1px solid #c9d7f1;font-size:1px}.gbh{height:0;position:absolute;top:24px;width:100%}@media all{.gb1{height:22px;margin-right:.5em;vertical-align:top}#gbar{float:left}}a.gb1,a.gb4{text-decoration:underline !important}a.gb1,a.gb4{color:#00c !important}.gbi .gb4{color:#dd8e27 !important}.gbf .gb4{color:#900 !important}\n",
      "</style><style>body,td,a,p,.h{font-family:&#44404;&#47548;,&#46027;&#50880;,arial,sans-serif}.ko{font-size:9pt}body{margin:0;overflow-y:scroll}#gog{padding:3px 8px 0}td{line-height:.8em}.gac_m td{line-height:17px}form{margin-bottom:20px}.h{color:#1558d6}em{font-weight:bold;font-style:normal}.lst{height:25px;width:496px}.gsfi,.lst{font:18px arial,sans-serif}.gsfs{font:17px arial,sans-serif}.ds{display:inline-box;display:inline-block;margin:3px 0 4px;margin-left:4px}input{font-family:inherit}body{background:#fff;color:#000}a{color:#4b11a8;text-decoration:none}a:hover,a:active{text-decoration:underline}.fl a{color:#1558d6}a:visited{color:#4b11a8}.sblc{padding-top:5px}.sblc a{display:block;margin:2px 0;margin-left:13px;font-size:11px}.lsbb{background:#f8f9fa;border:solid 1px;border-color:#dadce0 #70757a #70757a #dadce0;height:30px}.lsbb{display:block}#WqQANb a{display:inline-block;margin:0 12px}.lsb{background:url(/images/nav_logo229.png) 0 -261px repeat-x;border:none;color:#000;cursor:pointer;height:30px;margin:0;outline:0;font:15px arial,sans-serif;vertical-align:top}.lsb:active{background:#dadce0}.lst:focus{outline:none}.tiah{width:458px}</style><script nonce=\"Ti68g4nrMFMqJCeBQwps4g==\">(function(){window.google.erd={jsr:1,bv:1542,de:true};\n",
      "var f=this||self;var g,h,k=null!==(g=f.mei)&&void 0!==g?g:1,l=null!==(h=f.sdo)&&void 0!==h?h:!0,p=0,q,r=google.erd,u=r.jsr;google.ml=function(a,b,d,m,c){c=void 0===c?2:c;b&&(q=a&&a.message);if(google.dl)return google.dl(a,c,d),null;if(0>u){window.console&&console.error(a,d);if(-2===u)throw a;b=!1}else b=!a||!a.message||\"Error loading script\"===a.message||p>=k&&!m?!1:!0;if(!b)return null;p++;d=d||{};var e=c;c=encodeURIComponent;b=\"/gen_204?atyp=i&ei=\"+c(google.kEI);google.kEXPI&&(b+=\"&jexpid=\"+c(google.kEXPI));b+=\"&srcpg=\"+c(google.sn)+\"&jsr=\"+c(r.jsr)+\"&bver=\"+c(r.bv)+(\"&jsel=\"+e);e=a.lineNumber;void 0!==e&&(b+=\"&line=\"+\n",
      "e);var n=a.fileName;n&&(b+=\"&script=\"+c(n),e&&n===window.location.href&&(e=document.documentElement.outerHTML.split(\"\\n\")[e],b+=\"&cad=\"+c(e?e.substring(0,300):\"No script found.\")));for(var t in d)b+=\"&\",b+=c(t),b+=\"=\",b+=c(d[t]);b=b+\"&emsg=\"+c(a.name+\": \"+a.message);b=b+\"&jsst=\"+c(a.stack||\"N/A\");12288<=b.length&&(b=b.substr(0,12288));a=b;m||google.log(0,\"\",a);return a};window.onerror=function(a,b,d,m,c){q!==a&&(a=c instanceof Error?c:Error(a),void 0===d||\"lineNumber\"in a||(a.lineNumber=d),void 0===b||\"fileName\"in a||(a.fileName=b),google.ml(a,!1,void 0,!1,\"SyntaxError\"===a.name||\"SyntaxError\"===a.message.substring(0,11)?2:0));q=null;l&&p>=k&&(window.onerror=null)};})();</script></head><body bgcolor=\"#fff\"><script nonce=\"Ti68g4nrMFMqJCeBQwps4g==\">(function(){var src='/images/nav_logo229.png';var iesg=false;document.body.onload = function(){window.n && window.n();if (document.images){new Image().src=src;}\n",
      "if (!iesg){document.f&&document.f.q.focus();document.gbqf&&document.gbqf.q.focus();}\n",
      "}\n",
      "})();</script><div id=\"mngb\"><div id=gbar><nobr><b class=gb1>&#44160;&#49353;</b> <a class=gb1 href=\"http://www.google.co.kr/imghp?hl=ko&tab=wi\">&#51060;&#48120;&#51648;</a> <a class=gb1 href=\"http://maps.google.co.kr/maps?hl=ko&tab=wl\">&#51648;&#46020;</a> <a class=gb1 href=\"https://play.google.com/?hl=ko&tab=w8\">Play</a> <a class=gb1 href=\"http://www.youtube.com/?gl=KR&tab=w1\">YouTube</a> <a class=gb1 href=\"https://news.google.com/?tab=wn\">&#45684;&#49828;</a> <a class=gb1 href=\"https://mail.google.com/mail/?tab=wm\">Gmail</a> <a class=gb1 href=\"https://drive.google.com/?tab=wo\">&#46300;&#46972;&#51060;&#48652;</a> <a class=gb1 style=\"text-decoration:none\" href=\"https://www.google.co.kr/intl/ko/about/products?tab=wh\"><u>&#45908;&#48372;&#44592;</u> &raquo;</a></nobr></div><div id=guser width=100%><nobr><span id=gbn class=gbi></span><span id=gbf class=gbf></span><span id=gbe></span><a href=\"http://www.google.co.kr/history/optout?hl=ko\" class=gb4>&#50937; &#44592;&#47197;</a> | <a  href=\"/preferences?hl=ko\" class=gb4>&#49444;&#51221;</a> | <a target=_top id=gb_70 href=\"https://accounts.google.com/ServiceLogin?hl=ko&passive=true&continue=http://www.google.com/&ec=GAZAAQ\" class=gb4>&#47196;&#44536;&#51064;</a></nobr></div><div class=gbh style=left:0></div><div class=gbh style=right:0></div></div><center><br clear=\"all\" id=\"lgpd\"><div id=\"lga\"><a href=\"/search?ie=UTF-8&amp;q=%EC%84%B8%EA%B3%84+%EC%97%AC%EC%84%B1%EC%9D%98+%EB%82%A0&amp;oi=ddle&amp;ct=174788846&amp;hl=ko&amp;si=ANhW_NqMq05hm_NHatki2oB83qRn9HU6YTauVAJv82wgMbWR1czRczNZrl_vIEGSUU-1sHJOv_zLMesdIYSPsVKQ0iDWomQ9bzbOyhFm4wmbAgIZw3chB9w%3D&amp;sa=X&amp;ved=0ahUKEwiYhaWopbb2AhUGE6YKHfNLBf0QPQgD\"><img alt=\"2022&#45380; &#49464;&#44228; &#50668;&#49457;&#51032; &#45216;\" border=\"0\" height=\"220\" src=\"/logos/doodles/2022/international-womens-day-2022-6753651837109192.5-l.png\" title=\"2022&#45380; &#49464;&#44228; &#50668;&#49457;&#51032; &#45216;\" width=\"455\" id=\"hplogo\"><br></a><br></div><form action=\"/search\" name=\"f\"><table cellpadding=\"0\" cellspacing=\"0\"><tr valign=\"top\"><td width=\"25%\">&nbsp;</td><td align=\"center\" nowrap=\"\"><input name=\"ie\" value=\"ISO-8859-1\" type=\"hidden\"><input value=\"ko\" name=\"hl\" type=\"hidden\"><input name=\"source\" type=\"hidden\" value=\"hp\"><input name=\"biw\" type=\"hidden\"><input name=\"bih\" type=\"hidden\"><div class=\"ds\" style=\"height:32px;margin:4px 0\"><div style=\"position:relative;zoom:1\"><input class=\"lst tiah\" style=\"margin:0;padding:5px 8px 0 6px;vertical-align:top;color:#000;padding-right:38px\" autocomplete=\"off\" value=\"\" title=\"Google &#44160;&#49353;\" maxlength=\"2048\" name=\"q\" size=\"57\"><img src=\"/textinputassistant/tia.png\" style=\"position:absolute;cursor:pointer;right:5px;top:4px;z-index:300\" data-script-url=\"/textinputassistant/11/ko_tia.js\" id=\"tsuid1\" alt=\"\" height=\"23\" width=\"27\"><script nonce=\"Ti68g4nrMFMqJCeBQwps4g==\">(function(){var id='tsuid1';document.getElementById(id).onclick = function(){var s = document.createElement('script');s.src = this.getAttribute('data-script-url');(document.getElementById('xjsc')||document.body).appendChild(s);};})();</script></div></div><br style=\"line-height:0\"><span class=\"ds\"><span class=\"lsbb\"><input class=\"lsb\" value=\"Google &#44160;&#49353;\" name=\"btnG\" type=\"submit\"></span></span><span class=\"ds\"><span class=\"lsbb\"><input class=\"lsb\" id=\"tsuid2\" value=\"I&#8217;m Feeling Lucky\" name=\"btnI\" type=\"submit\"><script nonce=\"Ti68g4nrMFMqJCeBQwps4g==\">(function(){var id='tsuid2';document.getElementById(id).onclick = function(){if (this.form.q.value){this.checked = 1;if (this.form.iflsig)this.form.iflsig.disabled = false;}\n",
      "else top.location='/doodles/';};})();</script><input value=\"AHkkrS4AAAAAYic8BQvTRbWo_NHRAdwDRfaXsohSK7yl\" name=\"iflsig\" type=\"hidden\"></span></span></td><td class=\"fl sblc\" align=\"left\" nowrap=\"\" width=\"25%\"><a href=\"/advanced_search?hl=ko&amp;authuser=0\">&#44256;&#44553;&#44160;&#49353;</a></td></tr></table><input id=\"gbv\" name=\"gbv\" type=\"hidden\" value=\"1\"><script nonce=\"Ti68g4nrMFMqJCeBQwps4g==\">(function(){\n",
      "var a,b=\"1\";if(document&&document.getElementById)if(\"undefined\"!=typeof XMLHttpRequest)b=\"2\";else if(\"undefined\"!=typeof ActiveXObject){var c,d,e=[\"MSXML2.XMLHTTP.6.0\",\"MSXML2.XMLHTTP.3.0\",\"MSXML2.XMLHTTP\",\"Microsoft.XMLHTTP\"];for(c=0;d=e[c++];)try{new ActiveXObject(d),b=\"2\"}catch(h){}}a=b;if(\"2\"==a&&-1==location.search.indexOf(\"&gbv=2\")){var f=google.gbvu,g=document.getElementById(\"gbv\");g&&(g.value=a);f&&window.setTimeout(function(){location.href=f},0)};}).call(this);</script></form><div id=\"gac_scont\"></div><div style=\"font-size:83%;min-height:3.5em\"><br><div id=\"prm\"><style>.szppmdbYutt__middle-slot-promo{font-size:small;margin-bottom:32px}.szppmdbYutt__middle-slot-promo a.ZIeIlb{display:inline-block;text-decoration:none}.szppmdbYutt__middle-slot-promo img{border:none;margin-right:5px;vertical-align:middle}</style><div class=\"szppmdbYutt__middle-slot-promo\" data-ved=\"0ahUKEwiYhaWopbb2AhUGE6YKHfNLBf0QnIcBCAQ\"><span>&#51228;20&#45824; &#45824;&#54620;&#48124;&#44397; &#45824;&#53685;&#47161; &#49440;&#44144; I </span><a class=\"NKcBbd\" href=\"https://www.google.com/url?q=https://www.nec.go.kr/site/nec/ex/bbs/View.do%3FcbIdx%3D1147%26bcIdx%3D151531&amp;source=hpp&amp;id=19028103&amp;ct=3&amp;usg=AFQjCNFSH7tIGSGRVNPYld4zF286LGGwvA&amp;sa=X&amp;ved=0ahUKEwiYhaWopbb2AhUGE6YKHfNLBf0Q8IcBCAU\" rel=\"nofollow\">&#53804;&#54364;&#50640; &#52280;&#50668;&#54616;&#45716; &#48277; &#50508;&#50500;&#48372;&#44592;</a></div></div></div><span id=\"footer\"><div style=\"font-size:10pt\"><div style=\"margin:19px auto;text-align:center\" id=\"WqQANb\"><a href=\"/intl/ko/ads/\">&#44305;&#44256; &#54532;&#47196;&#44536;&#47016;</a><a href=\"http://www.google.co.kr/intl/ko/services/\">&#48708;&#51592;&#45768;&#49828; &#49556;&#47336;&#49496;</a><a href=\"/intl/ko/about.html\">Google &#51221;&#48372;</a><a href=\"http://www.google.com/setprefdomain?prefdom=KR&amp;prev=http://www.google.co.kr/&amp;sig=K_Wi_FW1Ws7fhg_QtCAy6cCSmKZzU%3D\">Google.co.kr</a></div></div><p style=\"font-size:8pt;color:#70757a\">&copy; 2022 - <a href=\"/intl/ko/policies/privacy/\">&#44060;&#51064;&#51221;&#48372;&#52376;&#47532;&#48169;&#52840;</a> - <a href=\"/intl/ko/policies/terms/\">&#50557;&#44288;</a></p></span></center><script nonce=\"Ti68g4nrMFMqJCeBQwps4g==\">(function(){window.google.cdo={height:757,width:1440};(function(){\n",
      "var a=window.innerWidth,b=window.innerHeight;if(!a||!b){var c=window.document,d=\"CSS1Compat\"==c.compatMode?c.documentElement:c.body;a=d.clientWidth;b=d.clientHeight}a&&b&&(a!=google.cdo.width||b!=google.cdo.height)&&google.log(\"\",\"\",\"/client_204?&atyp=i&biw=\"+a+\"&bih=\"+b+\"&ei=\"+google.kEI);}).call(this);})();</script> <script nonce=\"Ti68g4nrMFMqJCeBQwps4g==\">(function(){google.xjs={ck:'',cs:'',excm:[]};})();</script>  <script nonce=\"Ti68g4nrMFMqJCeBQwps4g==\">(function(){var u='/xjs/_/js/k\\x3dxjs.hp.en.RKOd6gk3_Fk.O/am\\x3dAOAJAIAEIAE/d\\x3d1/ed\\x3d1/esmo\\x3d1/rs\\x3dACT90oENw-zZeZy0SaEE27NR-xZzsMHyWQ/m\\x3dsb_he,d';\n",
      "var e=this||self,f=function(a){return a};var g;var l=function(a,b){this.g=b===h?a:\"\"};l.prototype.toString=function(){return this.g+\"\"};var h={};\n",
      "function m(){var a=u;google.lx=function(){n(a);google.lx=function(){}};google.bx||google.lx()}\n",
      "function n(a){google.timers&&google.timers.load&&google.tick&&google.tick(\"load\",\"xjsls\");var b=document;var c=\"SCRIPT\";\"application/xhtml+xml\"===b.contentType&&(c=c.toLowerCase());c=b.createElement(c);if(void 0===g){b=null;var k=e.trustedTypes;if(k&&k.createPolicy){try{b=k.createPolicy(\"goog#html\",{createHTML:f,createScript:f,createScriptURL:f})}catch(p){e.console&&e.console.error(p.message)}g=b}else g=b}a=(b=g)?b.createScriptURL(a):a;a=new l(a,h);c.src=a instanceof l&&a.constructor===l?a.g:\"type_error:TrustedResourceUrl\";var d;a=(c.ownerDocument&&c.ownerDocument.defaultView||window).document;(d=(b=null===(d=a.querySelector)||void 0===d?void 0:d.call(a,\"script[nonce]\"))?b.nonce||b.getAttribute(\"nonce\")||\"\":\"\")&&c.setAttribute(\"nonce\",d);document.body.appendChild(c);google.psa=!0};google.xjsu=u;setTimeout(function(){m()},0);})();function _DumpException(e){throw e;}\n",
      "function _F_installCss(c){}\n",
      "(function(){google.jl={attn:false,blt:'none',chnk:0,dw:false,dwu:true,emtn:0,end:0,ine:false,injs:'none',injt:0,lls:'default',pdt:0,rep:0,snet:true,strt:0,ubm:false,uwp:true};})();(function(){var pmc='{\\x22d\\x22:{},\\x22sb_he\\x22:{\\x22agen\\x22:true,\\x22cgen\\x22:true,\\x22client\\x22:\\x22heirloom-hp\\x22,\\x22dh\\x22:true,\\x22dhqt\\x22:true,\\x22ds\\x22:\\x22\\x22,\\x22ffql\\x22:\\x22ko\\x22,\\x22fl\\x22:true,\\x22host\\x22:\\x22google.com\\x22,\\x22isbh\\x22:28,\\x22jsonp\\x22:true,\\x22msgs\\x22:{\\x22cibl\\x22:\\x22&#44160;&#49353;&#50612; &#51648;&#50864;&#44592;\\x22,\\x22dym\\x22:\\x22&#51060;&#44163;&#51012; &#52286;&#51004;&#49512;&#45208;&#50836;?\\x22,\\x22lcky\\x22:\\x22I&#8217;m Feeling Lucky\\x22,\\x22lml\\x22:\\x22&#51088;&#49464;&#55176; &#50508;&#50500;&#48372;&#44592;\\x22,\\x22oskt\\x22:\\x22&#51077;&#47141; &#46020;&#44396;\\x22,\\x22psrc\\x22:\\x22&#44160;&#49353;&#50612;&#44032; \\\\u003Ca href\\x3d\\\\\\x22/history\\\\\\x22\\\\u003E&#50937; &#44592;&#47197;\\\\u003C/a\\\\u003E&#50640;&#49436; &#49325;&#51228;&#46104;&#50632;&#49845;&#45768;&#45796;.\\x22,\\x22psrl\\x22:\\x22&#49325;&#51228;\\x22,\\x22sbit\\x22:\\x22&#51060;&#48120;&#51648;&#47196; &#44160;&#49353;\\x22,\\x22srch\\x22:\\x22Google &#44160;&#49353;\\x22},\\x22ovr\\x22:{},\\x22pq\\x22:\\x22\\x22,\\x22refpd\\x22:true,\\x22rfs\\x22:[],\\x22sbas\\x22:\\x220 3px 8px 0 rgba(0,0,0,0.2),0 0 0 1px rgba(0,0,0,0.08)\\x22,\\x22sbpl\\x22:16,\\x22sbpr\\x22:16,\\x22scd\\x22:10,\\x22stok\\x22:\\x22HUxFDl0IRcIJpZ9Ys8uldR2gHxo\\x22,\\x22uhde\\x22:false}}';google.pmc=JSON.parse(pmc);})();</script>        </body></html>\n"
     ]
    }
   ],
   "source": [
    "import requests\n",
    "\n",
    "target = \"http://google.com\"\n",
    "response = requests.get(url=target)\n",
    "print(response.text)"
   ]
  },
  {
   "cell_type": "markdown",
   "id": "158b7ee1",
   "metadata": {},
   "source": [
    "![](image/262.png)"
   ]
  },
  {
   "cell_type": "markdown",
   "id": "f7fe6cd2",
   "metadata": {},
   "source": [
    "![](image/263.png)"
   ]
  },
  {
   "cell_type": "markdown",
   "id": "2b8c98a2",
   "metadata": {},
   "source": [
    "![](image/264.png)"
   ]
  },
  {
   "cell_type": "markdown",
   "id": "6568bcdb",
   "metadata": {},
   "source": [
    "![](image/265.png)"
   ]
  },
  {
   "cell_type": "markdown",
   "id": "591dec50",
   "metadata": {},
   "source": [
    "![](image/266.png)"
   ]
  },
  {
   "cell_type": "markdown",
   "id": "77caa3f2",
   "metadata": {},
   "source": [
    "![](image/267.png)"
   ]
  },
  {
   "cell_type": "code",
   "execution_count": 2,
   "id": "62907ccd",
   "metadata": {},
   "outputs": [
    {
     "name": "stdout",
     "output_type": "stream",
     "text": [
      "{\n",
      "    \"id\": \"gildong\",\n",
      "    \"password\": \"1!2@3#4$\",\n",
      "    \"age\": 30,\n",
      "    \"hobby\": [\n",
      "        \"football\",\n",
      "        \"programming\"\n",
      "    ]\n",
      "}\n"
     ]
    }
   ],
   "source": [
    "import json\n",
    "\n",
    "#사전 자료형 데이터 선언\n",
    "user = {\n",
    "    \"id\": \"gildong\",\n",
    "    \"password\": \"1!2@3#4$\",\n",
    "    \"age\":30,\n",
    "    \"hobby\":[\"football\", \"programming\"]\n",
    "}\n",
    "\n",
    "#파이썬 변수를 JSON 객체로 변환\n",
    "json_data = json.dumps(user, indent=4)\n",
    "print(json_data)"
   ]
  },
  {
   "cell_type": "code",
   "execution_count": 4,
   "id": "62c71869",
   "metadata": {},
   "outputs": [],
   "source": [
    "import json\n",
    "\n",
    "#사전 자료형 데이터 선언\n",
    "user = {\n",
    "    \"id\": \"gildong\",\n",
    "    \"password\": \"1!2@3#4$\",\n",
    "    \"age\":30,\n",
    "    \"hobby\":[\"football\", \"programming\"]\n",
    "}\n",
    "\n",
    "#JSON 데이터로 변환하여 파일로 저장\n",
    "with open(\"user.json\", \"w\", encoding=\"utf-8\") as file:\n",
    "    json_data = json.dump(user, file, indent=4)"
   ]
  },
  {
   "cell_type": "markdown",
   "id": "e8e1853f",
   "metadata": {},
   "source": [
    "![](image/268.png)"
   ]
  },
  {
   "cell_type": "markdown",
   "id": "d441fa2c",
   "metadata": {},
   "source": [
    "![](image/269.png)"
   ]
  },
  {
   "cell_type": "markdown",
   "id": "078528d2",
   "metadata": {},
   "source": [
    "![](image/270.png)"
   ]
  },
  {
   "cell_type": "code",
   "execution_count": 5,
   "id": "c48a0b81",
   "metadata": {},
   "outputs": [
    {
     "name": "stdout",
     "output_type": "stream",
     "text": [
      "['Leanne Graham', 'Ervin Howell', 'Clementine Bauch', 'Patricia Lebsack', 'Chelsey Dietrich', 'Mrs. Dennis Schulist', 'Kurtis Weissnat', 'Nicholas Runolfsdottir V', 'Glenna Reichert', 'Clementina DuBuque']\n"
     ]
    }
   ],
   "source": [
    "import requests\n",
    "\n",
    "#REST API 경로에 접속하여 응답 데이터 받아오기\n",
    "target = \"https://jsonplaceholder.typicode.com/users\"\n",
    "response = requests.get(url=target)\n",
    "\n",
    "#응답 데이터가 JSON 형식이므로 바로 파이썬 객체로 변환\n",
    "data = response.json()\n",
    "\n",
    "#모든 사용자 정보를 확인하며 이름 정보만 삽입\n",
    "name_list = []\n",
    "for user in data:\n",
    "    name_list.append(user['name'])\n",
    "    \n",
    "print(name_list)"
   ]
  }
 ],
 "metadata": {
  "kernelspec": {
   "display_name": "Python 3 (ipykernel)",
   "language": "python",
   "name": "python3"
  },
  "language_info": {
   "codemirror_mode": {
    "name": "ipython",
    "version": 3
   },
   "file_extension": ".py",
   "mimetype": "text/x-python",
   "name": "python",
   "nbconvert_exporter": "python",
   "pygments_lexer": "ipython3",
   "version": "3.9.7"
  }
 },
 "nbformat": 4,
 "nbformat_minor": 5
}
