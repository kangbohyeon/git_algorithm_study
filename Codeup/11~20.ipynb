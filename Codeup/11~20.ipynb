{
 "cells": [
  {
   "cell_type": "markdown",
   "id": "8ec5465a",
   "metadata": {},
   "source": [
    "# 6011"
   ]
  },
  {
   "cell_type": "markdown",
   "id": "590b8e69",
   "metadata": {},
   "source": [
    "![](image/23.png)"
   ]
  },
  {
   "cell_type": "markdown",
   "id": "5f85d87f",
   "metadata": {},
   "source": [
    "![](image/24.png)"
   ]
  },
  {
   "cell_type": "code",
   "execution_count": 1,
   "id": "000887e2",
   "metadata": {},
   "outputs": [
    {
     "name": "stdout",
     "output_type": "stream",
     "text": [
      "1.414213\n",
      "1.414213\n"
     ]
    }
   ],
   "source": [
    "n = float(input())\n",
    "print(n)"
   ]
  },
  {
   "cell_type": "markdown",
   "id": "4efc1c10",
   "metadata": {},
   "source": [
    "# 6012"
   ]
  },
  {
   "cell_type": "markdown",
   "id": "01c094c4",
   "metadata": {},
   "source": [
    "![](image/25.png)"
   ]
  },
  {
   "cell_type": "markdown",
   "id": "94cdc4d7",
   "metadata": {},
   "source": [
    "![](image/26.png)"
   ]
  },
  {
   "cell_type": "code",
   "execution_count": 2,
   "id": "01a83d46",
   "metadata": {},
   "outputs": [
    {
     "name": "stdout",
     "output_type": "stream",
     "text": [
      "1\n",
      "2\n",
      "1\n",
      "2\n"
     ]
    }
   ],
   "source": [
    "a = int(input())\n",
    "b = int(input())\n",
    "print(a)\n",
    "print(b)"
   ]
  },
  {
   "cell_type": "markdown",
   "id": "9e2acc18",
   "metadata": {},
   "source": [
    "# 6013"
   ]
  },
  {
   "cell_type": "markdown",
   "id": "dc2c6bdc",
   "metadata": {},
   "source": [
    "![](image/27.png)"
   ]
  },
  {
   "cell_type": "markdown",
   "id": "6d539b8f",
   "metadata": {},
   "source": [
    "![](image/28.png)"
   ]
  },
  {
   "cell_type": "code",
   "execution_count": 3,
   "id": "51c897fd",
   "metadata": {},
   "outputs": [
    {
     "name": "stdout",
     "output_type": "stream",
     "text": [
      "a\n",
      "b\n",
      "b\n",
      "a\n"
     ]
    }
   ],
   "source": [
    "a = input()\n",
    "b = input()\n",
    "print(b)\n",
    "print(a)"
   ]
  },
  {
   "cell_type": "markdown",
   "id": "b8c01d40",
   "metadata": {},
   "source": [
    "# 6014"
   ]
  },
  {
   "cell_type": "markdown",
   "id": "b476497e",
   "metadata": {},
   "source": [
    "![](image/29.png)"
   ]
  },
  {
   "cell_type": "markdown",
   "id": "ee327529",
   "metadata": {},
   "source": [
    "![](image/30.png)"
   ]
  },
  {
   "cell_type": "code",
   "execution_count": 4,
   "id": "806b8eb1",
   "metadata": {},
   "outputs": [
    {
     "name": "stdout",
     "output_type": "stream",
     "text": [
      "0.1\n",
      "0.1\n",
      "0.1\n",
      "0.1\n"
     ]
    }
   ],
   "source": [
    "a = float(input())\n",
    "print(a)\n",
    "print(a)\n",
    "print(a)"
   ]
  },
  {
   "cell_type": "markdown",
   "id": "23966202",
   "metadata": {},
   "source": [
    "# 6015"
   ]
  },
  {
   "cell_type": "markdown",
   "id": "bce0894a",
   "metadata": {},
   "source": [
    "![](image/31.png)"
   ]
  },
  {
   "cell_type": "markdown",
   "id": "25eae240",
   "metadata": {},
   "source": [
    "![](image/32.png)"
   ]
  },
  {
   "cell_type": "code",
   "execution_count": 5,
   "id": "71768e75",
   "metadata": {},
   "outputs": [
    {
     "name": "stdout",
     "output_type": "stream",
     "text": [
      "1 2\n",
      "1\n",
      "2\n"
     ]
    }
   ],
   "source": [
    "a,b = input().split()\n",
    "print(a)\n",
    "print(b)"
   ]
  },
  {
   "cell_type": "markdown",
   "id": "513c9a08",
   "metadata": {},
   "source": [
    "# 6016"
   ]
  },
  {
   "cell_type": "markdown",
   "id": "92dd46da",
   "metadata": {},
   "source": [
    "![](image/33.png)"
   ]
  },
  {
   "cell_type": "markdown",
   "id": "eec8d9f5",
   "metadata": {},
   "source": [
    "![](image/34.png)"
   ]
  },
  {
   "cell_type": "code",
   "execution_count": 6,
   "id": "90e82efb",
   "metadata": {},
   "outputs": [
    {
     "name": "stdout",
     "output_type": "stream",
     "text": [
      "a b\n",
      "b a\n"
     ]
    }
   ],
   "source": [
    "a,b = input().split()\n",
    "print(b, a)"
   ]
  },
  {
   "cell_type": "markdown",
   "id": "f857ca45",
   "metadata": {},
   "source": [
    "# 6017"
   ]
  },
  {
   "cell_type": "markdown",
   "id": "6d732b14",
   "metadata": {},
   "source": [
    "![](image/35.png)"
   ]
  },
  {
   "cell_type": "markdown",
   "id": "a791fc3a",
   "metadata": {},
   "source": [
    "![](image/36.png)"
   ]
  },
  {
   "cell_type": "code",
   "execution_count": 7,
   "id": "cd683201",
   "metadata": {},
   "outputs": [
    {
     "name": "stdout",
     "output_type": "stream",
     "text": [
      "computer science\n",
      "computer science computer science computer science\n"
     ]
    }
   ],
   "source": [
    "a = input()\n",
    "print(a, a, a)"
   ]
  },
  {
   "cell_type": "markdown",
   "id": "de50e14b",
   "metadata": {},
   "source": [
    "# 6018"
   ]
  },
  {
   "cell_type": "markdown",
   "id": "e8d20b37",
   "metadata": {},
   "source": [
    "![](image/37.png)"
   ]
  },
  {
   "cell_type": "markdown",
   "id": "cdca0aa5",
   "metadata": {},
   "source": [
    "![](image/38.png)"
   ]
  },
  {
   "cell_type": "code",
   "execution_count": 9,
   "id": "6d89f492",
   "metadata": {},
   "outputs": [
    {
     "name": "stdout",
     "output_type": "stream",
     "text": [
      "3:16\n",
      "3 : 16\n"
     ]
    }
   ],
   "source": [
    "#처음 오류코드\n",
    "a, b =input().split(':')\n",
    "print(a,':',b)"
   ]
  },
  {
   "cell_type": "code",
   "execution_count": 8,
   "id": "15def695",
   "metadata": {},
   "outputs": [
    {
     "name": "stdout",
     "output_type": "stream",
     "text": [
      "3:16\n",
      "3:16\n"
     ]
    }
   ],
   "source": [
    "#나중 정답코드\n",
    "a, b =input().split(':')\n",
    "print(a,b,sep=':')"
   ]
  },
  {
   "cell_type": "markdown",
   "id": "f2e721c8",
   "metadata": {},
   "source": [
    "# 6019"
   ]
  },
  {
   "cell_type": "markdown",
   "id": "7abdf025",
   "metadata": {},
   "source": [
    "![](image/39.png)"
   ]
  },
  {
   "cell_type": "markdown",
   "id": "e56bdd90",
   "metadata": {},
   "source": [
    "![](image/40.png)"
   ]
  },
  {
   "cell_type": "code",
   "execution_count": 10,
   "id": "d0c0e047",
   "metadata": {},
   "outputs": [
    {
     "name": "stdout",
     "output_type": "stream",
     "text": [
      "2020.3.4\n",
      "4-3-2020\n"
     ]
    }
   ],
   "source": [
    "y, m, d =input().split('.')\n",
    "print(d,m,y,sep='-')"
   ]
  },
  {
   "cell_type": "markdown",
   "id": "41d9658e",
   "metadata": {},
   "source": [
    "# 6020"
   ]
  },
  {
   "cell_type": "markdown",
   "id": "a027c303",
   "metadata": {},
   "source": [
    "![](image/41.png)"
   ]
  },
  {
   "cell_type": "markdown",
   "id": "077e5c5e",
   "metadata": {},
   "source": [
    "![](image/42.png)"
   ]
  },
  {
   "cell_type": "code",
   "execution_count": 11,
   "id": "39b7298a",
   "metadata": {},
   "outputs": [
    {
     "name": "stdout",
     "output_type": "stream",
     "text": [
      "00907-1121112\n",
      "009071121112\n"
     ]
    }
   ],
   "source": [
    "a,b =input().split('-')\n",
    "print(a,b,sep='')"
   ]
  }
 ],
 "metadata": {
  "kernelspec": {
   "display_name": "Python 3 (ipykernel)",
   "language": "python",
   "name": "python3"
  },
  "language_info": {
   "codemirror_mode": {
    "name": "ipython",
    "version": 3
   },
   "file_extension": ".py",
   "mimetype": "text/x-python",
   "name": "python",
   "nbconvert_exporter": "python",
   "pygments_lexer": "ipython3",
   "version": "3.9.7"
  }
 },
 "nbformat": 4,
 "nbformat_minor": 5
}
