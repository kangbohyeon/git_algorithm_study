{
 "cells": [
  {
   "cell_type": "markdown",
   "id": "fdf16700",
   "metadata": {},
   "source": [
    "# 6021"
   ]
  },
  {
   "cell_type": "markdown",
   "id": "8226228f",
   "metadata": {},
   "source": [
    "![](image/43.png)"
   ]
  },
  {
   "cell_type": "markdown",
   "id": "70f7b3c0",
   "metadata": {},
   "source": [
    "![](image/44.png)"
   ]
  },
  {
   "cell_type": "code",
   "execution_count": 1,
   "id": "6983a063",
   "metadata": {},
   "outputs": [
    {
     "name": "stdout",
     "output_type": "stream",
     "text": [
      "Hello\n",
      "H\n",
      "e\n",
      "l\n",
      "l\n",
      "o\n"
     ]
    }
   ],
   "source": [
    "s = input()\n",
    "print(s[0])\n",
    "print(s[1])\n",
    "print(s[2])\n",
    "print(s[3])\n",
    "print(s[4])"
   ]
  },
  {
   "cell_type": "markdown",
   "id": "4e2f314b",
   "metadata": {},
   "source": [
    "# 6022"
   ]
  },
  {
   "cell_type": "markdown",
   "id": "afba6a38",
   "metadata": {},
   "source": [
    "![](image/45.png)"
   ]
  },
  {
   "cell_type": "markdown",
   "id": "e698032b",
   "metadata": {},
   "source": [
    "![](image/46.png)"
   ]
  },
  {
   "cell_type": "code",
   "execution_count": 2,
   "id": "9c4cd59a",
   "metadata": {},
   "outputs": [
    {
     "name": "stdout",
     "output_type": "stream",
     "text": [
      "200304\n",
      "20 03 04\n"
     ]
    }
   ],
   "source": [
    "s = input()\n",
    "print(s[0:2],s[2:4],s[4:6])"
   ]
  },
  {
   "cell_type": "markdown",
   "id": "4e47e01e",
   "metadata": {},
   "source": [
    "# 6023"
   ]
  },
  {
   "cell_type": "markdown",
   "id": "97776769",
   "metadata": {},
   "source": [
    "![](image/47.png)"
   ]
  },
  {
   "cell_type": "markdown",
   "id": "44c04063",
   "metadata": {},
   "source": [
    "![](image/48.png)"
   ]
  },
  {
   "cell_type": "code",
   "execution_count": 3,
   "id": "d0bcc395",
   "metadata": {},
   "outputs": [
    {
     "name": "stdout",
     "output_type": "stream",
     "text": [
      "17:23:57\n",
      "23\n"
     ]
    }
   ],
   "source": [
    "s = input().split(':')\n",
    "print(s[1])"
   ]
  },
  {
   "cell_type": "markdown",
   "id": "03c7253c",
   "metadata": {},
   "source": [
    "# 6024"
   ]
  },
  {
   "cell_type": "markdown",
   "id": "4c9cbb6a",
   "metadata": {},
   "source": [
    "![](image/49.png)"
   ]
  },
  {
   "cell_type": "markdown",
   "id": "661ec735",
   "metadata": {},
   "source": [
    "![](image/50.png)"
   ]
  },
  {
   "cell_type": "code",
   "execution_count": 4,
   "id": "48ce2bdb",
   "metadata": {},
   "outputs": [
    {
     "name": "stdout",
     "output_type": "stream",
     "text": [
      "hello world\n",
      "helloworld\n"
     ]
    }
   ],
   "source": [
    "s1, s2 = input().split()\n",
    "print(s1+s2)"
   ]
  },
  {
   "cell_type": "markdown",
   "id": "5a722708",
   "metadata": {},
   "source": [
    "# 6025"
   ]
  },
  {
   "cell_type": "markdown",
   "id": "bc4fd52a",
   "metadata": {},
   "source": [
    "![](image/51.png)"
   ]
  },
  {
   "cell_type": "markdown",
   "id": "02d152f6",
   "metadata": {},
   "source": [
    "![](image/52.png)"
   ]
  },
  {
   "cell_type": "code",
   "execution_count": 5,
   "id": "d39183f1",
   "metadata": {},
   "outputs": [
    {
     "name": "stdout",
     "output_type": "stream",
     "text": [
      "123 -123\n",
      "0\n"
     ]
    }
   ],
   "source": [
    "a, b = input().split()\n",
    "c = int(a) + int(b)\n",
    "print(c)\n"
   ]
  },
  {
   "cell_type": "markdown",
   "id": "00e4278b",
   "metadata": {},
   "source": [
    "# 6026"
   ]
  },
  {
   "cell_type": "markdown",
   "id": "4fd4a8f8",
   "metadata": {},
   "source": [
    "![](image/53.png)"
   ]
  },
  {
   "cell_type": "markdown",
   "id": "873d4b52",
   "metadata": {},
   "source": [
    "![](image/54.png)"
   ]
  },
  {
   "cell_type": "code",
   "execution_count": 6,
   "id": "a34113a8",
   "metadata": {},
   "outputs": [
    {
     "name": "stdout",
     "output_type": "stream",
     "text": [
      "0.1\n",
      "0.9\n",
      "1.0\n"
     ]
    }
   ],
   "source": [
    "a = float(input())\n",
    "b = float(input())\n",
    "print(a+b)"
   ]
  },
  {
   "cell_type": "markdown",
   "id": "ef147dd6",
   "metadata": {},
   "source": [
    "# 6027"
   ]
  },
  {
   "cell_type": "markdown",
   "id": "fa5d541e",
   "metadata": {},
   "source": [
    "![](image/55.png)"
   ]
  },
  {
   "cell_type": "markdown",
   "id": "8328f06c",
   "metadata": {},
   "source": [
    "![](image/56.png)"
   ]
  },
  {
   "cell_type": "code",
   "execution_count": 7,
   "id": "4b02e0d9",
   "metadata": {},
   "outputs": [
    {
     "name": "stdout",
     "output_type": "stream",
     "text": [
      "255\n",
      "ff\n"
     ]
    }
   ],
   "source": [
    "a = int(input())\n",
    "print('%x' %a)"
   ]
  },
  {
   "cell_type": "markdown",
   "id": "6d9eb801",
   "metadata": {},
   "source": [
    "# 6028"
   ]
  },
  {
   "cell_type": "markdown",
   "id": "b41cfb01",
   "metadata": {},
   "source": [
    "![](image/57.png)"
   ]
  },
  {
   "cell_type": "markdown",
   "id": "d0e068c7",
   "metadata": {},
   "source": [
    "![](image/58.png)"
   ]
  },
  {
   "cell_type": "code",
   "execution_count": 8,
   "id": "59465d45",
   "metadata": {},
   "outputs": [
    {
     "name": "stdout",
     "output_type": "stream",
     "text": [
      "255\n",
      "FF\n"
     ]
    }
   ],
   "source": [
    "a = int(input())\n",
    "print('%X' %a)"
   ]
  },
  {
   "cell_type": "markdown",
   "id": "d25bf903",
   "metadata": {},
   "source": [
    "# 6029"
   ]
  },
  {
   "cell_type": "markdown",
   "id": "bb73b7ff",
   "metadata": {},
   "source": [
    "![](image/59.png)"
   ]
  },
  {
   "cell_type": "markdown",
   "id": "06beae35",
   "metadata": {},
   "source": [
    "![](image/60.png)"
   ]
  },
  {
   "cell_type": "code",
   "execution_count": 9,
   "id": "78dda251",
   "metadata": {},
   "outputs": [
    {
     "name": "stdout",
     "output_type": "stream",
     "text": [
      "f\n",
      "17\n"
     ]
    }
   ],
   "source": [
    "a = input()\n",
    "a = int(a, 16)\n",
    "print('%o' %a)"
   ]
  },
  {
   "cell_type": "markdown",
   "id": "09562067",
   "metadata": {},
   "source": [
    "# 6030"
   ]
  },
  {
   "cell_type": "markdown",
   "id": "6329a996",
   "metadata": {},
   "source": [
    "![](image/61.png)"
   ]
  },
  {
   "cell_type": "markdown",
   "id": "94e3f4fe",
   "metadata": {},
   "source": [
    "![](image/62.png)"
   ]
  },
  {
   "cell_type": "code",
   "execution_count": 10,
   "id": "c3334e02",
   "metadata": {},
   "outputs": [
    {
     "name": "stdout",
     "output_type": "stream",
     "text": [
      "A\n",
      "65\n"
     ]
    }
   ],
   "source": [
    "a = ord(input())\n",
    "print(a)"
   ]
  }
 ],
 "metadata": {
  "kernelspec": {
   "display_name": "Python 3 (ipykernel)",
   "language": "python",
   "name": "python3"
  },
  "language_info": {
   "codemirror_mode": {
    "name": "ipython",
    "version": 3
   },
   "file_extension": ".py",
   "mimetype": "text/x-python",
   "name": "python",
   "nbconvert_exporter": "python",
   "pygments_lexer": "ipython3",
   "version": "3.9.7"
  }
 },
 "nbformat": 4,
 "nbformat_minor": 5
}
