{
 "cells": [
  {
   "cell_type": "markdown",
   "id": "db2607f7",
   "metadata": {},
   "source": [
    "# 6001"
   ]
  },
  {
   "cell_type": "markdown",
   "id": "37bab8c6",
   "metadata": {},
   "source": [
    "![](image/1.png)"
   ]
  },
  {
   "cell_type": "markdown",
   "id": "89e10d7d",
   "metadata": {},
   "source": [
    "![](image/2.png)"
   ]
  },
  {
   "cell_type": "code",
   "execution_count": 1,
   "id": "c4fae580",
   "metadata": {},
   "outputs": [
    {
     "name": "stdout",
     "output_type": "stream",
     "text": [
      "Hello\n"
     ]
    }
   ],
   "source": [
    "print(\"Hello\")"
   ]
  },
  {
   "cell_type": "markdown",
   "id": "28451afc",
   "metadata": {},
   "source": [
    "# 6002"
   ]
  },
  {
   "cell_type": "markdown",
   "id": "cbb8565e",
   "metadata": {},
   "source": [
    "![](image/3.png)"
   ]
  },
  {
   "cell_type": "markdown",
   "id": "49aba81f",
   "metadata": {},
   "source": [
    "![](image/4.png)"
   ]
  },
  {
   "cell_type": "code",
   "execution_count": 2,
   "id": "e5f8abab",
   "metadata": {},
   "outputs": [
    {
     "name": "stdout",
     "output_type": "stream",
     "text": [
      "Hello World\n"
     ]
    }
   ],
   "source": [
    "print(\"Hello World\")"
   ]
  },
  {
   "cell_type": "markdown",
   "id": "8533cdef",
   "metadata": {},
   "source": [
    "# 6003"
   ]
  },
  {
   "cell_type": "markdown",
   "id": "324065ba",
   "metadata": {},
   "source": [
    "![](image/5.png)"
   ]
  },
  {
   "cell_type": "markdown",
   "id": "cee40fc7",
   "metadata": {},
   "source": [
    "![](image/6.png)"
   ]
  },
  {
   "cell_type": "code",
   "execution_count": 3,
   "id": "df227121",
   "metadata": {},
   "outputs": [
    {
     "name": "stdout",
     "output_type": "stream",
     "text": [
      "Hello\n",
      "World\n"
     ]
    }
   ],
   "source": [
    "print(\"Hello\\nWorld\")\n"
   ]
  },
  {
   "cell_type": "markdown",
   "id": "25f8d96c",
   "metadata": {},
   "source": [
    "# 6004"
   ]
  },
  {
   "cell_type": "markdown",
   "id": "6614c604",
   "metadata": {},
   "source": [
    "![](image/7.png)"
   ]
  },
  {
   "cell_type": "markdown",
   "id": "da4d4cf0",
   "metadata": {},
   "source": [
    "![](image/8.png)"
   ]
  },
  {
   "cell_type": "code",
   "execution_count": 4,
   "id": "6584bbae",
   "metadata": {},
   "outputs": [
    {
     "name": "stdout",
     "output_type": "stream",
     "text": [
      "'Hello'\n"
     ]
    }
   ],
   "source": [
    "print(\"'Hello'\")"
   ]
  },
  {
   "cell_type": "markdown",
   "id": "d5e936e3",
   "metadata": {},
   "source": [
    "# 6005"
   ]
  },
  {
   "cell_type": "markdown",
   "id": "bf337228",
   "metadata": {},
   "source": [
    "![](image/9.png)"
   ]
  },
  {
   "cell_type": "markdown",
   "id": "79fc02d5",
   "metadata": {},
   "source": [
    "![](image/10.png)"
   ]
  },
  {
   "cell_type": "code",
   "execution_count": 5,
   "id": "6d7fe00d",
   "metadata": {},
   "outputs": [
    {
     "name": "stdout",
     "output_type": "stream",
     "text": [
      "\"Hello World\"\n"
     ]
    }
   ],
   "source": [
    "print('\"Hello World\"')\n"
   ]
  },
  {
   "cell_type": "markdown",
   "id": "21d4f82f",
   "metadata": {},
   "source": [
    "# 6006"
   ]
  },
  {
   "cell_type": "markdown",
   "id": "ddd78d30",
   "metadata": {},
   "source": [
    "![](image/11.png)"
   ]
  },
  {
   "cell_type": "markdown",
   "id": "cf015517",
   "metadata": {},
   "source": [
    "![](image/12.png)"
   ]
  },
  {
   "cell_type": "code",
   "execution_count": 6,
   "id": "c704d805",
   "metadata": {},
   "outputs": [
    {
     "name": "stdout",
     "output_type": "stream",
     "text": [
      "\"!@#$%^&*()'"
     ]
    }
   ],
   "source": [
    "print('\"!@#$%^&*()',end=''+\"'\")\n"
   ]
  },
  {
   "cell_type": "markdown",
   "id": "3660b208",
   "metadata": {},
   "source": [
    "# 6007"
   ]
  },
  {
   "cell_type": "markdown",
   "id": "ca389362",
   "metadata": {},
   "source": [
    "![](image/13.png)"
   ]
  },
  {
   "cell_type": "markdown",
   "id": "e5398d7b",
   "metadata": {},
   "source": [
    "![](image/14.png)"
   ]
  },
  {
   "cell_type": "code",
   "execution_count": 7,
   "id": "d64a2037",
   "metadata": {},
   "outputs": [
    {
     "name": "stdout",
     "output_type": "stream",
     "text": [
      "\"C:\\Download\\'hello'.py\"\n"
     ]
    }
   ],
   "source": [
    "print('\"C:\\\\Download\\\\\\'hello\\'.py\"')"
   ]
  },
  {
   "cell_type": "markdown",
   "id": "c3535dad",
   "metadata": {},
   "source": [
    "# 6008"
   ]
  },
  {
   "cell_type": "markdown",
   "id": "ced7042d",
   "metadata": {},
   "source": [
    "![](image/15.png)"
   ]
  },
  {
   "cell_type": "markdown",
   "id": "daa97872",
   "metadata": {},
   "source": [
    "![](image/16.png)"
   ]
  },
  {
   "cell_type": "code",
   "execution_count": 8,
   "id": "5644a68d",
   "metadata": {},
   "outputs": [
    {
     "name": "stdout",
     "output_type": "stream",
     "text": [
      "print(\"Hello\\nWorld\")\n"
     ]
    }
   ],
   "source": [
    "print(\"print(\\\"Hello\\\\nWorld\\\")\")"
   ]
  },
  {
   "cell_type": "markdown",
   "id": "aeb08a9f",
   "metadata": {},
   "source": [
    "# 6009"
   ]
  },
  {
   "cell_type": "markdown",
   "id": "b55957f9",
   "metadata": {},
   "source": [
    "![](image/17.png)"
   ]
  },
  {
   "cell_type": "markdown",
   "id": "22859dfc",
   "metadata": {},
   "source": [
    "![](image/18.png)"
   ]
  },
  {
   "cell_type": "markdown",
   "id": "a7b01b5b",
   "metadata": {},
   "source": [
    "![](image/19.png)"
   ]
  },
  {
   "cell_type": "code",
   "execution_count": 9,
   "id": "0e111601",
   "metadata": {},
   "outputs": [
    {
     "name": "stdout",
     "output_type": "stream",
     "text": [
      "a\n",
      "a\n"
     ]
    }
   ],
   "source": [
    "n = input()\n",
    "print(n)"
   ]
  },
  {
   "cell_type": "markdown",
   "id": "65b850a1",
   "metadata": {},
   "source": [
    "# 6010"
   ]
  },
  {
   "cell_type": "markdown",
   "id": "580f932e",
   "metadata": {},
   "source": [
    "![](image/20.png)"
   ]
  },
  {
   "cell_type": "markdown",
   "id": "8c8feb56",
   "metadata": {},
   "source": [
    "![](image/21.png)"
   ]
  },
  {
   "cell_type": "markdown",
   "id": "a11de73a",
   "metadata": {},
   "source": [
    "![](image/22.png)"
   ]
  },
  {
   "cell_type": "code",
   "execution_count": 10,
   "id": "f7c4555e",
   "metadata": {},
   "outputs": [
    {
     "name": "stdout",
     "output_type": "stream",
     "text": [
      "15\n",
      "15\n"
     ]
    }
   ],
   "source": [
    "n = int(input())\n",
    "print(n)"
   ]
  }
 ],
 "metadata": {
  "kernelspec": {
   "display_name": "Python 3 (ipykernel)",
   "language": "python",
   "name": "python3"
  },
  "language_info": {
   "codemirror_mode": {
    "name": "ipython",
    "version": 3
   },
   "file_extension": ".py",
   "mimetype": "text/x-python",
   "name": "python",
   "nbconvert_exporter": "python",
   "pygments_lexer": "ipython3",
   "version": "3.9.7"
  }
 },
 "nbformat": 4,
 "nbformat_minor": 5
}
