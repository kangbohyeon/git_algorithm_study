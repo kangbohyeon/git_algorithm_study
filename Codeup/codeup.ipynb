{
 "cells": [
  {
   "cell_type": "code",
   "execution_count": 2,
   "id": "f55e1285-6c02-4bdb-a888-86740b74a78f",
   "metadata": {},
   "outputs": [
    {
     "name": "stdin",
     "output_type": "stream",
     "text": [
      " a\n"
     ]
    },
    {
     "name": "stdout",
     "output_type": "stream",
     "text": [
      "b\n"
     ]
    }
   ],
   "source": [
    "#31\n",
    "n = ord(input())\n",
    "print(chr(n+1))"
   ]
  },
  {
   "cell_type": "code",
   "execution_count": null,
   "id": "4009db9c-2406-430c-9010-7fd8241772a6",
   "metadata": {},
   "outputs": [],
   "source": [
    "#32\n",
    "a = int(input())\n",
    "print(-a)\n"
   ]
  },
  {
   "cell_type": "code",
   "execution_count": 3,
   "id": "e1c519b8-4763-48e5-9053-971671b4d999",
   "metadata": {},
   "outputs": [
    {
     "name": "stdin",
     "output_type": "stream",
     "text": [
      " a\n"
     ]
    },
    {
     "name": "stdout",
     "output_type": "stream",
     "text": [
      "b\n"
     ]
    }
   ],
   "source": [
    "#33\n",
    "n1 = input()\n",
    "n2 = ord(n1)+1\n",
    "print(chr(n2))"
   ]
  },
  {
   "cell_type": "code",
   "execution_count": null,
   "id": "617d2a63-b208-43a8-b805-241640d39416",
   "metadata": {},
   "outputs": [],
   "source": [
    "#33\n",
    "n = ord(input())\n",
    "print(chr(n+1))\n"
   ]
  },
  {
   "cell_type": "code",
   "execution_count": null,
   "id": "1eff66b4-84fc-40a0-ba32-ac2423642939",
   "metadata": {},
   "outputs": [],
   "source": [
    "#34\n",
    "a, b = input().split()\n",
    "c = int(a) - int(b)\n",
    "print(c)\n"
   ]
  },
  {
   "cell_type": "code",
   "execution_count": null,
   "id": "ae05d627-31c7-47fa-9e73-5eaf7a7a9890",
   "metadata": {},
   "outputs": [],
   "source": [
    "#35\n",
    "a, b = input().split()\n",
    "c = float(a) * float(b)\n",
    "print(c)\n"
   ]
  },
  {
   "cell_type": "code",
   "execution_count": 12,
   "id": "5803c455-c781-425e-90e8-84d3bd2f2774",
   "metadata": {},
   "outputs": [
    {
     "name": "stdin",
     "output_type": "stream",
     "text": [
      " love 3\n"
     ]
    },
    {
     "name": "stdout",
     "output_type": "stream",
     "text": [
      "lovelovelove\n"
     ]
    }
   ],
   "source": [
    "#36\n",
    "w, n = input().split()\n",
    "n = int(n)\n",
    "print(w*n)"
   ]
  },
  {
   "cell_type": "code",
   "execution_count": 14,
   "id": "d5f6bc6b-92ed-4ae3-9286-10746062da36",
   "metadata": {},
   "outputs": [
    {
     "name": "stdin",
     "output_type": "stream",
     "text": [
      " 3\n",
      " i love u\n"
     ]
    },
    {
     "name": "stdout",
     "output_type": "stream",
     "text": [
      "i love ui love ui love u\n"
     ]
    }
   ],
   "source": [
    "#37\n",
    "n = int(input())\n",
    "w = input()\n",
    "print(n * w)"
   ]
  },
  {
   "cell_type": "code",
   "execution_count": 16,
   "id": "1980b134-1361-4b8a-bf49-7fc252088abf",
   "metadata": {},
   "outputs": [
    {
     "name": "stdin",
     "output_type": "stream",
     "text": [
      " 2 10\n"
     ]
    },
    {
     "name": "stdout",
     "output_type": "stream",
     "text": [
      "1024\n"
     ]
    }
   ],
   "source": [
    "#38\n",
    "a, b = input().split()\n",
    "c = int(a)** int(b)\n",
    "print(c)"
   ]
  },
  {
   "cell_type": "code",
   "execution_count": 17,
   "id": "0279e939-c4c5-4ae1-95b0-d2dc5bfa1635",
   "metadata": {},
   "outputs": [
    {
     "name": "stdin",
     "output_type": "stream",
     "text": [
      " 4.0 2.0\n"
     ]
    },
    {
     "name": "stdout",
     "output_type": "stream",
     "text": [
      "16.0\n"
     ]
    }
   ],
   "source": [
    "#39\n",
    "a, b = input().split()\n",
    "c = float(a) ** float(b)\n",
    "print(c)"
   ]
  },
  {
   "cell_type": "code",
   "execution_count": 18,
   "id": "798b2025-bc77-48f8-ac67-7d29d659d364",
   "metadata": {},
   "outputs": [
    {
     "name": "stdin",
     "output_type": "stream",
     "text": [
      " 10 3\n"
     ]
    },
    {
     "name": "stdout",
     "output_type": "stream",
     "text": [
      "3\n"
     ]
    }
   ],
   "source": [
    "#40\n",
    "a, b = input().split()\n",
    "print(int(a)//int(b))"
   ]
  },
  {
   "cell_type": "code",
   "execution_count": 25,
   "id": "fc42db8c-b369-4c8c-8bea-7c81c615eaa2",
   "metadata": {},
   "outputs": [
    {
     "name": "stdin",
     "output_type": "stream",
     "text": [
      " 10 3\n"
     ]
    },
    {
     "name": "stdout",
     "output_type": "stream",
     "text": [
      "1\n"
     ]
    }
   ],
   "source": [
    "#41\n",
    "a, b = input().split()\n",
    "print(int(a)%int(b))"
   ]
  },
  {
   "cell_type": "code",
   "execution_count": 26,
   "id": "ff48f703-1e1f-4432-9a6f-e27345b0a3af",
   "metadata": {},
   "outputs": [
    {
     "name": "stdin",
     "output_type": "stream",
     "text": [
      " 3.141592\n"
     ]
    },
    {
     "name": "stdout",
     "output_type": "stream",
     "text": [
      "3.14\n"
     ]
    }
   ],
   "source": [
    "#42\n",
    "a = float(input())\n",
    "print(\"%2.2f\"%a)"
   ]
  },
  {
   "cell_type": "code",
   "execution_count": 33,
   "id": "bca138df-cf51-4bff-948f-5185c4faa4e9",
   "metadata": {},
   "outputs": [
    {
     "name": "stdin",
     "output_type": "stream",
     "text": [
      " 10.0 3.0\n"
     ]
    },
    {
     "name": "stdout",
     "output_type": "stream",
     "text": [
      "3.333\n"
     ]
    }
   ],
   "source": [
    "#43\n",
    "f1, f2 = input().split()\n",
    "print(\"%4.3f\"%(float(f1)/float(f2)))"
   ]
  },
  {
   "cell_type": "code",
   "execution_count": 34,
   "id": "a8925143-7c11-4eda-b45d-2b4eb707cb85",
   "metadata": {},
   "outputs": [
    {
     "name": "stdin",
     "output_type": "stream",
     "text": [
      " 10 3\n"
     ]
    },
    {
     "name": "stdout",
     "output_type": "stream",
     "text": [
      "13\n",
      "7\n",
      "30\n",
      "3\n",
      "1\n",
      "3.33\n"
     ]
    }
   ],
   "source": [
    "#44\n",
    "a, b = input().split()\n",
    "a = int(a)\n",
    "b = int(b)\n",
    "print(a+b)\n",
    "print(a-b)\n",
    "print(a*b)\n",
    "print(a//b)\n",
    "print(a%b)\n",
    "print(\"%2.2f\"%(a/b))"
   ]
  },
  {
   "cell_type": "code",
   "execution_count": 35,
   "id": "6f035cb5-7ea6-4abe-a543-1d010fc1949a",
   "metadata": {},
   "outputs": [
    {
     "name": "stdin",
     "output_type": "stream",
     "text": [
      " 1 2 3\n"
     ]
    },
    {
     "name": "stdout",
     "output_type": "stream",
     "text": [
      "6 2.00\n"
     ]
    }
   ],
   "source": [
    "#45\n",
    "a, b, c = input().split()\n",
    "a= int(a)\n",
    "b= int(b)\n",
    "c= int(c)\n",
    "print(\"%d %.2f\"%(a+b+c,(a+b+c)/3))"
   ]
  },
  {
   "cell_type": "code",
   "execution_count": 5,
   "id": "603dbf3c-d585-4061-b0c6-a9cd62ee0871",
   "metadata": {},
   "outputs": [
    {
     "name": "stdin",
     "output_type": "stream",
     "text": [
      " 1024\n"
     ]
    },
    {
     "name": "stdout",
     "output_type": "stream",
     "text": [
      "2048\n"
     ]
    }
   ],
   "source": [
    "#46\n",
    "n = int(input())\n",
    "print(n<<1)"
   ]
  },
  {
   "cell_type": "code",
   "execution_count": 14,
   "id": "ad14b4b6-c12b-45f9-b0f9-5f92b6a29c14",
   "metadata": {},
   "outputs": [
    {
     "name": "stdin",
     "output_type": "stream",
     "text": [
      " 2 10\n"
     ]
    },
    {
     "name": "stdout",
     "output_type": "stream",
     "text": [
      "2048\n"
     ]
    }
   ],
   "source": [
    "#47\n",
    "a ,b = input().split()\n",
    "print(int(a)<<int(b))"
   ]
  },
  {
   "cell_type": "code",
   "execution_count": 17,
   "id": "a41c0563-9334-4b63-8626-94536525c564",
   "metadata": {},
   "outputs": [
    {
     "name": "stdin",
     "output_type": "stream",
     "text": [
      " 10 3\n"
     ]
    },
    {
     "name": "stdout",
     "output_type": "stream",
     "text": [
      "False\n"
     ]
    }
   ],
   "source": [
    "#48\n",
    "a ,b = input().split()\n",
    "a= int(a)\n",
    "b= int(b)\n",
    "if a<b:\n",
    "    print('True')\n",
    "else :\n",
    "    print('False')\n"
   ]
  },
  {
   "cell_type": "code",
   "execution_count": 18,
   "id": "f74c42cd-54cf-4236-8003-21a057b3f603",
   "metadata": {},
   "outputs": [
    {
     "name": "stdin",
     "output_type": "stream",
     "text": [
      " 0 0\n"
     ]
    },
    {
     "name": "stdout",
     "output_type": "stream",
     "text": [
      "True\n"
     ]
    }
   ],
   "source": [
    "#49\n",
    "a ,b = input().split()\n",
    "if a == b:\n",
    "    print('True')\n",
    "else: \n",
    "    print('False')"
   ]
  },
  {
   "cell_type": "code",
   "execution_count": 19,
   "id": "5b44213a-a91f-4dad-9525-317332959e3e",
   "metadata": {},
   "outputs": [
    {
     "name": "stdin",
     "output_type": "stream",
     "text": [
      " 0 -1\n"
     ]
    },
    {
     "name": "stdout",
     "output_type": "stream",
     "text": [
      "False\n"
     ]
    }
   ],
   "source": [
    "#50\n",
    "a ,b = input().split()\n",
    "a = int(a)\n",
    "b = int(b)\n",
    "\n",
    "print(a<=b)"
   ]
  },
  {
   "cell_type": "code",
   "execution_count": 20,
   "id": "3c169b81-1b65-47ba-a6c1-d2d5817608a9",
   "metadata": {},
   "outputs": [
    {
     "name": "stdin",
     "output_type": "stream",
     "text": [
      " 0 1\n"
     ]
    },
    {
     "name": "stdout",
     "output_type": "stream",
     "text": [
      "True\n"
     ]
    }
   ],
   "source": [
    "#51\n",
    "a ,b = input().split()\n",
    "a = int(a)\n",
    "b = int(b)\n",
    "\n",
    "print(a!=b)"
   ]
  },
  {
   "cell_type": "code",
   "execution_count": 21,
   "id": "3f223024-6e05-4348-9a0c-134b2862be47",
   "metadata": {},
   "outputs": [
    {
     "name": "stdin",
     "output_type": "stream",
     "text": [
      " 0\n"
     ]
    },
    {
     "name": "stdout",
     "output_type": "stream",
     "text": [
      "False\n"
     ]
    }
   ],
   "source": [
    "#52\n",
    "n = int(input())\n",
    "print(bool(n))"
   ]
  },
  {
   "cell_type": "code",
   "execution_count": null,
   "id": "492d0f4c-d3ed-4602-9f28-9a11712e98f7",
   "metadata": {},
   "outputs": [],
   "source": [
    "#53\n",
    "n = int(input())\n",
    "print(not bool(n))\n"
   ]
  },
  {
   "cell_type": "code",
   "execution_count": null,
   "id": "ebfefef9-7f14-4a60-9fe5-e033ffd88885",
   "metadata": {},
   "outputs": [],
   "source": [
    "#54\n",
    "a,b = input().split()\n",
    "a = int(a)\n",
    "b= int(b)\n",
    "print(bool(a) and bool(b))\n"
   ]
  },
  {
   "cell_type": "code",
   "execution_count": null,
   "id": "77e9305e-c27b-4259-b6e9-bdab48bbe18f",
   "metadata": {},
   "outputs": [],
   "source": [
    "#55\n",
    "a,b = input().split()\n",
    "a = int(a)\n",
    "b= int(b)\n",
    "print(bool(a) or bool(b))\n"
   ]
  },
  {
   "cell_type": "code",
   "execution_count": null,
   "id": "a0ffe3e0-2970-421c-9e30-ae077adbffaa",
   "metadata": {},
   "outputs": [],
   "source": [
    "#56\n",
    "a,b = input().split()\n",
    "a = bool(int(a))\n",
    "b= bool(int(b))\n",
    "print((a and (not b)) or ((not a) and b))\n"
   ]
  },
  {
   "cell_type": "code",
   "execution_count": 28,
   "id": "1ba2ab0f-5639-49e6-9f7d-3b61427a742f",
   "metadata": {},
   "outputs": [
    {
     "name": "stdin",
     "output_type": "stream",
     "text": [
      " 0 0\n"
     ]
    },
    {
     "name": "stdout",
     "output_type": "stream",
     "text": [
      "True\n"
     ]
    }
   ],
   "source": [
    "#57\n",
    "a,b = input().split()\n",
    "a = bool(int(a))\n",
    "b= bool(int(b))\n",
    "print(a==b)"
   ]
  },
  {
   "cell_type": "code",
   "execution_count": 30,
   "id": "3ce83b18-c090-402b-b9a8-f5bbaef96fe3",
   "metadata": {},
   "outputs": [
    {
     "name": "stdin",
     "output_type": "stream",
     "text": [
      " 0 0\n"
     ]
    },
    {
     "name": "stdout",
     "output_type": "stream",
     "text": [
      "True\n"
     ]
    }
   ],
   "source": [
    "#58\n",
    "a,b = input().split()\n",
    "a = bool(int(a))\n",
    "b= bool(int(b))\n",
    "print(not (a or b))"
   ]
  },
  {
   "cell_type": "code",
   "execution_count": 32,
   "id": "b1e45b7d-32cc-4344-8c80-8284422fad3c",
   "metadata": {},
   "outputs": [
    {
     "name": "stdin",
     "output_type": "stream",
     "text": [
      " 2\n"
     ]
    },
    {
     "name": "stdout",
     "output_type": "stream",
     "text": [
      "-3\n"
     ]
    }
   ],
   "source": [
    "#59\n",
    "a = int(input())\n",
    "print(~a)"
   ]
  },
  {
   "cell_type": "code",
   "execution_count": 39,
   "id": "e5cf4c04-7323-44c3-8a80-125a92c211d0",
   "metadata": {},
   "outputs": [
    {
     "name": "stdin",
     "output_type": "stream",
     "text": [
      " 3 5\n"
     ]
    },
    {
     "name": "stdout",
     "output_type": "stream",
     "text": [
      "1\n"
     ]
    }
   ],
   "source": [
    "#60\n",
    "a,b = input().split()\n",
    "a = int(a)\n",
    "b= int(b)\n",
    "\n",
    "print(a & b)"
   ]
  },
  {
   "cell_type": "code",
   "execution_count": 40,
   "id": "f88cebc9-3d50-4932-8689-fa501a7779df",
   "metadata": {},
   "outputs": [
    {
     "name": "stdin",
     "output_type": "stream",
     "text": [
      " 3 5\n"
     ]
    },
    {
     "name": "stdout",
     "output_type": "stream",
     "text": [
      "7\n"
     ]
    }
   ],
   "source": [
    "#61\n",
    "a,b = input().split()\n",
    "a = int(a)\n",
    "b= int(b)\n",
    "\n",
    "print(a | b)"
   ]
  },
  {
   "cell_type": "code",
   "execution_count": 41,
   "id": "7a70b971-7f5d-42f3-9b13-5a80af7ae772",
   "metadata": {},
   "outputs": [
    {
     "name": "stdin",
     "output_type": "stream",
     "text": [
      " 3 5\n"
     ]
    },
    {
     "name": "stdout",
     "output_type": "stream",
     "text": [
      "6\n"
     ]
    }
   ],
   "source": [
    "#62\n",
    "a,b = input().split()\n",
    "a = int(a)\n",
    "b= int(b)\n",
    "\n",
    "print(a ^ b)"
   ]
  },
  {
   "cell_type": "code",
   "execution_count": null,
   "id": "0821269b-cdb9-4d5d-b205-76110b9f5167",
   "metadata": {},
   "outputs": [],
   "source": [
    "#63\n",
    "a,b = input().split()\n",
    "a = int(a)\n",
    "b= int(b)\n",
    "c = (a if a>=b else b)\n",
    "print(int(c))\n"
   ]
  },
  {
   "cell_type": "code",
   "execution_count": 45,
   "id": "8be7a6e2-b872-4772-977e-4ce95fba1aaa",
   "metadata": {},
   "outputs": [
    {
     "name": "stdin",
     "output_type": "stream",
     "text": [
      " 3 -1 5\n"
     ]
    },
    {
     "name": "stdout",
     "output_type": "stream",
     "text": [
      "-1\n"
     ]
    }
   ],
   "source": [
    "#64\n",
    "a,b,c  = input().split()\n",
    "a = int(a)\n",
    "b= int(b)\n",
    "c= int(c)\n",
    "d = (a if a<b else b) if ((a if a<b else b)<c) else c\n",
    "print(d)"
   ]
  },
  {
   "cell_type": "code",
   "execution_count": null,
   "id": "836a2127-0625-4159-83d4-883f5164deda",
   "metadata": {},
   "outputs": [],
   "source": [
    "#65\n",
    "a,b,c  = input().split()\n",
    "a = int(a)\n",
    "b= int(b)\n",
    "c= int(c)\n",
    "\n",
    "if a%2==0:\n",
    "    print(a)\n",
    "if b%2==0:\n",
    "    print(b)\n",
    "if c%2==0:\n",
    "    print(c)\n"
   ]
  },
  {
   "cell_type": "code",
   "execution_count": null,
   "id": "9ec75486-d90b-4a51-81ff-c73a405d6d34",
   "metadata": {},
   "outputs": [],
   "source": [
    "#66\n",
    "a,b,c  = input().split()\n",
    "a = int(a)\n",
    "b= int(b)\n",
    "c= int(c)\n",
    "\n",
    "if a%2==0:\n",
    "    print('even')\n",
    "else :\n",
    "    print('odd')\n",
    "if b%2==0:\n",
    "    print('even')\n",
    "else :\n",
    "    print('odd')\n",
    "if c%2==0:\n",
    "    print('even')\n",
    "else :\n",
    "    print('odd')\n"
   ]
  },
  {
   "cell_type": "code",
   "execution_count": 49,
   "id": "49460752-c808-4649-8815-d9af5b2206c2",
   "metadata": {},
   "outputs": [
    {
     "name": "stdin",
     "output_type": "stream",
     "text": [
      " -123148\n"
     ]
    },
    {
     "name": "stdout",
     "output_type": "stream",
     "text": [
      "A\n"
     ]
    }
   ],
   "source": [
    "#67\n",
    "n = int(input())\n",
    "\n",
    "if n<0:\n",
    "    if n%2==0:\n",
    "        print('A')\n",
    "    else:\n",
    "        print('B')\n",
    "else:\n",
    "    if n%2==0:\n",
    "        print('C')\n",
    "    else:\n",
    "        print('D')"
   ]
  },
  {
   "cell_type": "code",
   "execution_count": 50,
   "id": "14b3bbc7-f633-426b-b02b-58b9035c9f61",
   "metadata": {},
   "outputs": [
    {
     "name": "stdin",
     "output_type": "stream",
     "text": [
      " 73\n"
     ]
    },
    {
     "name": "stdout",
     "output_type": "stream",
     "text": [
      "B\n"
     ]
    }
   ],
   "source": [
    "#68\n",
    "n = int(input())\n",
    "\n",
    "if n>=90:\n",
    "    print('A')\n",
    "elif n>=70:\n",
    "    print('B')\n",
    "elif n>=40:\n",
    "    print('C')\n",
    "else:\n",
    "    print('D')"
   ]
  },
  {
   "cell_type": "code",
   "execution_count": 51,
   "id": "936bca46-37a9-4cb7-8b3b-4d3071d8e078",
   "metadata": {},
   "outputs": [
    {
     "name": "stdin",
     "output_type": "stream",
     "text": [
      " A\n"
     ]
    },
    {
     "name": "stdout",
     "output_type": "stream",
     "text": [
      "best!!!\n"
     ]
    }
   ],
   "source": [
    "#69\n",
    "n = input()\n",
    "\n",
    "if n =='A':\n",
    "    print('best!!!')\n",
    "elif n =='B':\n",
    "    print('good!!')\n",
    "elif n =='C':\n",
    "    print('run!')\n",
    "elif n =='D':\n",
    "    print('slowly~')\n",
    "else:\n",
    "    print('what?')"
   ]
  },
  {
   "cell_type": "code",
   "execution_count": 53,
   "id": "725b796e-d1c7-4865-bbee-ab0425e6eaff",
   "metadata": {},
   "outputs": [
    {
     "name": "stdin",
     "output_type": "stream",
     "text": [
      " 12\n"
     ]
    },
    {
     "name": "stdout",
     "output_type": "stream",
     "text": [
      "winter\n"
     ]
    }
   ],
   "source": [
    "#70\n",
    "n = int(input())\n",
    "\n",
    "\n",
    "if n//3 ==1:\n",
    "    print('spring')\n",
    "elif n//3 ==2:\n",
    "    print('summer')\n",
    "elif n//3 ==3:\n",
    "    print('fall')\n",
    "else :\n",
    "    print('winter')"
   ]
  },
  {
   "cell_type": "code",
   "execution_count": 2,
   "id": "9349d33d-9669-4f6a-95e2-f44dd1fa336c",
   "metadata": {},
   "outputs": [
    {
     "name": "stdin",
     "output_type": "stream",
     "text": [
      " 7\n"
     ]
    },
    {
     "name": "stdout",
     "output_type": "stream",
     "text": [
      "7\n"
     ]
    },
    {
     "name": "stdin",
     "output_type": "stream",
     "text": [
      " 4\n"
     ]
    },
    {
     "name": "stdout",
     "output_type": "stream",
     "text": [
      "4\n"
     ]
    },
    {
     "name": "stdin",
     "output_type": "stream",
     "text": [
      " 2\n"
     ]
    },
    {
     "name": "stdout",
     "output_type": "stream",
     "text": [
      "2\n"
     ]
    },
    {
     "name": "stdin",
     "output_type": "stream",
     "text": [
      " 3\n"
     ]
    },
    {
     "name": "stdout",
     "output_type": "stream",
     "text": [
      "3\n"
     ]
    },
    {
     "name": "stdin",
     "output_type": "stream",
     "text": [
      " 10\n"
     ]
    },
    {
     "name": "stdout",
     "output_type": "stream",
     "text": [
      "10\n"
     ]
    },
    {
     "name": "stdin",
     "output_type": "stream",
     "text": [
      " 0\n"
     ]
    }
   ],
   "source": [
    "#71\n",
    "while True:\n",
    "    n = int(input())\n",
    "    if n == 0:\n",
    "        break\n",
    "    if n != 0:\n",
    "        print(n)"
   ]
  },
  {
   "cell_type": "code",
   "execution_count": 6,
   "id": "acab7fca-b2f8-45e7-b859-df61f198d04e",
   "metadata": {},
   "outputs": [
    {
     "name": "stdin",
     "output_type": "stream",
     "text": [
      " 5\n"
     ]
    },
    {
     "name": "stdout",
     "output_type": "stream",
     "text": [
      "5\n",
      "4\n",
      "3\n",
      "2\n",
      "1\n"
     ]
    }
   ],
   "source": [
    "#72\n",
    "n = int(input())\n",
    "while n:\n",
    "    print(n)\n",
    "    n-=1"
   ]
  },
  {
   "cell_type": "code",
   "execution_count": null,
   "id": "1312a917-97e0-4e6f-941f-6a0afbf2aecc",
   "metadata": {},
   "outputs": [],
   "source": [
    "#73\n",
    "n = int(input())\n",
    "while n!=0:\n",
    "    n-=1\n",
    "    print(n)"
   ]
  },
  {
   "cell_type": "code",
   "execution_count": 10,
   "id": "7b4a2b54-a582-4344-86de-f0e744197bc3",
   "metadata": {},
   "outputs": [
    {
     "name": "stdin",
     "output_type": "stream",
     "text": [
      " f\n"
     ]
    },
    {
     "name": "stdout",
     "output_type": "stream",
     "text": [
      "a b c d e f "
     ]
    }
   ],
   "source": [
    "#74\n",
    "n = input()\n",
    "n = ord(n)\n",
    "\n",
    "for i in range(97,n+1):\n",
    "    print(chr(i),end=' ')"
   ]
  },
  {
   "cell_type": "code",
   "execution_count": null,
   "id": "b180747f-128c-457a-a7e1-598451f2d642",
   "metadata": {},
   "outputs": [],
   "source": [
    "#75\n",
    "n = int(input())\n",
    "i=0\n",
    "while i!=n+1:\n",
    "    print(i)\n",
    "    i+=1\n",
    "    "
   ]
  },
  {
   "cell_type": "code",
   "execution_count": 11,
   "id": "4154208d-f39b-4415-96e0-d89418353f6d",
   "metadata": {},
   "outputs": [
    {
     "name": "stdin",
     "output_type": "stream",
     "text": [
      " 4\n"
     ]
    },
    {
     "name": "stdout",
     "output_type": "stream",
     "text": [
      "0\n",
      "1\n",
      "2\n",
      "3\n",
      "4\n"
     ]
    }
   ],
   "source": [
    "#76\n",
    "n = int(input())\n",
    "for i in range(0,n+1):\n",
    "    print(i)"
   ]
  },
  {
   "cell_type": "code",
   "execution_count": 15,
   "id": "0ce5023b-88f1-4f42-9e1c-b677fec25fe8",
   "metadata": {},
   "outputs": [
    {
     "name": "stdin",
     "output_type": "stream",
     "text": [
      " 5\n"
     ]
    },
    {
     "name": "stdout",
     "output_type": "stream",
     "text": [
      "6\n"
     ]
    }
   ],
   "source": [
    "#77\n",
    "n = int(input())\n",
    "hap=0\n",
    "for i in range(1,n+1):\n",
    "    if i%2==0:\n",
    "        hap+=i\n",
    "print(hap)        "
   ]
  },
  {
   "cell_type": "code",
   "execution_count": 18,
   "id": "f8e0e91e-8db0-4544-b4d7-67e3a2b010ed",
   "metadata": {},
   "outputs": [
    {
     "name": "stdin",
     "output_type": "stream",
     "text": [
      " x\n"
     ]
    },
    {
     "name": "stdout",
     "output_type": "stream",
     "text": [
      "x\n"
     ]
    },
    {
     "name": "stdin",
     "output_type": "stream",
     "text": [
      " b\n"
     ]
    },
    {
     "name": "stdout",
     "output_type": "stream",
     "text": [
      "b\n"
     ]
    },
    {
     "name": "stdin",
     "output_type": "stream",
     "text": [
      " k\n"
     ]
    },
    {
     "name": "stdout",
     "output_type": "stream",
     "text": [
      "k\n"
     ]
    },
    {
     "name": "stdin",
     "output_type": "stream",
     "text": [
      " d\n"
     ]
    },
    {
     "name": "stdout",
     "output_type": "stream",
     "text": [
      "d\n"
     ]
    },
    {
     "name": "stdin",
     "output_type": "stream",
     "text": [
      " i\n"
     ]
    },
    {
     "name": "stdout",
     "output_type": "stream",
     "text": [
      "i\n"
     ]
    },
    {
     "name": "stdin",
     "output_type": "stream",
     "text": [
      " q\n"
     ]
    },
    {
     "name": "stdout",
     "output_type": "stream",
     "text": [
      "q\n"
     ]
    }
   ],
   "source": [
    "#78\n",
    "while True:\n",
    "    n = input()\n",
    "    print(n)\n",
    "    if n == 'q':\n",
    "        break"
   ]
  },
  {
   "cell_type": "code",
   "execution_count": 30,
   "id": "8a167a6a-68be-41e5-8766-adda434f0b5b",
   "metadata": {},
   "outputs": [
    {
     "name": "stdin",
     "output_type": "stream",
     "text": [
      " 54\n"
     ]
    },
    {
     "name": "stdout",
     "output_type": "stream",
     "text": [
      "10\n"
     ]
    }
   ],
   "source": [
    "#79\n",
    "n = int(input())\n",
    "hap = 0\n",
    "\n",
    "for i in range(1,n):\n",
    "    hap +=i\n",
    "    if hap >= n:\n",
    "        break\n",
    "print(i)\n"
   ]
  },
  {
   "cell_type": "code",
   "execution_count": 32,
   "id": "ab3aec31-1424-4957-97fd-f683c8871b8d",
   "metadata": {},
   "outputs": [
    {
     "name": "stdin",
     "output_type": "stream",
     "text": [
      " 2 3\n"
     ]
    },
    {
     "name": "stdout",
     "output_type": "stream",
     "text": [
      "1 1\n",
      "1 2\n",
      "1 3\n",
      "2 1\n",
      "2 2\n",
      "2 3\n"
     ]
    }
   ],
   "source": [
    "#80\n",
    "n, m = input().split()\n",
    "n = int(n)\n",
    "m = int(m)\n",
    "for i in range(1,n+1):\n",
    "    for j in range(1,m+1):\n",
    "        print(f\"{i} {j}\")"
   ]
  },
  {
   "cell_type": "code",
   "execution_count": 43,
   "id": "c68f9348-ed15-41e9-b6d4-45bee077fd13",
   "metadata": {},
   "outputs": [
    {
     "name": "stdin",
     "output_type": "stream",
     "text": [
      " B\n"
     ]
    },
    {
     "name": "stdout",
     "output_type": "stream",
     "text": [
      "B*1=B\n",
      "B*2=16\n",
      "B*3=21\n",
      "B*4=2C\n",
      "B*5=37\n",
      "B*6=42\n",
      "B*7=4D\n",
      "B*8=58\n",
      "B*9=63\n",
      "B*A=6E\n",
      "B*B=79\n",
      "B*C=84\n",
      "B*D=8F\n",
      "B*E=9A\n",
      "B*F=A5\n"
     ]
    }
   ],
   "source": [
    "#81\n",
    "n = input()\n",
    "\n",
    "n = int(n,16)\n",
    "i = 1\n",
    "while True:\n",
    "    print('%X'%n, '*%X'%i, '=%X'%(n*i), sep='')\n",
    "    if i ==15:\n",
    "        break\n",
    "    i+=1"
   ]
  },
  {
   "cell_type": "code",
   "execution_count": 44,
   "id": "cd239251-d389-4b56-bd16-d51d324c2cd5",
   "metadata": {},
   "outputs": [
    {
     "name": "stdin",
     "output_type": "stream",
     "text": [
      " 9\n"
     ]
    },
    {
     "name": "stdout",
     "output_type": "stream",
     "text": [
      "1 2 X 4 5 X 7 8 X "
     ]
    }
   ],
   "source": [
    "#82\n",
    "n = int(input())\n",
    "for i in range(1,n+1):\n",
    "    if i%10 ==3:\n",
    "        print(\"X\", end=' ')\n",
    "    elif i%10 ==6:\n",
    "        print(\"X\", end=' ')\n",
    "    elif i%10 ==9:\n",
    "        print(\"X\", end=' ')\n",
    "    else:\n",
    "        print(i, end = ' ')"
   ]
  },
  {
   "cell_type": "code",
   "execution_count": 48,
   "id": "002de1db-0f98-48d6-a3ec-a0619d41fd64",
   "metadata": {},
   "outputs": [
    {
     "name": "stdin",
     "output_type": "stream",
     "text": [
      " 2 2 2\n"
     ]
    },
    {
     "name": "stdout",
     "output_type": "stream",
     "text": [
      "0 0 0\n",
      "0 0 1\n",
      "0 1 0\n",
      "0 1 1\n",
      "1 0 0\n",
      "1 0 1\n",
      "1 1 0\n",
      "1 1 1\n",
      "8\n"
     ]
    }
   ],
   "source": [
    "#83\n",
    "r,g,b=input().split()\n",
    "cnt=0\n",
    "\n",
    "for i in range(int(r)):\n",
    "    for j in range(int(g)):\n",
    "        for k in range(int(b)):\n",
    "            print(f\"{i} {j} {k}\")\n",
    "            cnt+=1\n",
    "print(cnt)"
   ]
  },
  {
   "cell_type": "code",
   "execution_count": 54,
   "id": "def3d609-aa4e-4ce7-b21d-43947832de65",
   "metadata": {},
   "outputs": [
    {
     "name": "stdin",
     "output_type": "stream",
     "text": [
      " 44100 16 2 10\n"
     ]
    },
    {
     "name": "stdout",
     "output_type": "stream",
     "text": [
      "1.7 MB\n"
     ]
    }
   ],
   "source": [
    "#84\n",
    "h,b,c,s=input().split()\n",
    "h=int(h)\n",
    "b=int(b)\n",
    "c=int(c)\n",
    "s=int(s)\n",
    "a=(h*b*c*s)/8/1024/1024\n",
    "print(f\"{round(a,1)} MB\")"
   ]
  },
  {
   "cell_type": "code",
   "execution_count": 65,
   "id": "31598d7d-8d53-475f-8a4d-a575b53234c2",
   "metadata": {},
   "outputs": [
    {
     "name": "stdin",
     "output_type": "stream",
     "text": [
      " 100 100 4\n"
     ]
    },
    {
     "name": "stdout",
     "output_type": "stream",
     "text": [
      "0.00 MB\n"
     ]
    }
   ],
   "source": [
    "#85\n",
    "w, h, b=input().split()\n",
    "w = int(w)\n",
    "h = int(h)\n",
    "b = int(b)\n",
    "a = (w* h * b) /8/1024/1024\n",
    "a = round(a,2)\n",
    "print('%.2f MB'%a)"
   ]
  },
  {
   "cell_type": "code",
   "execution_count": null,
   "id": "214a0ab1-0159-4465-85c7-24a3b069bc24",
   "metadata": {},
   "outputs": [],
   "source": [
    "#86\n",
    "n = int(input())\n",
    "\n",
    "s = 0\n",
    "c = 0 \n",
    "\n",
    "while True :\n",
    "    s += c\n",
    "    c += 1\n",
    "    if s>=n :\n",
    "        break\n",
    "print(s)\n"
   ]
  },
  {
   "cell_type": "code",
   "execution_count": 67,
   "id": "592e5547-988f-4fc4-a89a-d118f25083a8",
   "metadata": {},
   "outputs": [
    {
     "name": "stdin",
     "output_type": "stream",
     "text": [
      " 10\n"
     ]
    },
    {
     "name": "stdout",
     "output_type": "stream",
     "text": [
      "1 2 4 5 7 8 10 "
     ]
    }
   ],
   "source": [
    "#87\n",
    "n = int(input())\n",
    "\n",
    "for i in range(1,n+1):\n",
    "    if i%3==0:\n",
    "        continue\n",
    "    print(i,end=' ')"
   ]
  },
  {
   "cell_type": "code",
   "execution_count": 7,
   "id": "558f9b06-5692-43ff-a0c2-0d9fe88b73f2",
   "metadata": {},
   "outputs": [
    {
     "name": "stdin",
     "output_type": "stream",
     "text": [
      " 1 3 5\n"
     ]
    },
    {
     "name": "stdout",
     "output_type": "stream",
     "text": [
      "13\n"
     ]
    }
   ],
   "source": [
    "#88\n",
    "a,d,n = input().split()\n",
    "a = int(a)\n",
    "d = int(d)\n",
    "n = int(n)\n",
    "result = a\n",
    "for i in range(n-1):\n",
    "    result += d\n",
    "    \n",
    "print(result)\n",
    "    "
   ]
  },
  {
   "cell_type": "code",
   "execution_count": 11,
   "id": "3b2338ab-af93-40cc-9792-b4a1965f0213",
   "metadata": {},
   "outputs": [
    {
     "name": "stdin",
     "output_type": "stream",
     "text": [
      " 2 3 7\n"
     ]
    },
    {
     "name": "stdout",
     "output_type": "stream",
     "text": [
      "1458\n"
     ]
    }
   ],
   "source": [
    "#89\n",
    "a,d,n = input().split()\n",
    "a = int(a)\n",
    "d = int(d)\n",
    "n = int(n)\n",
    "result = a\n",
    "for i in range(n-1):\n",
    "    result *= d\n",
    "    \n",
    "print(result)\n",
    "    "
   ]
  },
  {
   "cell_type": "code",
   "execution_count": 12,
   "id": "3a5faeb9-50a0-4483-be94-2d5cc15942ac",
   "metadata": {},
   "outputs": [
    {
     "name": "stdin",
     "output_type": "stream",
     "text": [
      " 1 -2 1 8\n"
     ]
    },
    {
     "name": "stdout",
     "output_type": "stream",
     "text": [
      "-85\n"
     ]
    }
   ],
   "source": [
    "#90\n",
    "a,m,d,n = input().split()\n",
    "a = int(a)\n",
    "m = int(m)\n",
    "n = int(n)\n",
    "d = int(d)\n",
    "result = a\n",
    "for i in range(n-1):\n",
    "    result = result * m + d\n",
    "    \n",
    "print(result)\n",
    "    "
   ]
  },
  {
   "cell_type": "code",
   "execution_count": 13,
   "id": "d05c87a5-4e11-4f37-8042-30bdbea85c04",
   "metadata": {},
   "outputs": [
    {
     "name": "stdin",
     "output_type": "stream",
     "text": [
      " 3 7 9\n"
     ]
    },
    {
     "name": "stdout",
     "output_type": "stream",
     "text": [
      "63\n"
     ]
    }
   ],
   "source": [
    "#91\n",
    "a,b,c=input().split()\n",
    "a = int(a)\n",
    "b = int(b)\n",
    "c = int(c)\n",
    "\n",
    "d = 1\n",
    "while d%a!=0 or d%b!=0 or d%c!=0 :\n",
    "    d += 1\n",
    "print(d)"
   ]
  },
  {
   "cell_type": "code",
   "execution_count": null,
   "id": "b9320443-ab24-4fc5-8a4f-c6203cb7ad5d",
   "metadata": {},
   "outputs": [],
   "source": [
    "#92\n",
    "n = int(input())\n",
    "a = input().split()\n",
    "\n",
    "for i in range(n):\n",
    "    a[i]=int(a[i])\n",
    "    \n",
    "d = []\n",
    "\n",
    "for i in range(24):\n",
    "    d.append(0)\n",
    "    \n",
    "for i in range(n):\n",
    "    d[a[i]]+=1\n",
    "    \n",
    "for i in range(1,24):\n",
    "    print(d[i],end=' ')\n"
   ]
  },
  {
   "cell_type": "code",
   "execution_count": null,
   "id": "f334dbbb-1daf-4d28-bc96-cffe02cce5be",
   "metadata": {},
   "outputs": [],
   "source": [
    "#93\n",
    "n = int(input())\n",
    "a = input().split()\n",
    "\n",
    "for i in range(n):\n",
    "    a[i]=int(a[i])\n",
    "    \n",
    "for i in range(n):\n",
    "    print(a[n-i-1],end=' ')\n"
   ]
  },
  {
   "cell_type": "code",
   "execution_count": 18,
   "id": "ca43135e-3f1c-4a97-a6fe-be3b2a0952ea",
   "metadata": {},
   "outputs": [
    {
     "name": "stdin",
     "output_type": "stream",
     "text": [
      " 10\n",
      " 10 4 2 3 6 6 7 9 8 5\n"
     ]
    },
    {
     "name": "stdout",
     "output_type": "stream",
     "text": [
      "2\n"
     ]
    }
   ],
   "source": [
    "#94\n",
    "n= int(input())\n",
    "a = input().split()\n",
    "\n",
    "for i in range(n):\n",
    "    a[i]=int(a[i])\n",
    "    \n",
    "\n",
    "print(min(a))"
   ]
  },
  {
   "cell_type": "code",
   "execution_count": 96,
   "id": "10863d38-a9a2-4bf1-b64f-f1703176679a",
   "metadata": {},
   "outputs": [
    {
     "name": "stdin",
     "output_type": "stream",
     "text": [
      " 3\n",
      " 1 1\n",
      " 2 2\n",
      " 3 3\n"
     ]
    },
    {
     "name": "stdout",
     "output_type": "stream",
     "text": [
      "0 0 0 0 0 0 0 0 0 0 0 0 0 0 0 0 0 0 0 0 \n",
      "0 1 0 0 0 0 0 0 0 0 0 0 0 0 0 0 0 0 0 0 \n",
      "0 0 1 0 0 0 0 0 0 0 0 0 0 0 0 0 0 0 0 0 \n",
      "0 0 0 1 0 0 0 0 0 0 0 0 0 0 0 0 0 0 0 0 \n",
      "0 0 0 0 0 0 0 0 0 0 0 0 0 0 0 0 0 0 0 0 \n",
      "0 0 0 0 0 0 0 0 0 0 0 0 0 0 0 0 0 0 0 0 \n",
      "0 0 0 0 0 0 0 0 0 0 0 0 0 0 0 0 0 0 0 0 \n",
      "0 0 0 0 0 0 0 0 0 0 0 0 0 0 0 0 0 0 0 0 \n",
      "0 0 0 0 0 0 0 0 0 0 0 0 0 0 0 0 0 0 0 0 \n",
      "0 0 0 0 0 0 0 0 0 0 0 0 0 0 0 0 0 0 0 0 \n",
      "0 0 0 0 0 0 0 0 0 0 0 0 0 0 0 0 0 0 0 0 \n",
      "0 0 0 0 0 0 0 0 0 0 0 0 0 0 0 0 0 0 0 0 \n",
      "0 0 0 0 0 0 0 0 0 0 0 0 0 0 0 0 0 0 0 0 \n",
      "0 0 0 0 0 0 0 0 0 0 0 0 0 0 0 0 0 0 0 0 \n",
      "0 0 0 0 0 0 0 0 0 0 0 0 0 0 0 0 0 0 0 0 \n",
      "0 0 0 0 0 0 0 0 0 0 0 0 0 0 0 0 0 0 0 0 \n",
      "0 0 0 0 0 0 0 0 0 0 0 0 0 0 0 0 0 0 0 0 \n",
      "0 0 0 0 0 0 0 0 0 0 0 0 0 0 0 0 0 0 0 0 \n",
      "0 0 0 0 0 0 0 0 0 0 0 0 0 0 0 0 0 0 0 0 \n",
      "0 0 0 0 0 0 0 0 0 0 0 0 0 0 0 0 0 0 0 0 \n"
     ]
    }
   ],
   "source": [
    "#95\n",
    "n = int(input())\n",
    "d = []\n",
    "\n",
    "for i in range(20):\n",
    "    d.append([])\n",
    "    for j in range(20):\n",
    "        d[i].append(0)\n",
    "\n",
    "for i in range(n) :\n",
    "    x, y = input().split()\n",
    "    x = int(x)\n",
    "    y = int(y)\n",
    "    d[int(x)][int(y)] = 1\n",
    "        \n",
    "for i in range(1,20):\n",
    "    for j in range(1,20):\n",
    "        print(d[i][j],end=' ')\n",
    "    print()\n"
   ]
  },
  {
   "cell_type": "code",
   "execution_count": 105,
   "id": "4b21126c-d273-459c-b525-4a3db95236ad",
   "metadata": {},
   "outputs": [
    {
     "name": "stdin",
     "output_type": "stream",
     "text": [
      " 0 0 0 0 0 0 0 0 0 1 0 1 0 0 0 0 0 0 0\n",
      " 0 0 0 0 0 0 0 0 0 1 0 1 0 0 0 0 0 0 0\n",
      " 0 0 0 0 0 0 0 0 0 1 0 1 0 0 0 0 0 0 0\n",
      " 0 0 0 0 0 0 0 0 0 1 0 1 0 0 0 0 0 0 0\n",
      " 0 0 0 0 0 0 0 0 0 1 0 1 0 0 0 0 0 0 0\n",
      " 0 0 0 0 0 0 0 0 0 1 0 1 0 0 0 0 0 0 0\n",
      " 0 0 0 0 0 0 0 0 0 1 0 1 0 0 0 0 0 0 0\n",
      " 0 0 0 0 0 0 0 0 0 1 0 1 0 0 0 0 0 0 0\n",
      " 0 0 0 0 0 0 0 0 0 1 0 1 0 0 0 0 0 0 0\n",
      " 1 1 1 1 1 1 1 1 1 1 1 1 1 1 1 1 1 1 1\n",
      " 0 0 0 0 0 0 0 0 0 1 0 1 0 0 0 0 0 0 0\n",
      " 1 1 1 1 1 1 1 1 1 1 1 1 1 1 1 1 1 1 1\n",
      " 0 0 0 0 0 0 0 0 0 1 0 1 0 0 0 0 0 0 0\n",
      " 0 0 0 0 0 0 0 0 0 1 0 1 0 0 0 0 0 0 0\n",
      " 0 0 0 0 0 0 0 0 0 1 0 1 0 0 0 0 0 0 0\n",
      " 0 0 0 0 0 0 0 0 0 1 0 1 0 0 0 0 0 0 0\n",
      " 0 0 0 0 0 0 0 0 0 1 0 1 0 0 0 0 0 0 0\n",
      " 0 0 0 0 0 0 0 0 0 1 0 1 0 0 0 0 0 0 0\n",
      " 0 0 0 0 0 0 0 0 0 1 0 1 0 0 0 0 0 0 0\n",
      " 2\n",
      " 10 10\n",
      " 12 12\n"
     ]
    },
    {
     "name": "stdout",
     "output_type": "stream",
     "text": [
      "0 0 0 0 0 0 0 0 0 0 0 0 0 0 0 0 0 0 0 \n",
      "0 0 0 0 0 0 0 0 0 0 0 0 0 0 0 0 0 0 0 \n",
      "0 0 0 0 0 0 0 0 0 0 0 0 0 0 0 0 0 0 0 \n",
      "0 0 0 0 0 0 0 0 0 0 0 0 0 0 0 0 0 0 0 \n",
      "0 0 0 0 0 0 0 0 0 0 0 0 0 0 0 0 0 0 0 \n",
      "0 0 0 0 0 0 0 0 0 0 0 0 0 0 0 0 0 0 0 \n",
      "0 0 0 0 0 0 0 0 0 0 0 0 0 0 0 0 0 0 0 \n",
      "0 0 0 0 0 0 0 0 0 0 0 0 0 0 0 0 0 0 0 \n",
      "0 0 0 0 0 0 0 0 0 0 0 0 0 0 0 0 0 0 0 \n",
      "0 0 0 0 0 0 0 0 0 1 0 1 0 0 0 0 0 0 0 \n",
      "0 0 0 0 0 0 0 0 0 0 0 0 0 0 0 0 0 0 0 \n",
      "0 0 0 0 0 0 0 0 0 1 0 1 0 0 0 0 0 0 0 \n",
      "0 0 0 0 0 0 0 0 0 0 0 0 0 0 0 0 0 0 0 \n",
      "0 0 0 0 0 0 0 0 0 0 0 0 0 0 0 0 0 0 0 \n",
      "0 0 0 0 0 0 0 0 0 0 0 0 0 0 0 0 0 0 0 \n",
      "0 0 0 0 0 0 0 0 0 0 0 0 0 0 0 0 0 0 0 \n",
      "0 0 0 0 0 0 0 0 0 0 0 0 0 0 0 0 0 0 0 \n",
      "0 0 0 0 0 0 0 0 0 0 0 0 0 0 0 0 0 0 0 \n",
      "0 0 0 0 0 0 0 0 0 0 0 0 0 0 0 0 0 0 0 \n"
     ]
    }
   ],
   "source": [
    "#96\n",
    "d = []\n",
    "for i in range(19):\n",
    "    d.append([])\n",
    "    a = input().split()\n",
    "    for j in range(19):\n",
    "        d[i].append(int(a[j]))\n",
    "\n",
    "n = int(input())\n",
    "for i in range(n) :\n",
    "    x,y=input().split()\n",
    "    for j in range(19) :\n",
    "        if d[j][int(y)-1]==0 :\n",
    "            d[j][int(y)-1]=1\n",
    "        else :\n",
    "            d[j][int(y)-1]=0\n",
    "\n",
    "        if d[int(x)-1][j]==0 :\n",
    "            d[int(x)-1][j]=1\n",
    "        else :\n",
    "            d[int(x)-1][j]=0\n",
    "            \n",
    "            \n",
    "for i in range(19):\n",
    "    for j in range(19):\n",
    "        print(d[i][j],end=' ')\n",
    "    print()"
   ]
  },
  {
   "cell_type": "code",
   "execution_count": null,
   "id": "3fd80729-27fc-4a5f-a1dc-d414673c90b5",
   "metadata": {},
   "outputs": [],
   "source": [
    "#97\n",
    "a , b = input().split()\n",
    "a = int(a)\n",
    "b = int(b)\n",
    "n = int(input())\n",
    "\n",
    "k = []\n",
    "for i in range(a):\n",
    "    k.append([])   \n",
    "    for j in range(b):\n",
    "        k[i].append(0)\n",
    "\n",
    "\n",
    "for _ in range(n):\n",
    "    l,d,x,y = input().split()\n",
    "    l = int(l)\n",
    "    d = int(d)\n",
    "    x = int(x)\n",
    "    y = int(y)\n",
    "    for i in range(a):\n",
    "        for j in range(b):\n",
    "            if d == 0 :\n",
    "                f = 0\n",
    "                while True:\n",
    "                    if l == f:\n",
    "                        break\n",
    "                    k[x-1][y+j-1]=1\n",
    "                    j+=1\n",
    "                    f+=1\n",
    "                break\n",
    "            else :\n",
    "                f = 0\n",
    "                while True:\n",
    "                    if l == f:\n",
    "                        break\n",
    "                    k[x-1+j][y-1]=1\n",
    "                    j+=1\n",
    "                    f+=1\n",
    "                break\n",
    "                    \n",
    "                    \n",
    "\n",
    "for i in range(a):\n",
    "    for j in range(b):\n",
    "        print(k[i][j],end = ' ')\n",
    "    print()\n"
   ]
  },
  {
   "cell_type": "code",
   "execution_count": 8,
   "id": "81b75c02-80b4-4070-88a1-c1bd59137fd1",
   "metadata": {},
   "outputs": [
    {
     "name": "stdin",
     "output_type": "stream",
     "text": [
      " 1 1 1 1 1 1 1 1 1 1\n",
      " 1 0 0 1 0 0 0 0 0 1\n",
      " 1 0 0 1 1 1 0 0 0 1\n",
      " 1 0 0 0 0 0 0 1 0 1\n",
      " 1 0 0 0 0 0 0 1 0 1\n",
      " 1 0 0 0 0 1 0 1 0 1\n",
      " 1 0 0 0 0 1 2 1 0 1\n",
      " 1 0 0 0 0 1 0 0 0 1\n",
      " 1 0 0 0 0 0 0 0 0 1\n",
      " 1 1 1 1 1 1 1 1 1 1\n"
     ]
    },
    {
     "name": "stdout",
     "output_type": "stream",
     "text": [
      "1 1 1 1 1 1 1 1 1 1 \n",
      "1 9 9 1 0 0 0 0 0 1 \n",
      "1 0 9 1 1 1 0 0 0 1 \n",
      "1 0 9 9 9 9 9 1 0 1 \n",
      "1 0 0 0 0 0 9 1 0 1 \n",
      "1 0 0 0 0 1 9 1 0 1 \n",
      "1 0 0 0 0 1 9 1 0 1 \n",
      "1 0 0 0 0 1 0 0 0 1 \n",
      "1 0 0 0 0 0 0 0 0 1 \n",
      "1 1 1 1 1 1 1 1 1 1 \n"
     ]
    }
   ],
   "source": [
    "#98\n",
    "k = []\n",
    "for i in range(10):\n",
    "    k.append([])\n",
    "    a = input().split()\n",
    "    for j in range(10):\n",
    "        k[i].append(int(a[j]))\n",
    "\n",
    "j=1\n",
    "for i in range(1,9):\n",
    "    while True:\n",
    "        if k[i][j]==0:\n",
    "            k[i][j]=9\n",
    "        if k[i][j+1]==1:\n",
    "            break\n",
    "        if k[i][j+1]==2:\n",
    "            k[i][j+1]=9\n",
    "            break\n",
    "        \n",
    "        j+=1\n",
    "    if k[i][j+1]==2:\n",
    "        break\n",
    "            \n",
    "    if k[i+1][j]==2:\n",
    "        k[i+1][j]=9\n",
    "        break\n",
    "    \n",
    "\n",
    "for i in range(10):\n",
    "    for j in range(10):\n",
    "        print(k[i][j],end = ' ')\n",
    "    print()"
   ]
  },
  {
   "cell_type": "code",
   "execution_count": null,
   "id": "dcd91388-d4a4-4689-944a-8385671a7eee",
   "metadata": {},
   "outputs": [],
   "source": []
  }
 ],
 "metadata": {
  "kernelspec": {
   "display_name": "Python 3 (ipykernel)",
   "language": "python",
   "name": "python3"
  },
  "language_info": {
   "codemirror_mode": {
    "name": "ipython",
    "version": 3
   },
   "file_extension": ".py",
   "mimetype": "text/x-python",
   "name": "python",
   "nbconvert_exporter": "python",
   "pygments_lexer": "ipython3",
   "version": "3.9.7"
  }
 },
 "nbformat": 4,
 "nbformat_minor": 5
}
