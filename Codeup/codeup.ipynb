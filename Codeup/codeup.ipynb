{
 "cells": [
  {
   "cell_type": "code",
   "execution_count": 2,
   "id": "f55e1285-6c02-4bdb-a888-86740b74a78f",
   "metadata": {},
   "outputs": [
    {
     "name": "stdin",
     "output_type": "stream",
     "text": [
      " a\n"
     ]
    },
    {
     "name": "stdout",
     "output_type": "stream",
     "text": [
      "b\n"
     ]
    }
   ],
   "source": [
    "n = ord(input())\n",
    "print(chr(n+1))"
   ]
  },
  {
   "cell_type": "code",
   "execution_count": 3,
   "id": "e1c519b8-4763-48e5-9053-971671b4d999",
   "metadata": {},
   "outputs": [
    {
     "name": "stdin",
     "output_type": "stream",
     "text": [
      " a\n"
     ]
    },
    {
     "name": "stdout",
     "output_type": "stream",
     "text": [
      "b\n"
     ]
    }
   ],
   "source": [
    "n1 = input()\n",
    "n2 = ord(n1)+1\n",
    "print(chr(n2))"
   ]
  },
  {
   "cell_type": "code",
   "execution_count": 12,
   "id": "5803c455-c781-425e-90e8-84d3bd2f2774",
   "metadata": {},
   "outputs": [
    {
     "name": "stdin",
     "output_type": "stream",
     "text": [
      " love 3\n"
     ]
    },
    {
     "name": "stdout",
     "output_type": "stream",
     "text": [
      "lovelovelove\n"
     ]
    }
   ],
   "source": [
    "w, n = input().split()\n",
    "n = int(n)\n",
    "print(w*n)"
   ]
  },
  {
   "cell_type": "code",
   "execution_count": 14,
   "id": "d5f6bc6b-92ed-4ae3-9286-10746062da36",
   "metadata": {},
   "outputs": [
    {
     "name": "stdin",
     "output_type": "stream",
     "text": [
      " 3\n",
      " i love u\n"
     ]
    },
    {
     "name": "stdout",
     "output_type": "stream",
     "text": [
      "i love ui love ui love u\n"
     ]
    }
   ],
   "source": [
    "n = int(input())\n",
    "w = input()\n",
    "print(n * w)"
   ]
  },
  {
   "cell_type": "code",
   "execution_count": 16,
   "id": "1980b134-1361-4b8a-bf49-7fc252088abf",
   "metadata": {},
   "outputs": [
    {
     "name": "stdin",
     "output_type": "stream",
     "text": [
      " 2 10\n"
     ]
    },
    {
     "name": "stdout",
     "output_type": "stream",
     "text": [
      "1024\n"
     ]
    }
   ],
   "source": [
    "a, b = input().split()\n",
    "c = int(a)** int(b)\n",
    "print(c)"
   ]
  },
  {
   "cell_type": "code",
   "execution_count": 17,
   "id": "0279e939-c4c5-4ae1-95b0-d2dc5bfa1635",
   "metadata": {},
   "outputs": [
    {
     "name": "stdin",
     "output_type": "stream",
     "text": [
      " 4.0 2.0\n"
     ]
    },
    {
     "name": "stdout",
     "output_type": "stream",
     "text": [
      "16.0\n"
     ]
    }
   ],
   "source": [
    "a, b = input().split()\n",
    "c = float(a) ** float(b)\n",
    "print(c)"
   ]
  },
  {
   "cell_type": "code",
   "execution_count": 18,
   "id": "798b2025-bc77-48f8-ac67-7d29d659d364",
   "metadata": {},
   "outputs": [
    {
     "name": "stdin",
     "output_type": "stream",
     "text": [
      " 10 3\n"
     ]
    },
    {
     "name": "stdout",
     "output_type": "stream",
     "text": [
      "3\n"
     ]
    }
   ],
   "source": [
    "a, b = input().split()\n",
    "print(int(a)//int(b))"
   ]
  },
  {
   "cell_type": "code",
   "execution_count": 25,
   "id": "fc42db8c-b369-4c8c-8bea-7c81c615eaa2",
   "metadata": {},
   "outputs": [
    {
     "name": "stdin",
     "output_type": "stream",
     "text": [
      " 10 3\n"
     ]
    },
    {
     "name": "stdout",
     "output_type": "stream",
     "text": [
      "1\n"
     ]
    }
   ],
   "source": [
    "a, b = input().split()\n",
    "print(int(a)%int(b))"
   ]
  },
  {
   "cell_type": "code",
   "execution_count": 26,
   "id": "ff48f703-1e1f-4432-9a6f-e27345b0a3af",
   "metadata": {},
   "outputs": [
    {
     "name": "stdin",
     "output_type": "stream",
     "text": [
      " 3.141592\n"
     ]
    },
    {
     "name": "stdout",
     "output_type": "stream",
     "text": [
      "3.14\n"
     ]
    }
   ],
   "source": [
    "a = float(input())\n",
    "print(\"%2.2f\"%a)"
   ]
  },
  {
   "cell_type": "code",
   "execution_count": 33,
   "id": "bca138df-cf51-4bff-948f-5185c4faa4e9",
   "metadata": {},
   "outputs": [
    {
     "name": "stdin",
     "output_type": "stream",
     "text": [
      " 10.0 3.0\n"
     ]
    },
    {
     "name": "stdout",
     "output_type": "stream",
     "text": [
      "3.333\n"
     ]
    }
   ],
   "source": [
    "f1, f2 = input().split()\n",
    "print(\"%4.3f\"%(float(f1)/float(f2)))"
   ]
  },
  {
   "cell_type": "code",
   "execution_count": 34,
   "id": "a8925143-7c11-4eda-b45d-2b4eb707cb85",
   "metadata": {},
   "outputs": [
    {
     "name": "stdin",
     "output_type": "stream",
     "text": [
      " 10 3\n"
     ]
    },
    {
     "name": "stdout",
     "output_type": "stream",
     "text": [
      "13\n",
      "7\n",
      "30\n",
      "3\n",
      "1\n",
      "3.33\n"
     ]
    }
   ],
   "source": [
    "a, b = input().split()\n",
    "a = int(a)\n",
    "b = int(b)\n",
    "print(a+b)\n",
    "print(a-b)\n",
    "print(a*b)\n",
    "print(a//b)\n",
    "print(a%b)\n",
    "print(\"%2.2f\"%(a/b))"
   ]
  },
  {
   "cell_type": "code",
   "execution_count": 35,
   "id": "6f035cb5-7ea6-4abe-a543-1d010fc1949a",
   "metadata": {},
   "outputs": [
    {
     "name": "stdin",
     "output_type": "stream",
     "text": [
      " 1 2 3\n"
     ]
    },
    {
     "name": "stdout",
     "output_type": "stream",
     "text": [
      "6 2.00\n"
     ]
    }
   ],
   "source": [
    "a, b, c = input().split()\n",
    "a= int(a)\n",
    "b= int(b)\n",
    "c= int(c)\n",
    "print(\"%d %.2f\"%(a+b+c,(a+b+c)/3))"
   ]
  },
  {
   "cell_type": "code",
   "execution_count": 5,
   "id": "603dbf3c-d585-4061-b0c6-a9cd62ee0871",
   "metadata": {},
   "outputs": [
    {
     "name": "stdin",
     "output_type": "stream",
     "text": [
      " 1024\n"
     ]
    },
    {
     "name": "stdout",
     "output_type": "stream",
     "text": [
      "2048\n"
     ]
    }
   ],
   "source": [
    "n = int(input())\n",
    "print(n<<1)"
   ]
  },
  {
   "cell_type": "code",
   "execution_count": 14,
   "id": "ad14b4b6-c12b-45f9-b0f9-5f92b6a29c14",
   "metadata": {},
   "outputs": [
    {
     "name": "stdin",
     "output_type": "stream",
     "text": [
      " 2 10\n"
     ]
    },
    {
     "name": "stdout",
     "output_type": "stream",
     "text": [
      "2048\n"
     ]
    }
   ],
   "source": [
    "a ,b = input().split()\n",
    "print(int(a)<<int(b))"
   ]
  },
  {
   "cell_type": "code",
   "execution_count": 17,
   "id": "a41c0563-9334-4b63-8626-94536525c564",
   "metadata": {},
   "outputs": [
    {
     "name": "stdin",
     "output_type": "stream",
     "text": [
      " 10 3\n"
     ]
    },
    {
     "name": "stdout",
     "output_type": "stream",
     "text": [
      "False\n"
     ]
    }
   ],
   "source": [
    "a ,b = input().split()\n",
    "a= int(a)\n",
    "b= int(b)\n",
    "if a<b:\n",
    "    print('True')\n",
    "else :\n",
    "    print('False')\n"
   ]
  },
  {
   "cell_type": "code",
   "execution_count": 18,
   "id": "f74c42cd-54cf-4236-8003-21a057b3f603",
   "metadata": {},
   "outputs": [
    {
     "name": "stdin",
     "output_type": "stream",
     "text": [
      " 0 0\n"
     ]
    },
    {
     "name": "stdout",
     "output_type": "stream",
     "text": [
      "True\n"
     ]
    }
   ],
   "source": [
    "a ,b = input().split()\n",
    "if a == b:\n",
    "    print('True')\n",
    "else: \n",
    "    print('False')"
   ]
  },
  {
   "cell_type": "code",
   "execution_count": 19,
   "id": "5b44213a-a91f-4dad-9525-317332959e3e",
   "metadata": {},
   "outputs": [
    {
     "name": "stdin",
     "output_type": "stream",
     "text": [
      " 0 -1\n"
     ]
    },
    {
     "name": "stdout",
     "output_type": "stream",
     "text": [
      "False\n"
     ]
    }
   ],
   "source": [
    "a ,b = input().split()\n",
    "a = int(a)\n",
    "b = int(b)\n",
    "\n",
    "print(a<=b)"
   ]
  },
  {
   "cell_type": "code",
   "execution_count": 20,
   "id": "3c169b81-1b65-47ba-a6c1-d2d5817608a9",
   "metadata": {},
   "outputs": [
    {
     "name": "stdin",
     "output_type": "stream",
     "text": [
      " 0 1\n"
     ]
    },
    {
     "name": "stdout",
     "output_type": "stream",
     "text": [
      "True\n"
     ]
    }
   ],
   "source": [
    "a ,b = input().split()\n",
    "a = int(a)\n",
    "b = int(b)\n",
    "\n",
    "print(a!=b)"
   ]
  },
  {
   "cell_type": "code",
   "execution_count": 21,
   "id": "3f223024-6e05-4348-9a0c-134b2862be47",
   "metadata": {},
   "outputs": [
    {
     "name": "stdin",
     "output_type": "stream",
     "text": [
      " 0\n"
     ]
    },
    {
     "name": "stdout",
     "output_type": "stream",
     "text": [
      "False\n"
     ]
    }
   ],
   "source": [
    "n = int(input())\n",
    "print(bool(n))"
   ]
  },
  {
   "cell_type": "code",
   "execution_count": 28,
   "id": "1ba2ab0f-5639-49e6-9f7d-3b61427a742f",
   "metadata": {},
   "outputs": [
    {
     "name": "stdin",
     "output_type": "stream",
     "text": [
      " 0 0\n"
     ]
    },
    {
     "name": "stdout",
     "output_type": "stream",
     "text": [
      "True\n"
     ]
    }
   ],
   "source": [
    "a,b = input().split()\n",
    "a = bool(int(a))\n",
    "b= bool(int(b))\n",
    "print(a==b)"
   ]
  },
  {
   "cell_type": "code",
   "execution_count": 30,
   "id": "3ce83b18-c090-402b-b9a8-f5bbaef96fe3",
   "metadata": {},
   "outputs": [
    {
     "name": "stdin",
     "output_type": "stream",
     "text": [
      " 0 0\n"
     ]
    },
    {
     "name": "stdout",
     "output_type": "stream",
     "text": [
      "True\n"
     ]
    }
   ],
   "source": [
    "a,b = input().split()\n",
    "a = bool(int(a))\n",
    "b= bool(int(b))\n",
    "print(not (a or b))"
   ]
  },
  {
   "cell_type": "code",
   "execution_count": 32,
   "id": "b1e45b7d-32cc-4344-8c80-8284422fad3c",
   "metadata": {},
   "outputs": [
    {
     "name": "stdin",
     "output_type": "stream",
     "text": [
      " 2\n"
     ]
    },
    {
     "name": "stdout",
     "output_type": "stream",
     "text": [
      "-3\n"
     ]
    }
   ],
   "source": [
    "a = int(input())\n",
    "print(~a)"
   ]
  },
  {
   "cell_type": "code",
   "execution_count": 39,
   "id": "e5cf4c04-7323-44c3-8a80-125a92c211d0",
   "metadata": {},
   "outputs": [
    {
     "name": "stdin",
     "output_type": "stream",
     "text": [
      " 3 5\n"
     ]
    },
    {
     "name": "stdout",
     "output_type": "stream",
     "text": [
      "1\n"
     ]
    }
   ],
   "source": [
    "a,b = input().split()\n",
    "a = int(a)\n",
    "b= int(b)\n",
    "\n",
    "print(a & b)"
   ]
  },
  {
   "cell_type": "code",
   "execution_count": 40,
   "id": "f88cebc9-3d50-4932-8689-fa501a7779df",
   "metadata": {},
   "outputs": [
    {
     "name": "stdin",
     "output_type": "stream",
     "text": [
      " 3 5\n"
     ]
    },
    {
     "name": "stdout",
     "output_type": "stream",
     "text": [
      "7\n"
     ]
    }
   ],
   "source": [
    "a,b = input().split()\n",
    "a = int(a)\n",
    "b= int(b)\n",
    "\n",
    "print(a | b)"
   ]
  },
  {
   "cell_type": "code",
   "execution_count": 41,
   "id": "7a70b971-7f5d-42f3-9b13-5a80af7ae772",
   "metadata": {},
   "outputs": [
    {
     "name": "stdin",
     "output_type": "stream",
     "text": [
      " 3 5\n"
     ]
    },
    {
     "name": "stdout",
     "output_type": "stream",
     "text": [
      "6\n"
     ]
    }
   ],
   "source": [
    "a,b = input().split()\n",
    "a = int(a)\n",
    "b= int(b)\n",
    "\n",
    "print(a ^ b)"
   ]
  },
  {
   "cell_type": "code",
   "execution_count": 45,
   "id": "8be7a6e2-b872-4772-977e-4ce95fba1aaa",
   "metadata": {},
   "outputs": [
    {
     "name": "stdin",
     "output_type": "stream",
     "text": [
      " 3 -1 5\n"
     ]
    },
    {
     "name": "stdout",
     "output_type": "stream",
     "text": [
      "-1\n"
     ]
    }
   ],
   "source": [
    "a,b,c  = input().split()\n",
    "a = int(a)\n",
    "b= int(b)\n",
    "c= int(c)\n",
    "d = (a if a<b else b) if ((a if a<b else b)<c) else c\n",
    "print(d)"
   ]
  },
  {
   "cell_type": "code",
   "execution_count": 49,
   "id": "49460752-c808-4649-8815-d9af5b2206c2",
   "metadata": {},
   "outputs": [
    {
     "name": "stdin",
     "output_type": "stream",
     "text": [
      " -123148\n"
     ]
    },
    {
     "name": "stdout",
     "output_type": "stream",
     "text": [
      "A\n"
     ]
    }
   ],
   "source": [
    "n = int(input())\n",
    "\n",
    "if n<0:\n",
    "    if n%2==0:\n",
    "        print('A')\n",
    "    else:\n",
    "        print('B')\n",
    "else:\n",
    "    if n%2==0:\n",
    "        print('C')\n",
    "    else:\n",
    "        print('D')"
   ]
  },
  {
   "cell_type": "code",
   "execution_count": 50,
   "id": "14b3bbc7-f633-426b-b02b-58b9035c9f61",
   "metadata": {},
   "outputs": [
    {
     "name": "stdin",
     "output_type": "stream",
     "text": [
      " 73\n"
     ]
    },
    {
     "name": "stdout",
     "output_type": "stream",
     "text": [
      "B\n"
     ]
    }
   ],
   "source": [
    "n = int(input())\n",
    "\n",
    "if n>=90:\n",
    "    print('A')\n",
    "elif n>=70:\n",
    "    print('B')\n",
    "elif n>=40:\n",
    "    print('C')\n",
    "else:\n",
    "    print('D')"
   ]
  },
  {
   "cell_type": "code",
   "execution_count": 51,
   "id": "936bca46-37a9-4cb7-8b3b-4d3071d8e078",
   "metadata": {},
   "outputs": [
    {
     "name": "stdin",
     "output_type": "stream",
     "text": [
      " A\n"
     ]
    },
    {
     "name": "stdout",
     "output_type": "stream",
     "text": [
      "best!!!\n"
     ]
    }
   ],
   "source": [
    "n = input()\n",
    "\n",
    "if n =='A':\n",
    "    print('best!!!')\n",
    "elif n =='B':\n",
    "    print('good!!')\n",
    "elif n =='C':\n",
    "    print('run!')\n",
    "elif n =='D':\n",
    "    print('slowly~')\n",
    "else:\n",
    "    print('what?')"
   ]
  },
  {
   "cell_type": "code",
   "execution_count": 53,
   "id": "725b796e-d1c7-4865-bbee-ab0425e6eaff",
   "metadata": {},
   "outputs": [
    {
     "name": "stdin",
     "output_type": "stream",
     "text": [
      " 12\n"
     ]
    },
    {
     "name": "stdout",
     "output_type": "stream",
     "text": [
      "winter\n"
     ]
    }
   ],
   "source": [
    "n = int(input())\n",
    "\n",
    "\n",
    "if n//3 ==1:\n",
    "    print('spring')\n",
    "elif n//3 ==2:\n",
    "    print('summer')\n",
    "elif n//3 ==3:\n",
    "    print('fall')\n",
    "else :\n",
    "    print('winter')"
   ]
  },
  {
   "cell_type": "code",
   "execution_count": null,
   "id": "9349d33d-9669-4f6a-95e2-f44dd1fa336c",
   "metadata": {},
   "outputs": [],
   "source": []
  }
 ],
 "metadata": {
  "kernelspec": {
   "display_name": "Python 3 (ipykernel)",
   "language": "python",
   "name": "python3"
  },
  "language_info": {
   "codemirror_mode": {
    "name": "ipython",
    "version": 3
   },
   "file_extension": ".py",
   "mimetype": "text/x-python",
   "name": "python",
   "nbconvert_exporter": "python",
   "pygments_lexer": "ipython3",
   "version": "3.9.7"
  }
 },
 "nbformat": 4,
 "nbformat_minor": 5
}
