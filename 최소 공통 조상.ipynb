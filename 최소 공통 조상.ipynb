{
 "cells": [
  {
   "cell_type": "markdown",
   "id": "b1961eb3",
   "metadata": {},
   "source": [
    "![](image/299.png)"
   ]
  },
  {
   "cell_type": "markdown",
   "id": "6fdef8a3",
   "metadata": {},
   "source": [
    "![](image/300.png)"
   ]
  },
  {
   "cell_type": "markdown",
   "id": "ffa828ee",
   "metadata": {},
   "source": [
    "![](image/301.png)"
   ]
  },
  {
   "cell_type": "markdown",
   "id": "b5a04783",
   "metadata": {},
   "source": [
    "![](image/302.png)"
   ]
  },
  {
   "cell_type": "markdown",
   "id": "48a73b57",
   "metadata": {},
   "source": [
    "![](image/303.png)"
   ]
  },
  {
   "cell_type": "markdown",
   "id": "4d4c241c",
   "metadata": {},
   "source": [
    "![](image/304.png)"
   ]
  },
  {
   "cell_type": "code",
   "execution_count": 1,
   "id": "d3ed2a7f",
   "metadata": {},
   "outputs": [
    {
     "ename": "KeyboardInterrupt",
     "evalue": "Interrupted by user",
     "output_type": "error",
     "traceback": [
      "\u001b[0;31m---------------------------------------------------------------------------\u001b[0m",
      "\u001b[0;31mKeyboardInterrupt\u001b[0m                         Traceback (most recent call last)",
      "\u001b[0;32m/var/folders/bb/9fd_283x46vgg_b_10chnt900000gn/T/ipykernel_47244/2524747135.py\u001b[0m in \u001b[0;36m<module>\u001b[0;34m\u001b[0m\n\u001b[1;32m      2\u001b[0m \u001b[0msys\u001b[0m\u001b[0;34m.\u001b[0m\u001b[0msetrecursionlimit\u001b[0m\u001b[0;34m(\u001b[0m\u001b[0mint\u001b[0m\u001b[0;34m(\u001b[0m\u001b[0;36m1e5\u001b[0m\u001b[0;34m)\u001b[0m\u001b[0;34m)\u001b[0m \u001b[0;31m# 런타임 오류를 피하기 위한 재귀 깊이 제한 설정\u001b[0m\u001b[0;34m\u001b[0m\u001b[0;34m\u001b[0m\u001b[0m\n\u001b[1;32m      3\u001b[0m \u001b[0;34m\u001b[0m\u001b[0m\n\u001b[0;32m----> 4\u001b[0;31m \u001b[0mn\u001b[0m \u001b[0;34m=\u001b[0m \u001b[0mint\u001b[0m\u001b[0;34m(\u001b[0m\u001b[0minput\u001b[0m\u001b[0;34m(\u001b[0m\u001b[0;34m)\u001b[0m\u001b[0;34m)\u001b[0m\u001b[0;34m\u001b[0m\u001b[0;34m\u001b[0m\u001b[0m\n\u001b[0m\u001b[1;32m      5\u001b[0m \u001b[0;34m\u001b[0m\u001b[0m\n\u001b[1;32m      6\u001b[0m \u001b[0mparent\u001b[0m \u001b[0;34m=\u001b[0m \u001b[0;34m[\u001b[0m\u001b[0;36m0\u001b[0m\u001b[0;34m]\u001b[0m \u001b[0;34m*\u001b[0m \u001b[0;34m(\u001b[0m\u001b[0mn\u001b[0m \u001b[0;34m+\u001b[0m \u001b[0;36m1\u001b[0m\u001b[0;34m)\u001b[0m \u001b[0;31m# 부모 노드 정보\u001b[0m\u001b[0;34m\u001b[0m\u001b[0;34m\u001b[0m\u001b[0m\n",
      "\u001b[0;32m~/opt/anaconda3/lib/python3.9/site-packages/ipykernel/kernelbase.py\u001b[0m in \u001b[0;36mraw_input\u001b[0;34m(self, prompt)\u001b[0m\n\u001b[1;32m   1004\u001b[0m                 \u001b[0;34m\"raw_input was called, but this frontend does not support input requests.\"\u001b[0m\u001b[0;34m\u001b[0m\u001b[0;34m\u001b[0m\u001b[0m\n\u001b[1;32m   1005\u001b[0m             )\n\u001b[0;32m-> 1006\u001b[0;31m         return self._input_request(\n\u001b[0m\u001b[1;32m   1007\u001b[0m             \u001b[0mstr\u001b[0m\u001b[0;34m(\u001b[0m\u001b[0mprompt\u001b[0m\u001b[0;34m)\u001b[0m\u001b[0;34m,\u001b[0m\u001b[0;34m\u001b[0m\u001b[0;34m\u001b[0m\u001b[0m\n\u001b[1;32m   1008\u001b[0m             \u001b[0mself\u001b[0m\u001b[0;34m.\u001b[0m\u001b[0m_parent_ident\u001b[0m\u001b[0;34m[\u001b[0m\u001b[0;34m\"shell\"\u001b[0m\u001b[0;34m]\u001b[0m\u001b[0;34m,\u001b[0m\u001b[0;34m\u001b[0m\u001b[0;34m\u001b[0m\u001b[0m\n",
      "\u001b[0;32m~/opt/anaconda3/lib/python3.9/site-packages/ipykernel/kernelbase.py\u001b[0m in \u001b[0;36m_input_request\u001b[0;34m(self, prompt, ident, parent, password)\u001b[0m\n\u001b[1;32m   1049\u001b[0m             \u001b[0;32mexcept\u001b[0m \u001b[0mKeyboardInterrupt\u001b[0m\u001b[0;34m:\u001b[0m\u001b[0;34m\u001b[0m\u001b[0;34m\u001b[0m\u001b[0m\n\u001b[1;32m   1050\u001b[0m                 \u001b[0;31m# re-raise KeyboardInterrupt, to truncate traceback\u001b[0m\u001b[0;34m\u001b[0m\u001b[0;34m\u001b[0m\u001b[0m\n\u001b[0;32m-> 1051\u001b[0;31m                 \u001b[0;32mraise\u001b[0m \u001b[0mKeyboardInterrupt\u001b[0m\u001b[0;34m(\u001b[0m\u001b[0;34m\"Interrupted by user\"\u001b[0m\u001b[0;34m)\u001b[0m \u001b[0;32mfrom\u001b[0m \u001b[0;32mNone\u001b[0m\u001b[0;34m\u001b[0m\u001b[0;34m\u001b[0m\u001b[0m\n\u001b[0m\u001b[1;32m   1052\u001b[0m             \u001b[0;32mexcept\u001b[0m \u001b[0mException\u001b[0m\u001b[0;34m:\u001b[0m\u001b[0;34m\u001b[0m\u001b[0;34m\u001b[0m\u001b[0m\n\u001b[1;32m   1053\u001b[0m                 \u001b[0mself\u001b[0m\u001b[0;34m.\u001b[0m\u001b[0mlog\u001b[0m\u001b[0;34m.\u001b[0m\u001b[0mwarning\u001b[0m\u001b[0;34m(\u001b[0m\u001b[0;34m\"Invalid Message:\"\u001b[0m\u001b[0;34m,\u001b[0m \u001b[0mexc_info\u001b[0m\u001b[0;34m=\u001b[0m\u001b[0;32mTrue\u001b[0m\u001b[0;34m)\u001b[0m\u001b[0;34m\u001b[0m\u001b[0;34m\u001b[0m\u001b[0m\n",
      "\u001b[0;31mKeyboardInterrupt\u001b[0m: Interrupted by user"
     ]
    }
   ],
   "source": [
    "import sys\n",
    "sys.setrecursionlimit(int(1e5)) # 런타임 오류를 피하기 위한 재귀 깊이 제한 설정\n",
    "\n",
    "n = int(input())\n",
    "\n",
    "parent = [0] * (n + 1) # 부모 노드 정보\n",
    "d = [0] * (n + 1) # 각 노드까지의 깊이\n",
    "c = [0] * (n + 1) # 각 노드의 깊이가 계산되었는지 여부\n",
    "graph = [[] for _ in range(n + 1)] # 그래프(graph) 정보\n",
    "\n",
    "for _ in range(n - 1):\n",
    "    a, b = map(int, input().split())\n",
    "    graph[a].append(b)\n",
    "    graph[b].append(a)\n",
    "\n",
    "# 루트 노드부터 시작하여 깊이(depth)를 구하는 함수\n",
    "def dfs(x, depth):\n",
    "    c[x] = True\n",
    "    d[x] = depth\n",
    "    for y in graph[x]:\n",
    "        if c[y]: # 이미 깊이를 구했다면 넘기기\n",
    "            continue\n",
    "        parent[y] = x\n",
    "        dfs(y, depth + 1)\n",
    "\n",
    "# A와 B의 최소 공통 조상을 찾는 함수\n",
    "def lca(a, b):\n",
    "    # 먼저 깊이(depth)가 동일하도록\n",
    "    while d[a] != d[b]:\n",
    "        if d[a] > d[b]:\n",
    "            a = parent[a]\n",
    "        else:\n",
    "            b = parent[b]\n",
    "    # 노드가 같아지도록\n",
    "    while a != b:\n",
    "        a = parent[a]\n",
    "        b = parent[b]\n",
    "    return a\n",
    "\n",
    "dfs(1, 0) # 루트 노드는 1번 노드\n",
    "\n",
    "m = int(input())\n",
    "\n",
    "for i in range(m):\n",
    "    a, b = map(int, input().split())\n",
    "    print(lca(a, b))"
   ]
  },
  {
   "cell_type": "code",
   "execution_count": null,
   "id": "9e93e79c",
   "metadata": {},
   "outputs": [],
   "source": []
  },
  {
   "cell_type": "markdown",
   "id": "54ba5742",
   "metadata": {},
   "source": [
    "![](image/305.png)"
   ]
  },
  {
   "cell_type": "markdown",
   "id": "e8fd120b",
   "metadata": {},
   "source": [
    "![](image/306.png)"
   ]
  },
  {
   "cell_type": "markdown",
   "id": "620b8cd5",
   "metadata": {},
   "source": [
    "![](image/307.png)"
   ]
  },
  {
   "cell_type": "markdown",
   "id": "e0d707bd",
   "metadata": {},
   "source": [
    "![](image/308.png)"
   ]
  },
  {
   "cell_type": "markdown",
   "id": "aa077296",
   "metadata": {},
   "source": [
    "![](image/309.png)"
   ]
  },
  {
   "cell_type": "markdown",
   "id": "eaac71c6",
   "metadata": {},
   "source": [
    "![](image/310.png)"
   ]
  },
  {
   "cell_type": "code",
   "execution_count": null,
   "id": "d59c8a4d",
   "metadata": {},
   "outputs": [],
   "source": [
    "import sys\n",
    "input = sys.stdin.readline # 시간 초과를 피하기 위한 빠른 입력 함수\n",
    "sys.setrecursionlimit(int(1e5)) # 런타임 오류를 피하기 위한 재귀 깊이 제한 설정\n",
    "LOG = 21 # 2^20 = 1,000,000\n",
    "\n",
    "n = int(input())\n",
    "parent = [[0] * LOG for _ in range(n + 1)] # 부모 노드 정보\n",
    "d = [0] * (n + 1) # 각 노드까지의 깊이\n",
    "c = [0] * (n + 1) # 각 노드의 깊이가 계산되었는지 여부\n",
    "graph = [[] for _ in range(n + 1)] # 그래프(graph) 정보\n",
    "\n",
    "for _ in range(n - 1):\n",
    "    a, b = map(int, input().split())\n",
    "    graph[a].append(b)\n",
    "    graph[b].append(a)\n",
    "\n",
    "# 루트 노드부터 시작하여 깊이(depth)를 구하는 함수\n",
    "def dfs(x, depth):\n",
    "    c[x] = True\n",
    "    d[x] = depth\n",
    "    for y in graph[x]:\n",
    "        if c[y]: # 이미 깊이를 구했다면 넘기기\n",
    "            continue\n",
    "        parent[y][0] = x\n",
    "        dfs(y, depth + 1)\n",
    "\n",
    "# 전체 부모 관계를 설정하는 함수\n",
    "def set_parent():\n",
    "    dfs(1, 0) # 루트 노드는 1번 노드\n",
    "    for i in range(1, LOG):\n",
    "        for j in range(1, n + 1):\n",
    "            parent[j][i] = parent[parent[j][i - 1]][i - 1]\n",
    "\n",
    "# A와 B의 최소 공통 조상을 찾는 함수\n",
    "def lca(a, b):\n",
    "    # b가 더 깊도록 설정\n",
    "    if d[a] > d[b]:\n",
    "        a, b = b, a\n",
    "    # 먼저 깊이(depth)가 동일하도록\n",
    "    for i in range(LOG - 1, -1, -1):\n",
    "        if d[b] - d[a] >= (1 << i):\n",
    "            b = parent[b][i]\n",
    "    # 부모가 같아지도록\n",
    "    if a == b:\n",
    "        return a;\n",
    "    for i in range(LOG - 1, -1, -1):\n",
    "        # 조상을 향해 거슬러 올라가기\n",
    "        if parent[a][i] != parent[b][i]:\n",
    "            a = parent[a][i]\n",
    "            b = parent[b][i]\n",
    "    # 이후에 부모가 찾고자 하는 조상\n",
    "    return parent[a][0]\n",
    "\n",
    "set_parent()\n",
    "\n",
    "m = int(input())\n",
    "\n",
    "for i in range(m):\n",
    "    a, b = map(int, input().split())\n",
    "    print(lca(a, b))"
   ]
  }
 ],
 "metadata": {
  "kernelspec": {
   "display_name": "Python 3 (ipykernel)",
   "language": "python",
   "name": "python3"
  },
  "language_info": {
   "codemirror_mode": {
    "name": "ipython",
    "version": 3
   },
   "file_extension": ".py",
   "mimetype": "text/x-python",
   "name": "python",
   "nbconvert_exporter": "python",
   "pygments_lexer": "ipython3",
   "version": "3.9.7"
  }
 },
 "nbformat": 4,
 "nbformat_minor": 5
}
