{
 "cells": [
  {
   "cell_type": "code",
   "execution_count": null,
   "id": "ed970016",
   "metadata": {},
   "outputs": [],
   "source": [
    "#10818\n",
    "import sys\n",
    "\n",
    "input = sys.stdin.readline\n",
    "n = int(input())\n",
    "a = list(map(int, input().split()))\n",
    "print(min(a), max(a))"
   ]
  },
  {
   "cell_type": "code",
   "execution_count": null,
   "id": "69b55b73",
   "metadata": {},
   "outputs": [],
   "source": [
    "#2562\n",
    "import sys\n",
    "\n",
    "input = sys.stdin.readline\n",
    "a = []\n",
    "for _ in range(9):\n",
    "    a.append(int(input()))\n",
    "max_v = max(a)\n",
    "print(max_v)\n",
    "print(a.index(max_v) + 1)"
   ]
  },
  {
   "cell_type": "code",
   "execution_count": null,
   "id": "6c361349",
   "metadata": {},
   "outputs": [],
   "source": [
    "#2577\n",
    "import sys\n",
    "\n",
    "li = [0 for i in range(10)]\n",
    "\n",
    "input = sys.stdin.readline\n",
    "a = int(input())\n",
    "b = int(input())\n",
    "c = int(input())\n",
    "\n",
    "m = a * b * c\n",
    "\n",
    "while m != 0:\n",
    "    li[int(m % 10)] += 1\n",
    "    m = int(m / 10)\n",
    "\n",
    "for i in range(len(li)):\n",
    "    print(li[i])"
   ]
  },
  {
   "cell_type": "code",
   "execution_count": null,
   "id": "88c36313",
   "metadata": {},
   "outputs": [],
   "source": [
    "#3052\n",
    "import sys\n",
    "\n",
    "input = sys.stdin.readline\n",
    "a = []\n",
    "for _ in range(10):\n",
    "    n = int(input())\n",
    "    a.append(n % 42)\n",
    "\n",
    "print(len(set(a)))"
   ]
  },
  {
   "cell_type": "code",
   "execution_count": null,
   "id": "9747a550",
   "metadata": {},
   "outputs": [],
   "source": [
    "#1546\n",
    "import sys\n",
    "\n",
    "input = sys.stdin.readline\n",
    "n = int(input())\n",
    "\n",
    "n1 = list(map(int, input().split()))\n",
    "n2 = []\n",
    "max_id = max(n1)\n",
    "for i in range(n):\n",
    "    n2.append(n1[i] / max_id * 100)\n",
    "print(sum(n2) / len(n2))"
   ]
  },
  {
   "cell_type": "code",
   "execution_count": null,
   "id": "a927c16c",
   "metadata": {},
   "outputs": [],
   "source": []
  }
 ],
 "metadata": {
  "kernelspec": {
   "display_name": "Python 3 (ipykernel)",
   "language": "python",
   "name": "python3"
  },
  "language_info": {
   "codemirror_mode": {
    "name": "ipython",
    "version": 3
   },
   "file_extension": ".py",
   "mimetype": "text/x-python",
   "name": "python",
   "nbconvert_exporter": "python",
   "pygments_lexer": "ipython3",
   "version": "3.9.7"
  }
 },
 "nbformat": 4,
 "nbformat_minor": 5
}
