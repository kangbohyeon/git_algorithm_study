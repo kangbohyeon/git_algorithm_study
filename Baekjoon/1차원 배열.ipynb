{
 "cells": [
  {
   "cell_type": "code",
   "execution_count": null,
   "id": "430c09fa-1b12-4b43-850e-c2a5f835c082",
   "metadata": {},
   "outputs": [],
   "source": [
    "#10818\n",
    "import sys\n",
    "\n",
    "input = sys.stdin.readline\n",
    "n = int(input())\n",
    "a = list(map(int, input().split()))\n",
    "print(min(a), max(a))"
   ]
  },
  {
   "cell_type": "code",
   "execution_count": null,
   "id": "f1d96296-2d62-4605-91df-d80dc5ddb13a",
   "metadata": {},
   "outputs": [],
   "source": [
    "#2562\n",
    "import sys\n",
    "\n",
    "input = sys.stdin.readline\n",
    "a = []\n",
    "for _ in range(9):\n",
    "    a.append(int(input()))\n",
    "max_v = max(a)\n",
    "print(max_v)\n",
    "print(a.index(max_v) + 1)"
   ]
  },
  {
   "cell_type": "code",
   "execution_count": null,
   "id": "9e763ed4-9c9f-443a-881d-88190d9936ee",
   "metadata": {},
   "outputs": [],
   "source": [
    "#2577\n",
    "import sys\n",
    "\n",
    "li = [0 for i in range(10)]\n",
    "\n",
    "input = sys.stdin.readline\n",
    "a = int(input())\n",
    "b = int(input())\n",
    "c = int(input())\n",
    "\n",
    "m = a * b * c\n",
    "\n",
    "while m != 0:\n",
    "    li[int(m % 10)] += 1\n",
    "    m = int(m / 10)\n",
    "\n",
    "for i in range(len(li)):\n",
    "    print(li[i])"
   ]
  }
 ],
 "metadata": {
  "kernelspec": {
   "display_name": "Python 3 (ipykernel)",
   "language": "python",
   "name": "python3"
  },
  "language_info": {
   "codemirror_mode": {
    "name": "ipython",
    "version": 3
   },
   "file_extension": ".py",
   "mimetype": "text/x-python",
   "name": "python",
   "nbconvert_exporter": "python",
   "pygments_lexer": "ipython3",
   "version": "3.9.7"
  }
 },
 "nbformat": 4,
 "nbformat_minor": 5
}
