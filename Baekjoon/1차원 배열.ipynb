{
 "cells": [
  {
   "cell_type": "code",
   "execution_count": null,
   "id": "ed970016",
   "metadata": {},
   "outputs": [],
   "source": [
    "#10818\n",
    "import sys\n",
    "\n",
    "input = sys.stdin.readline\n",
    "n = int(input())\n",
    "a = list(map(int, input().split()))\n",
    "print(min(a), max(a))"
   ]
  },
  {
   "cell_type": "code",
   "execution_count": null,
   "id": "69b55b73",
   "metadata": {},
   "outputs": [],
   "source": [
    "#2562\n",
    "import sys\n",
    "\n",
    "input = sys.stdin.readline\n",
    "a = []\n",
    "for _ in range(9):\n",
    "    a.append(int(input()))\n",
    "max_v = max(a)\n",
    "print(max_v)\n",
    "print(a.index(max_v) + 1)"
   ]
  },
  {
   "cell_type": "code",
   "execution_count": null,
   "id": "6c361349",
   "metadata": {},
   "outputs": [],
   "source": [
    "#2577\n",
    "import sys\n",
    "\n",
    "li = [0 for i in range(10)]\n",
    "\n",
    "input = sys.stdin.readline\n",
    "a = int(input())\n",
    "b = int(input())\n",
    "c = int(input())\n",
    "\n",
    "m = a * b * c\n",
    "\n",
    "while m != 0:\n",
    "    li[int(m % 10)] += 1\n",
    "    m = int(m / 10)\n",
    "\n",
    "for i in range(len(li)):\n",
    "    print(li[i])"
   ]
  },
  {
   "cell_type": "code",
   "execution_count": null,
   "id": "88c36313",
   "metadata": {},
   "outputs": [],
   "source": [
    "#3052\n",
    "import sys\n",
    "\n",
    "input = sys.stdin.readline\n",
    "a = []\n",
    "for _ in range(10):\n",
    "    n = int(input())\n",
    "    a.append(n % 42)\n",
    "\n",
    "print(len(set(a)))"
   ]
  },
  {
   "cell_type": "code",
   "execution_count": null,
   "id": "9747a550",
   "metadata": {},
   "outputs": [],
   "source": [
    "#1546\n",
    "import sys\n",
    "\n",
    "input = sys.stdin.readline\n",
    "n = int(input())\n",
    "\n",
    "n1 = list(map(int, input().split()))\n",
    "n2 = []\n",
    "max_id = max(n1)\n",
    "for i in range(n):\n",
    "    n2.append(n1[i] / max_id * 100)\n",
    "print(sum(n2) / len(n2))"
   ]
  },
  {
   "cell_type": "code",
   "execution_count": null,
   "id": "a927c16c",
   "metadata": {},
   "outputs": [],
   "source": [
    "#8958\n",
    "import sys\n",
    "\n",
    "input = sys.stdin.readline\n",
    "n = int(input())\n",
    "\n",
    "for _ in range(n):\n",
    "    sum = 0\n",
    "    tem = 0\n",
    "    tex = input()\n",
    "\n",
    "    for i in tex:\n",
    "        if i == 'O':\n",
    "            tem += 1\n",
    "            sum += tem\n",
    "        else:\n",
    "            tem = 0\n",
    "    print(sum)\n",
    "\n"
   ]
  },
  {
   "cell_type": "code",
   "execution_count": null,
   "id": "f031aa6b",
   "metadata": {},
   "outputs": [],
   "source": [
    "#4344\n",
    "import sys\n",
    "\n",
    "input = sys.stdin.readline\n",
    "n = int(input())\n",
    "\n",
    "for _ in range(n):\n",
    "    avg_id = 0\n",
    "    sum_va = 0\n",
    "    a = list(map(int, input().split()))\n",
    "\n",
    "    for i in range(len(a)):\n",
    "        if i == 0:\n",
    "            continue\n",
    "        sum_va += a[i]\n",
    "    avg_va = sum_va / (len(a) - 1)\n",
    "\n",
    "    for i in range(len(a)):\n",
    "        if i == 0:\n",
    "            continue\n",
    "        if a[i] > avg_va:\n",
    "            avg_id += 1\n",
    "\n",
    "    print(\"%.03f%%\" % (avg_id / a[0] * 100))\n",
    "\n"
   ]
  }
 ],
 "metadata": {
  "kernelspec": {
   "display_name": "Python 3 (ipykernel)",
   "language": "python",
   "name": "python3"
  },
  "language_info": {
   "codemirror_mode": {
    "name": "ipython",
    "version": 3
   },
   "file_extension": ".py",
   "mimetype": "text/x-python",
   "name": "python",
   "nbconvert_exporter": "python",
   "pygments_lexer": "ipython3",
   "version": "3.9.7"
  }
 },
 "nbformat": 4,
 "nbformat_minor": 5
}
