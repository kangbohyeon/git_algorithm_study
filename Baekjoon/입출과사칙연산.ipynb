{
 "cells": [
  {
   "cell_type": "code",
   "execution_count": null,
   "id": "0281897a-51cb-449f-870b-97ec9c45c5e4",
   "metadata": {},
   "outputs": [],
   "source": [
    "#1\n",
    "print(\"Hello World!\")"
   ]
  },
  {
   "cell_type": "code",
   "execution_count": null,
   "id": "d9f02a65-0aa2-4b64-8d17-2efd1a931a33",
   "metadata": {},
   "outputs": [],
   "source": [
    "#2\n",
    "print(\"강한친구 대한육군\\n강한친구 대한육군\")"
   ]
  },
  {
   "cell_type": "code",
   "execution_count": null,
   "id": "8d527b51-eaf0-42d4-88e8-ab8015113769",
   "metadata": {},
   "outputs": [],
   "source": [
    "#3\n",
    "print(\"\\    /\\ \")\n",
    "print(\" )  ( ')\")\n",
    "print('(  /  )')\n",
    "print(' \\(__)|')"
   ]
  },
  {
   "cell_type": "code",
   "execution_count": null,
   "id": "2fa7c61c-1f1a-4613-9ad2-09b34fa7eae3",
   "metadata": {},
   "outputs": [],
   "source": [
    "#4\n",
    "print('|\\_/|')\n",
    "print('|q p|   /}')\n",
    "print('( 0 )\"\"\"\\ ')\n",
    "print('|\"^\"`    |')\n",
    "print('||_/=\\\\\\\\__|')"
   ]
  },
  {
   "cell_type": "code",
   "execution_count": null,
   "id": "b6cc1015-0887-41c1-90b1-f3322fbb3c6b",
   "metadata": {},
   "outputs": [],
   "source": [
    "#5\n",
    "a,b = map(int,input().split())\n",
    "print(a+b)"
   ]
  },
  {
   "cell_type": "code",
   "execution_count": null,
   "id": "3a0b4eba-95e5-4675-a66a-ae395841e1bc",
   "metadata": {},
   "outputs": [],
   "source": [
    "#6\n",
    "a,b = map(int,input().split())\n",
    "print(a-b)"
   ]
  },
  {
   "cell_type": "code",
   "execution_count": null,
   "id": "95a5d559-97bb-4e16-9e7e-3164f57b077b",
   "metadata": {},
   "outputs": [],
   "source": [
    "#7\n",
    "a,b = map(int,input().split())\n",
    "print(a*b)"
   ]
  },
  {
   "cell_type": "code",
   "execution_count": null,
   "id": "e8502d0e-dac6-445f-8202-871855f16391",
   "metadata": {},
   "outputs": [],
   "source": [
    "#8\n",
    "a,b = map(int,input().split())\n",
    "print(a/b)"
   ]
  },
  {
   "cell_type": "code",
   "execution_count": null,
   "id": "f15f254d-98f5-446c-aa04-9cb551ddda13",
   "metadata": {},
   "outputs": [],
   "source": [
    "#9\n",
    "a,b = map(int,input().split())\n",
    "print(\"%d\\n%d\\n%d\\n%d\\n%d\\n\"%(a+b,a-b,a*b,a/b,a%b))"
   ]
  },
  {
   "cell_type": "code",
   "execution_count": null,
   "id": "06b7c2e4-c46a-4bb9-926d-72f86f944a50",
   "metadata": {},
   "outputs": [],
   "source": [
    "#10\n",
    "n = input()\n",
    "print(n+\"??!\")"
   ]
  },
  {
   "cell_type": "code",
   "execution_count": null,
   "id": "3579b598-0d8b-41c1-bce1-2fbd96968319",
   "metadata": {},
   "outputs": [],
   "source": [
    "#11\n",
    "n = int(input())\n",
    "print(n-543)"
   ]
  },
  {
   "cell_type": "code",
   "execution_count": null,
   "id": "9965acd8-2e74-4dd3-9f3b-c4d7fa5d8ba1",
   "metadata": {},
   "outputs": [],
   "source": [
    "#12\n",
    "a,b,c = map(int,input().split())\n",
    "print(\"%d\\n%d\\n%d\\n%d\"%((a+b)%c,((a%c)+(b%c))%c,(a*b)%c,((a%c)*(b%c))%c))"
   ]
  },
  {
   "cell_type": "code",
   "execution_count": null,
   "id": "458e13cb-bb6f-4b7b-92df-ba9b35ce9f3b",
   "metadata": {},
   "outputs": [],
   "source": [
    "#13\n",
    "a = int(input())\n",
    "b = int(input())\n",
    "c = a*(b%10)\n",
    "d = a*(int)((b/10)%10)\n",
    "e = a*(int)((b/100)%10)\n",
    "print(c)\n",
    "print(d)\n",
    "print(e)\n",
    "print(c+d*10+e*100)"
   ]
  }
 ],
 "metadata": {
  "kernelspec": {
   "display_name": "Python 3 (ipykernel)",
   "language": "python",
   "name": "python3"
  },
  "language_info": {
   "codemirror_mode": {
    "name": "ipython",
    "version": 3
   },
   "file_extension": ".py",
   "mimetype": "text/x-python",
   "name": "python",
   "nbconvert_exporter": "python",
   "pygments_lexer": "ipython3",
   "version": "3.9.7"
  }
 },
 "nbformat": 4,
 "nbformat_minor": 5
}
