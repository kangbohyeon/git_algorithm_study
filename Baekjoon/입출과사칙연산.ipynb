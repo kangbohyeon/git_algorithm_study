{
 "cells": [
  {
   "cell_type": "code",
   "execution_count": null,
   "id": "0281897a-51cb-449f-870b-97ec9c45c5e4",
   "metadata": {},
   "outputs": [],
   "source": [
    "#2557\n",
    "print(\"Hello World!\")"
   ]
  },
  {
   "cell_type": "code",
   "execution_count": null,
   "id": "d9f02a65-0aa2-4b64-8d17-2efd1a931a33",
   "metadata": {},
   "outputs": [],
   "source": [
    "#10718\n",
    "print(\"강한친구 대한육군\\n강한친구 대한육군\")"
   ]
  },
  {
   "cell_type": "code",
   "execution_count": null,
   "id": "8d527b51-eaf0-42d4-88e8-ab8015113769",
   "metadata": {},
   "outputs": [],
   "source": [
    "#10171\n",
    "print(\"\\    /\\ \")\n",
    "print(\" )  ( ')\")\n",
    "print('(  /  )')\n",
    "print(' \\(__)|')"
   ]
  },
  {
   "cell_type": "code",
   "execution_count": null,
   "id": "6996c999-6bdc-405f-8341-2d2286773410",
   "metadata": {},
   "outputs": [],
   "source": [
    "#25083\n",
    "print('''         ,r'\"7\n",
    "r`-_   ,'  ,/\n",
    " \\. \". L_r'\n",
    "   `~\\/\n",
    "      |\n",
    "      |   ''')"
   ]
  },
  {
   "cell_type": "code",
   "execution_count": null,
   "id": "b6cc1015-0887-41c1-90b1-f3322fbb3c6b",
   "metadata": {},
   "outputs": [],
   "source": [
    "#1000\n",
    "a,b = map(int,input().split())\n",
    "print(a+b)"
   ]
  },
  {
   "cell_type": "code",
   "execution_count": null,
   "id": "3a0b4eba-95e5-4675-a66a-ae395841e1bc",
   "metadata": {},
   "outputs": [],
   "source": [
    "#1001\n",
    "a,b = map(int,input().split())\n",
    "print(a-b)"
   ]
  },
  {
   "cell_type": "code",
   "execution_count": null,
   "id": "95a5d559-97bb-4e16-9e7e-3164f57b077b",
   "metadata": {},
   "outputs": [],
   "source": [
    "#10998\n",
    "a,b = map(int,input().split())\n",
    "print(a*b)"
   ]
  },
  {
   "cell_type": "code",
   "execution_count": null,
   "id": "e8502d0e-dac6-445f-8202-871855f16391",
   "metadata": {},
   "outputs": [],
   "source": [
    "#1008\n",
    "a,b = map(int,input().split())\n",
    "print(a/b)"
   ]
  },
  {
   "cell_type": "code",
   "execution_count": null,
   "id": "f15f254d-98f5-446c-aa04-9cb551ddda13",
   "metadata": {},
   "outputs": [],
   "source": [
    "#10869\n",
    "a,b = map(int,input().split())\n",
    "print(\"%d\\n%d\\n%d\\n%d\\n%d\\n\"%(a+b,a-b,a*b,a/b,a%b))"
   ]
  },
  {
   "cell_type": "code",
   "execution_count": null,
   "id": "06b7c2e4-c46a-4bb9-926d-72f86f944a50",
   "metadata": {},
   "outputs": [],
   "source": [
    "#10926\n",
    "n = input()\n",
    "print(n+\"??!\")"
   ]
  },
  {
   "cell_type": "code",
   "execution_count": null,
   "id": "3579b598-0d8b-41c1-bce1-2fbd96968319",
   "metadata": {},
   "outputs": [],
   "source": [
    "#18108\n",
    "n = int(input())\n",
    "print(n-543)"
   ]
  },
  {
   "cell_type": "code",
   "execution_count": null,
   "id": "9965acd8-2e74-4dd3-9f3b-c4d7fa5d8ba1",
   "metadata": {},
   "outputs": [],
   "source": [
    "#10430\n",
    "a,b,c = map(int,input().split())\n",
    "print(\"%d\\n%d\\n%d\\n%d\"%((a+b)%c,((a%c)+(b%c))%c,(a*b)%c,((a%c)*(b%c))%c))"
   ]
  },
  {
   "cell_type": "code",
   "execution_count": null,
   "id": "458e13cb-bb6f-4b7b-92df-ba9b35ce9f3b",
   "metadata": {},
   "outputs": [],
   "source": [
    "#2588\n",
    "a = int(input())\n",
    "b = int(input())\n",
    "c = a*(b%10)\n",
    "d = a*(int)((b/10)%10)\n",
    "e = a*(int)((b/100)%10)\n",
    "print(c)\n",
    "print(d)\n",
    "print(e)\n",
    "print(c+d*10+e*100)"
   ]
  }
 ],
 "metadata": {
  "kernelspec": {
   "display_name": "Python 3 (ipykernel)",
   "language": "python",
   "name": "python3"
  },
  "language_info": {
   "codemirror_mode": {
    "name": "ipython",
    "version": 3
   },
   "file_extension": ".py",
   "mimetype": "text/x-python",
   "name": "python",
   "nbconvert_exporter": "python",
   "pygments_lexer": "ipython3",
   "version": "3.9.7"
  }
 },
 "nbformat": 4,
 "nbformat_minor": 5
}
