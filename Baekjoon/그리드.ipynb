{
 "cells": [
  {
   "cell_type": "code",
   "execution_count": null,
   "id": "f3719014",
   "metadata": {},
   "outputs": [],
   "source": [
    "#11047\n",
    "n, k = map(int, input().split())\n",
    "n1 = []\n",
    "cnt = 0\n",
    "for _ in range(n):\n",
    "    n1.append(int(input()))\n",
    "n1.sort(reverse=True)\n",
    "for i in n1:\n",
    "    if k % i != i:\n",
    "        cnt += k // i\n",
    "        k -= (k // i) * i\n",
    "    if k == 0:\n",
    "        break\n",
    "\n",
    "print(cnt)"
   ]
  },
  {
   "cell_type": "code",
   "execution_count": null,
   "id": "4aec1981",
   "metadata": {},
   "outputs": [],
   "source": [
    "#11399\n",
    "n = int(input())\n",
    "a = []\n",
    "cnt = 0\n",
    "cnt2 = 0\n",
    "n1 = input().split()\n",
    "for i in n1:\n",
    "    a.append(int(i))\n",
    "\n",
    "a.sort()\n",
    "for i in a:\n",
    "    cnt += i\n",
    "    cnt2 += cnt\n",
    "print(cnt2)"
   ]
  }
 ],
 "metadata": {
  "kernelspec": {
   "display_name": "Python 3 (ipykernel)",
   "language": "python",
   "name": "python3"
  },
  "language_info": {
   "codemirror_mode": {
    "name": "ipython",
    "version": 3
   },
   "file_extension": ".py",
   "mimetype": "text/x-python",
   "name": "python",
   "nbconvert_exporter": "python",
   "pygments_lexer": "ipython3",
   "version": "3.10.6"
  }
 },
 "nbformat": 4,
 "nbformat_minor": 5
}
