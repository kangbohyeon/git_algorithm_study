{
 "cells": [
  {
   "cell_type": "code",
   "execution_count": null,
   "id": "d4649ed5-bcde-45fc-a2bc-4e729f7d4944",
   "metadata": {},
   "outputs": [],
   "source": [
    "#1\n",
    "a, b = map(int, input().split())\n",
    "\n",
    "if a > b:\n",
    "    print(\">\")\n",
    "elif a < b:\n",
    "    print(\"<\")\n",
    "else:\n",
    "    print(\"==\")"
   ]
  },
  {
   "cell_type": "code",
   "execution_count": null,
   "id": "05a250d7-f0fe-4816-9563-9b5f860cf509",
   "metadata": {},
   "outputs": [],
   "source": [
    "#2\n",
    "n = int(input())\n",
    "if n >= 90:\n",
    "    print(\"A\")\n",
    "elif n >= 80:\n",
    "    print(\"B\")\n",
    "elif n >= 70:\n",
    "    print(\"C\")\n",
    "elif n >= 60:\n",
    "    print(\"D\")\n",
    "else:\n",
    "    print(\"F\")"
   ]
  },
  {
   "cell_type": "code",
   "execution_count": null,
   "id": "cbf6048a-26f6-420a-8fd5-4a5240bb2c91",
   "metadata": {},
   "outputs": [],
   "source": [
    "#3\n",
    "n = int(input())\n",
    "if (n % 4 == 0) and (n % 100 != 0 or n % 400 == 0):\n",
    "    print(\"1\")\n",
    "else:\n",
    "    print(\"0\")"
   ]
  },
  {
   "cell_type": "code",
   "execution_count": null,
   "id": "cf8b9ef7-e0a7-4c85-b2f2-2b23bc090ee7",
   "metadata": {},
   "outputs": [],
   "source": [
    "#4\n",
    "import sys\n",
    "x = int(input())\n",
    "y = int(input())\n",
    "\n",
    "if x > 0 and y > 0:\n",
    "    print(\"1\")\n",
    "elif x > 0 and y < 0:\n",
    "    print(\"4\")\n",
    "elif x < 0 and y < 0:\n",
    "    print(\"3\")\n",
    "else:\n",
    "    print(\"2\")"
   ]
  },
  {
   "cell_type": "code",
   "execution_count": null,
   "id": "c1a00172-50a4-49eb-8f24-ec2522fd6aec",
   "metadata": {},
   "outputs": [],
   "source": [
    "#5\n",
    "import sys\n",
    "\n",
    "h, m = map(int, sys.stdin.readline().split())\n",
    "\n",
    "if m - 45 < 0:\n",
    "    if  h -1 <0:\n",
    "        h =23\n",
    "    else :\n",
    "        h -= 1\n",
    "    m = m + 15\n",
    "else:\n",
    "    m -= 45\n",
    "\n",
    "print(\"%d %d\"%(h,m))"
   ]
  },
  {
   "cell_type": "code",
   "execution_count": null,
   "id": "f52a6042-88c5-4f59-b53e-4c6a9e56b650",
   "metadata": {},
   "outputs": [],
   "source": [
    "#6\n",
    "import sys\n",
    "\n",
    "input = sys.stdin.readline\n",
    "h, m = map(int, input().split())\n",
    "c = int(input())\n",
    "\n",
    "m1 = ((m +c) % 60)\n",
    "h1 = ((m +c) // 60)\n",
    "if c + m >= 60:\n",
    "    h = (h + h1)%24\n",
    "    m = m1\n",
    "else:\n",
    "    m = m + c\n",
    "\n",
    "print(\"%d %d\" % (h, m))"
   ]
  },
  {
   "cell_type": "code",
   "execution_count": null,
   "id": "33b8dba7-1b7c-468c-b07c-7402b90bc4da",
   "metadata": {},
   "outputs": [],
   "source": [
    "#7\n",
    "import sys\n",
    "\n",
    "input = sys.stdin.readline\n",
    "a, b, c = map(int, input().split())\n",
    "\n",
    "if a == b:\n",
    "    if b == c:\n",
    "        anw = 10000 + a * 1000\n",
    "        print(\"%d\" % anw)\n",
    "    else:\n",
    "        anw = 1000 + a * 100\n",
    "        print(\"%d\" % anw)\n",
    "elif b == c:\n",
    "    if a == b:\n",
    "        anw = 10000 + a * 1000\n",
    "        print(\"%d\" % anw)\n",
    "    else:\n",
    "        anw = 1000 + b * 100\n",
    "        print(\"%d\" % anw)\n",
    "elif a == c:\n",
    "    if a == b:\n",
    "        anw = 10000 + a * 1000\n",
    "        print(\"%d\" % anw)\n",
    "    else:\n",
    "        anw = 1000 + a * 100\n",
    "        print(\"%d\" % anw)\n",
    "else:\n",
    "    anw = max(a, b, c) * 100\n",
    "    print(\"%d\" % anw)"
   ]
  }
 ],
 "metadata": {
  "kernelspec": {
   "display_name": "Python 3 (ipykernel)",
   "language": "python",
   "name": "python3"
  },
  "language_info": {
   "codemirror_mode": {
    "name": "ipython",
    "version": 3
   },
   "file_extension": ".py",
   "mimetype": "text/x-python",
   "name": "python",
   "nbconvert_exporter": "python",
   "pygments_lexer": "ipython3",
   "version": "3.9.7"
  }
 },
 "nbformat": 4,
 "nbformat_minor": 5
}
