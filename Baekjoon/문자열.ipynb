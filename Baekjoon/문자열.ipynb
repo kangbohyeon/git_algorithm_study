{
 "cells": [
  {
   "cell_type": "code",
   "execution_count": null,
   "id": "45908189",
   "metadata": {},
   "outputs": [],
   "source": [
    "#11654\n",
    "n = input()\n",
    "print(ord(n))"
   ]
  },
  {
   "cell_type": "code",
   "execution_count": null,
   "id": "25ba08c2",
   "metadata": {},
   "outputs": [],
   "source": [
    "#11720\n",
    "n = input()\n",
    "n2 = input()\n",
    "result = 0\n",
    "\n",
    "if int(n)==len(n2):\n",
    "    for i in n2:\n",
    "        result +=int(i)\n",
    "print(result)"
   ]
  },
  {
   "cell_type": "code",
   "execution_count": null,
   "id": "dd4e93cb",
   "metadata": {},
   "outputs": [],
   "source": [
    "#10809\n",
    "data = \"abcdefghijklmnopqrstuvwxyz\"\n",
    "n = input()\n",
    "\n",
    "a = []\n",
    "for i in data:\n",
    "    f = 0\n",
    "    for j in range(len(n)):\n",
    "        if i == n[j]:\n",
    "            print(n.index(i),end=' ')\n",
    "            f +=1\n",
    "            break\n",
    "    if f != 1:\n",
    "        print('-1',end =' ')"
   ]
  }
 ],
 "metadata": {
  "kernelspec": {
   "display_name": "Python 3 (ipykernel)",
   "language": "python",
   "name": "python3"
  },
  "language_info": {
   "codemirror_mode": {
    "name": "ipython",
    "version": 3
   },
   "file_extension": ".py",
   "mimetype": "text/x-python",
   "name": "python",
   "nbconvert_exporter": "python",
   "pygments_lexer": "ipython3",
   "version": "3.10.6"
  }
 },
 "nbformat": 4,
 "nbformat_minor": 5
}
