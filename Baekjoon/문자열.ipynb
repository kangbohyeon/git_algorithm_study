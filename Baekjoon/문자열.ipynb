{
 "cells": [
  {
   "cell_type": "code",
   "execution_count": null,
   "id": "45908189",
   "metadata": {},
   "outputs": [],
   "source": [
    "#11654\n",
    "n = input()\n",
    "print(ord(n))"
   ]
  },
  {
   "cell_type": "code",
   "execution_count": null,
   "id": "25ba08c2",
   "metadata": {},
   "outputs": [],
   "source": [
    "#11720\n",
    "n = input()\n",
    "n2 = input()\n",
    "result = 0\n",
    "\n",
    "if int(n)==len(n2):\n",
    "    for i in n2:\n",
    "        result +=int(i)\n",
    "print(result)"
   ]
  },
  {
   "cell_type": "code",
   "execution_count": null,
   "id": "dd4e93cb",
   "metadata": {},
   "outputs": [],
   "source": [
    "#10809\n",
    "data = \"abcdefghijklmnopqrstuvwxyz\"\n",
    "n = input()\n",
    "\n",
    "a = []\n",
    "for i in data:\n",
    "    f = 0\n",
    "    for j in range(len(n)):\n",
    "        if i == n[j]:\n",
    "            print(n.index(i),end=' ')\n",
    "            f +=1\n",
    "            break\n",
    "    if f != 1:\n",
    "        print('-1',end =' ')"
   ]
  },
  {
   "cell_type": "code",
   "execution_count": null,
   "id": "f37ee07e",
   "metadata": {},
   "outputs": [],
   "source": [
    "#2675\n",
    "n = int(input())\n",
    "for _ in range(n):\n",
    "    a,b = map(str,input().split())\n",
    "    for j in b:\n",
    "        for i in range(int(a)):\n",
    "            print(j,end='')\n",
    "    print()"
   ]
  },
  {
   "cell_type": "code",
   "execution_count": null,
   "id": "0f632867",
   "metadata": {},
   "outputs": [],
   "source": [
    "#1157\n",
    "n = input().lower()\n",
    "a = list(set(n))\n",
    "b = []\n",
    "for i in a:\n",
    "    b.append(n.count(i))\n",
    "\n",
    "if b.count(max(b)) > 1:\n",
    "    print('?')\n",
    "else:\n",
    "    print(a[b.index(max(b))].upper())"
   ]
  },
  {
   "cell_type": "code",
   "execution_count": null,
   "id": "b0dd3142",
   "metadata": {},
   "outputs": [],
   "source": [
    "#1152\n",
    "n = input().strip()\n",
    "print(len(n.split()))"
   ]
  },
  {
   "cell_type": "code",
   "execution_count": null,
   "id": "0b0f7a12",
   "metadata": {},
   "outputs": [],
   "source": [
    "#2908\n",
    "a = ''\n",
    "b = ''\n",
    "n, k = map(str, input().split())\n",
    "i = len(n)\n",
    "j = len(k)\n",
    "while True:\n",
    "    a += (n[i - 1])\n",
    "    i -= 1\n",
    "    if i == 0:\n",
    "        break\n",
    "while True:\n",
    "    b += (k[j - 1])\n",
    "    j -= 1\n",
    "    if j == 0:\n",
    "        break\n",
    "\n",
    "print(max(int(a), int(b)))"
   ]
  },
  {
   "cell_type": "code",
   "execution_count": null,
   "id": "91e1fa58",
   "metadata": {},
   "outputs": [],
   "source": [
    "#5622\n",
    "n = input()\n",
    "a = ['ABC','DEF','GHI','JKL','MNO','PQRS','TUV','WXYZ']\n",
    "cnt = 0\n",
    "for i in n:\n",
    "    for j in a:\n",
    "        if i in j:\n",
    "            cnt+=(a.index(j)+3)\n",
    "print(cnt)"
   ]
  },
  {
   "cell_type": "code",
   "execution_count": null,
   "id": "3d43679d",
   "metadata": {},
   "outputs": [],
   "source": [
    "#2941\n",
    "n = input()\n",
    "a = ['c=', 'c-', 'dz=', 'd-', 'nj', 'lj', 's=', 'z=']\n",
    "\n",
    "\n",
    "for i in a:\n",
    "    if i in n:\n",
    "        n = n.replace(i, '*')\n",
    "\n",
    "print(len(n))"
   ]
  },
  {
   "cell_type": "code",
   "execution_count": null,
   "id": "74fcdee2",
   "metadata": {},
   "outputs": [],
   "source": [
    "#1316\n",
    "n = int(input())\n",
    "cnt = n\n",
    "\n",
    "for i in range(n):\n",
    "    word = input()\n",
    "    for j in range(len(word) - 1):\n",
    "        if word[j] == word[j + 1]:\n",
    "            pass\n",
    "        elif word[j] in word[j + 1:]:\n",
    "            cnt -= 1\n",
    "            break\n",
    "\n",
    "print(cnt)"
   ]
  }
 ],
 "metadata": {
  "kernelspec": {
   "display_name": "Python 3 (ipykernel)",
   "language": "python",
   "name": "python3"
  },
  "language_info": {
   "codemirror_mode": {
    "name": "ipython",
    "version": 3
   },
   "file_extension": ".py",
   "mimetype": "text/x-python",
   "name": "python",
   "nbconvert_exporter": "python",
   "pygments_lexer": "ipython3",
   "version": "3.10.6"
  }
 },
 "nbformat": 4,
 "nbformat_minor": 5
}
