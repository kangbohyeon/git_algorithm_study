{
 "cells": [
  {
   "cell_type": "code",
   "execution_count": null,
   "id": "23025d06",
   "metadata": {},
   "outputs": [],
   "source": [
    "#2739\n",
    "import sys\n",
    "input = sys.stdin.readline\n",
    "n = int(input())\n",
    "for i in range(1,10):\n",
    "    print(\"%d * %d = %d\"%(n,i,n*i))"
   ]
  },
  {
   "cell_type": "code",
   "execution_count": null,
   "id": "db06b6ac",
   "metadata": {},
   "outputs": [],
   "source": [
    "#10950\n",
    "import sys\n",
    "\n",
    "input = sys.stdin.readline\n",
    "\n",
    "t = int(input())\n",
    "for _ in range(t):\n",
    "    a, b = map(int, input().split())\n",
    "    print(a + b)"
   ]
  },
  {
   "cell_type": "code",
   "execution_count": null,
   "id": "79e8424e",
   "metadata": {},
   "outputs": [],
   "source": [
    "#8393\n",
    "import sys\n",
    "\n",
    "input = sys.stdin.readline\n",
    "\n",
    "n = int(input())\n",
    "sum = 0\n",
    "\n",
    "for i in range(n):\n",
    "    sum += i + 1\n",
    "\n",
    "print(sum)"
   ]
  },
  {
   "cell_type": "code",
   "execution_count": null,
   "id": "83410434",
   "metadata": {},
   "outputs": [],
   "source": [
    "#15552\n",
    "import sys\n",
    "\n",
    "input = sys.stdin.readline\n",
    "\n",
    "t = int(input())\n",
    "\n",
    "for _ in range(t):\n",
    "    a, b = map(int, input().split())\n",
    "    print(a + b)"
   ]
  },
  {
   "cell_type": "code",
   "execution_count": null,
   "id": "e7d09c99",
   "metadata": {},
   "outputs": [],
   "source": [
    "#2741\n",
    "import sys\n",
    "\n",
    "input = sys.stdin.readline\n",
    "\n",
    "n = int(input())\n",
    "\n",
    "for i in range(n):\n",
    "    print(i + 1)"
   ]
  },
  {
   "cell_type": "code",
   "execution_count": null,
   "id": "48834442",
   "metadata": {},
   "outputs": [],
   "source": [
    "#2742\n",
    "import sys\n",
    "\n",
    "input = sys.stdin.readline\n",
    "\n",
    "n = int(input())\n",
    "\n",
    "for i in range(n, 0, -1):\n",
    "    print(i)"
   ]
  },
  {
   "cell_type": "code",
   "execution_count": null,
   "id": "61e6969d",
   "metadata": {},
   "outputs": [],
   "source": [
    "#11021\n",
    "import sys\n",
    "\n",
    "input = sys.stdin.readline\n",
    "\n",
    "n = int(input())\n",
    "\n",
    "for i in range(1, n + 1):\n",
    "    a, b = map(int, input().split())\n",
    "    print(\"Case #%d: %d\" % (i, a + b))"
   ]
  },
  {
   "cell_type": "code",
   "execution_count": null,
   "id": "826798bd",
   "metadata": {},
   "outputs": [],
   "source": [
    "#11022\n",
    "import sys\n",
    "\n",
    "input = sys.stdin.readline\n",
    "\n",
    "n = int(input())\n",
    "\n",
    "for i in range(1, n + 1):\n",
    "    a, b = map(int, input().split())\n",
    "    print(\"Case #%d: %d + %d = %d\" % (i, a, b, a + b))"
   ]
  },
  {
   "cell_type": "code",
   "execution_count": null,
   "id": "a7ce9acd",
   "metadata": {},
   "outputs": [],
   "source": [
    "#2438\n",
    "import sys\n",
    "\n",
    "input = sys.stdin.readline\n",
    "\n",
    "n = int(input())\n",
    "\n",
    "for i in range(1, n + 1):\n",
    "    for j in range(i):\n",
    "        print(\"*\", end='')\n",
    "    print()"
   ]
  },
  {
   "cell_type": "code",
   "execution_count": null,
   "id": "39a8ea3f",
   "metadata": {},
   "outputs": [],
   "source": [
    "#2439\n",
    "import sys\n",
    "\n",
    "input = sys.stdin.readline\n",
    "\n",
    "n = int(input())\n",
    "\n",
    "for i in range(1, n + 1):\n",
    "    for j in range(n - i):\n",
    "        print(\" \", end='')\n",
    "    for j in range(i):\n",
    "        print(\"*\", end='')\n",
    "    print()"
   ]
  },
  {
   "cell_type": "code",
   "execution_count": null,
   "id": "df6453c7",
   "metadata": {},
   "outputs": [],
   "source": [
    "#10871\n",
    "import sys\n",
    "\n",
    "input = sys.stdin.readline\n",
    "n, x = map(int, input().split())\n",
    "a = map(int, input().split())\n",
    "\n",
    "for i in a:\n",
    "    if x > i:\n",
    "        print(i, end=' ')"
   ]
  },
  {
   "cell_type": "code",
   "execution_count": null,
   "id": "ecff0010",
   "metadata": {},
   "outputs": [],
   "source": [
    "#10952\n",
    "import sys\n",
    "\n",
    "input = sys.stdin.readline\n",
    "\n",
    "while True:\n",
    "    a, b = map(int, input().split())\n",
    "    if a == 0 and b == 0:\n",
    "        break\n",
    "    print(a + b)"
   ]
  },
  {
   "cell_type": "code",
   "execution_count": null,
   "id": "e1dec78b",
   "metadata": {},
   "outputs": [],
   "source": [
    "#10951\n",
    "import sys\n",
    "\n",
    "input = sys.stdin.readline\n",
    "\n",
    "while True:\n",
    "    try:\n",
    "        a, b = map(int, input().split())\n",
    "        print(a + b)\n",
    "    except:\n",
    "        break"
   ]
  },
  {
   "cell_type": "code",
   "execution_count": null,
   "id": "8c9dc564",
   "metadata": {},
   "outputs": [],
   "source": [
    "# 1110\n",
    "import sys\n",
    "\n",
    "input = sys.stdin.readline\n",
    "n = int(input())\n",
    "cnt = 0\n",
    "sum = 0\n",
    "m = 0\n",
    "if n < 10:\n",
    "    n *= 10\n",
    "m = n\n",
    "while True:\n",
    "    sum = (int)(n % 10) + (int)(n / 10)\n",
    "    n = n % 10 * 10 + sum % 10\n",
    "    sum = 0\n",
    "    cnt += 1\n",
    "\n",
    "    if m == n:\n",
    "        break\n",
    "\n",
    "print(cnt)\n"
   ]
  }
 ],
 "metadata": {
  "kernelspec": {
   "display_name": "Python 3 (ipykernel)",
   "language": "python",
   "name": "python3"
  },
  "language_info": {
   "codemirror_mode": {
    "name": "ipython",
    "version": 3
   },
   "file_extension": ".py",
   "mimetype": "text/x-python",
   "name": "python",
   "nbconvert_exporter": "python",
   "pygments_lexer": "ipython3",
   "version": "3.9.7"
  }
 },
 "nbformat": 4,
 "nbformat_minor": 5
}
