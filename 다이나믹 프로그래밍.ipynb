{
 "cells": [
  {
   "cell_type": "markdown",
   "id": "c1cdb4f7",
   "metadata": {},
   "source": [
    "# 다이나믹 프로그래밍\n",
    "+ 다이나믹 프로그래밍은 메모리를 적절히 사용하여 수행 시간 효율성을 비약적으로 향상시키는 방법입니다\n",
    "+ 이미 계산된 결과(작은 문제)는 별도의 메모리 영역에 저정하여 다시 계산하지 않도록 합니다.\n",
    "+ 다이나믹 프로그래밍의 구현은 일반적으로 두 가지 방식(탑다운과 보텀업)으로 구성됩니다.\n",
    "+ 다이나믹 프로그래밍은 동적 게획법이라고도 부릅니다.\n",
    "+ 일반적인 프로그래밍 분야에서의 동적이란 어떤 의미를 가질까요??\n",
    "    + 자료구조에서 동적 할당은 '프로그램이 실행되는 도중에 실행에 필요한 메모리를 할당하는 기법'을 의미합니다.\n",
    "    + 반면에 다이나믹 프로그래밍에서 '다이나믹'은 별다른 의미 없이 사용된 단어입니다."
   ]
  },
  {
   "cell_type": "markdown",
   "id": "aedbe4e3",
   "metadata": {},
   "source": [
    "# 다이나믹 프로그래밍의 조건\n",
    "+ 다이나믹 프로그래밍은 문제가 다음의 조건을 만족할 때 사용할 수 있습니다.\n",
    "    1. 최적 부분 구조\n",
    "        + 큰 문제를 작은 문제로 나눌 수 있으며 작은 문제의 답을 모아서 큰 문제를 해결할 수 있습니다.\n",
    "    2. 중복되는 부분 문제\n",
    "        + 동일한 작은 문제를 반복적으로 해결해야 합니다."
   ]
  },
  {
   "cell_type": "markdown",
   "id": "6e872237",
   "metadata": {},
   "source": [
    "![](image/104.png)"
   ]
  },
  {
   "cell_type": "markdown",
   "id": "9386359c",
   "metadata": {},
   "source": [
    "![](image/105.png)"
   ]
  },
  {
   "cell_type": "markdown",
   "id": "50ef1c18",
   "metadata": {},
   "source": [
    "![](image/106.png)"
   ]
  },
  {
   "attachments": {},
   "cell_type": "markdown",
   "id": "31f9ddc2",
   "metadata": {},
   "source": [
    "![](image/107.png)"
   ]
  },
  {
   "cell_type": "markdown",
   "id": "6e6a198b",
   "metadata": {},
   "source": [
    "![](image/108.png)"
   ]
  },
  {
   "cell_type": "code",
   "execution_count": 1,
   "id": "10a6910d",
   "metadata": {},
   "outputs": [
    {
     "name": "stdout",
     "output_type": "stream",
     "text": [
      "3\n"
     ]
    }
   ],
   "source": [
    "#피보나치 함수을 재귀함수로 구현\n",
    "def fibo(x):\n",
    "    if x == 1 or x ==2:\n",
    "        return 1\n",
    "    return fibo(x - 1) + fibo(x - 2)\n",
    "\n",
    "print(fibo(4))"
   ]
  },
  {
   "cell_type": "code",
   "execution_count": null,
   "id": "dba62890",
   "metadata": {},
   "outputs": [],
   "source": []
  },
  {
   "cell_type": "markdown",
   "id": "42a11166",
   "metadata": {},
   "source": [
    "![](image/109.png)"
   ]
  },
  {
   "cell_type": "markdown",
   "id": "bfbad12b",
   "metadata": {},
   "source": [
    "![](image/110.png)"
   ]
  },
  {
   "cell_type": "markdown",
   "id": "297ef4ee",
   "metadata": {},
   "source": [
    "![](image/111.png)"
   ]
  },
  {
   "cell_type": "code",
   "execution_count": 2,
   "id": "c1056656",
   "metadata": {},
   "outputs": [
    {
     "name": "stdout",
     "output_type": "stream",
     "text": [
      "218922995834555169026\n"
     ]
    }
   ],
   "source": [
    "#피보나치 수열: 탑다운 다이나믹 프로그래밍 소스코드\n",
    "#한 번 계산된 결과를 메모이제이션하기 위한 리스트 초기화\n",
    "d = [0] * 100\n",
    "\n",
    "#피보나치 함수를 재귀함수로 구현(탑다운 다이나믹 프로그래밍)\n",
    "def fibo(x):\n",
    "    #종료 조건(1 혹은 2일때 1을 반환)\n",
    "    if x == 1 or x ==2:\n",
    "        return 1\n",
    "    # 이미 계산한 적 있는 문제라면 그대로 반환\n",
    "    if d[x] != 0:\n",
    "        return d[x]\n",
    "    # 아직 계산하지 않은 문제라면 점화식에 따라서 피보나치 결과 반환\n",
    "    d[x] = fibo(x - 1) + fibo(x - 2)\n",
    "    return d[x]\n",
    "\n",
    "print(fibo(99))"
   ]
  },
  {
   "cell_type": "code",
   "execution_count": 4,
   "id": "ba68fc1c",
   "metadata": {},
   "outputs": [
    {
     "name": "stdout",
     "output_type": "stream",
     "text": [
      "218922995834555169026\n"
     ]
    }
   ],
   "source": [
    "#피보나치 수열: 보텀업 다이나믹 프로그래밍 소스코드\n",
    "#앞서 계산된 결과를 저장하기 위한 DP 테이블 초기화\n",
    "d = [0] * 100\n",
    "\n",
    "#첫 번째 피보나치 수와 두 번째 피보나치 수는 1\n",
    "d[1] = 1\n",
    "d[2] = 1\n",
    "n = 99\n",
    "\n",
    "# 피보나치 함수 반복문으로 구현(보텀업 다이나믹 프로그래밍)\n",
    "for i in range(3, n + 1):\n",
    "    d[i] = d[i - 1] + d[i - 2]\n",
    "    \n",
    "print(d[n])"
   ]
  },
  {
   "cell_type": "code",
   "execution_count": null,
   "id": "1ab91fa6",
   "metadata": {},
   "outputs": [],
   "source": []
  },
  {
   "cell_type": "markdown",
   "id": "af762949",
   "metadata": {},
   "source": [
    "![](image/112.png)"
   ]
  },
  {
   "cell_type": "markdown",
   "id": "d1744b1e",
   "metadata": {},
   "source": [
    "![](image/113.png)"
   ]
  },
  {
   "cell_type": "code",
   "execution_count": 7,
   "id": "b75f5d09",
   "metadata": {},
   "outputs": [
    {
     "name": "stdout",
     "output_type": "stream",
     "text": [
      "f(6) f(5) f(4) f(3) f(2) f(1) f(2) f(3) f(4) "
     ]
    },
    {
     "data": {
      "text/plain": [
       "8"
      ]
     },
     "execution_count": 7,
     "metadata": {},
     "output_type": "execute_result"
    }
   ],
   "source": [
    "d = [0] * 100\n",
    "\n",
    "def fibo(x):\n",
    "    print('f(' + str(x) + ')', end =' ')\n",
    "    if x == 1 or x == 2 :\n",
    "        return 1\n",
    "    if d[x] !=0 :\n",
    "        return d[x]\n",
    "    d[x] = fibo(x - 1) + fibo(x - 2)\n",
    "    return d[x]\n",
    "\n",
    "fibo(6)"
   ]
  },
  {
   "cell_type": "markdown",
   "id": "3fbef459",
   "metadata": {},
   "source": [
    "![](image/114.png)"
   ]
  },
  {
   "cell_type": "markdown",
   "id": "6a48e021",
   "metadata": {},
   "source": [
    "![](image/115.png)"
   ]
  },
  {
   "cell_type": "markdown",
   "id": "47393b74",
   "metadata": {},
   "source": [
    "![](image/116.png)"
   ]
  },
  {
   "cell_type": "code",
   "execution_count": null,
   "id": "57647c3a",
   "metadata": {},
   "outputs": [],
   "source": []
  },
  {
   "cell_type": "markdown",
   "id": "67f58a62",
   "metadata": {},
   "source": [
    "![](image/117.png)"
   ]
  },
  {
   "cell_type": "markdown",
   "id": "38eb787c",
   "metadata": {},
   "source": [
    "![](image/118.png)"
   ]
  },
  {
   "cell_type": "markdown",
   "id": "13bdda49",
   "metadata": {},
   "source": [
    "![](image/119.png)"
   ]
  },
  {
   "cell_type": "markdown",
   "id": "0e41bd86",
   "metadata": {},
   "source": [
    "![](image/120.png)"
   ]
  },
  {
   "cell_type": "markdown",
   "id": "44cdf389",
   "metadata": {},
   "source": [
    "![](image/121.png)"
   ]
  },
  {
   "cell_type": "markdown",
   "id": "03069766",
   "metadata": {},
   "source": [
    "![](image/122.png)"
   ]
  },
  {
   "cell_type": "markdown",
   "id": "d12c2109",
   "metadata": {},
   "source": [
    "![](image/123.png)"
   ]
  },
  {
   "cell_type": "markdown",
   "id": "e8fc2370",
   "metadata": {},
   "source": [
    "![](image/118.png)"
   ]
  },
  {
   "cell_type": "code",
   "execution_count": 9,
   "id": "601d22c4",
   "metadata": {},
   "outputs": [
    {
     "name": "stdout",
     "output_type": "stream",
     "text": [
      "4\n",
      "1 3 1 5\n",
      "8\n"
     ]
    }
   ],
   "source": [
    "#정수 N을 입력 받기\n",
    "n = int(input())\n",
    "# 모든 식량 정보 입력 받기\n",
    "array = list(map(int,input().split()))\n",
    "\n",
    "#앞서 계산된 결과를 저장하기 위한 DP 테이블 초기화\n",
    "d = [0] * 100\n",
    "\n",
    "#다이나믹 프로그래밍 진행(보텀업)\n",
    "d[0] = array[0]\n",
    "d[1] = max(array[0], array[1])\n",
    "for i in range(2, n):\n",
    "    d[i] = max(d[i -1],d[i - 2] + array[i])\n",
    "    \n",
    "#계산된 결과 출력\n",
    "print(d[n - 1])"
   ]
  },
  {
   "cell_type": "code",
   "execution_count": null,
   "id": "e46743e9",
   "metadata": {},
   "outputs": [],
   "source": []
  },
  {
   "cell_type": "markdown",
   "id": "c67e82f2",
   "metadata": {},
   "source": [
    "![](image/124.png)"
   ]
  },
  {
   "cell_type": "markdown",
   "id": "94d35cba",
   "metadata": {},
   "source": [
    "![](image/125.png)"
   ]
  },
  {
   "cell_type": "markdown",
   "id": "b1885f13",
   "metadata": {},
   "source": [
    "![](image/126.png)"
   ]
  },
  {
   "cell_type": "markdown",
   "id": "eda060fa",
   "metadata": {},
   "source": [
    "![](image/127.png)"
   ]
  },
  {
   "cell_type": "code",
   "execution_count": 10,
   "id": "bc0b4696",
   "metadata": {},
   "outputs": [
    {
     "name": "stdout",
     "output_type": "stream",
     "text": [
      "26\n",
      "3\n"
     ]
    }
   ],
   "source": [
    "#정수 X를 입력 받기\n",
    "x = int(input())\n",
    "\n",
    "#앞서 계산된 결과를 저장하기 위한 DP 테이블 초기화\n",
    "d = [0] * 30001\n",
    "\n",
    "#다이나믹 프로그래밍 진행(보텀업)\n",
    "for i in range(2, x + 1):\n",
    "    #현재의 수에서 1을 빼는 경우\n",
    "    d[i] = d[i - 1] + 1\n",
    "    #현재의 수가 2로 나누어 떨어지는 경우\n",
    "    if i % 2 == 0 :\n",
    "        d[i] = min(d[i], d[i //2] + 1)\n",
    "    #현재의 수가 3로 나누어 떨어지는 경우\n",
    "    if i % 3 == 0 :\n",
    "        d[i] = min(d[i], d[i //3] + 1)\n",
    "        #현재의 수가 5로 나누어 떨어지는 경우\n",
    "    if i % 5 == 0 :\n",
    "        d[i] = min(d[i], d[i //5] + 1)\n",
    "        \n",
    "print(d[x])        "
   ]
  },
  {
   "cell_type": "code",
   "execution_count": null,
   "id": "fef809a2",
   "metadata": {},
   "outputs": [],
   "source": []
  },
  {
   "cell_type": "markdown",
   "id": "64010c85",
   "metadata": {},
   "source": [
    "![](image/128.png)"
   ]
  },
  {
   "cell_type": "markdown",
   "id": "3c27a70b",
   "metadata": {},
   "source": [
    "![](image/129.png)"
   ]
  },
  {
   "cell_type": "markdown",
   "id": "da17bf06",
   "metadata": {},
   "source": [
    "![](image/130.png)"
   ]
  },
  {
   "cell_type": "markdown",
   "id": "f46c03c6",
   "metadata": {},
   "source": [
    "![](image/131.png)"
   ]
  },
  {
   "cell_type": "markdown",
   "id": "8de664c0",
   "metadata": {},
   "source": [
    "![](image/132.png)"
   ]
  },
  {
   "cell_type": "markdown",
   "id": "3687354d",
   "metadata": {},
   "source": [
    "![](image/133.png)"
   ]
  },
  {
   "cell_type": "markdown",
   "id": "0007ac90",
   "metadata": {},
   "source": [
    "![](image/134.png)"
   ]
  },
  {
   "cell_type": "code",
   "execution_count": 11,
   "id": "cade1c19",
   "metadata": {},
   "outputs": [
    {
     "name": "stdout",
     "output_type": "stream",
     "text": [
      "2 15\n",
      "2\n",
      "3\n",
      "5\n"
     ]
    }
   ],
   "source": [
    "#정수 N, M을 입력 받기\n",
    "n, m = map(int,input().split())\n",
    "#N개의 화폐 단위 정보를 입력받기\n",
    "array = []\n",
    "for i in range(n):\n",
    "    array.append(int(input()))\n",
    "    \n",
    "#한 번 계산된 결과를 저장하기 위한 DP 테이블 초기화\n",
    "d = [10001] * (m + 1)\n",
    "\n",
    "#다이나믹 프로그래밍 진행(보텀업)\n",
    "d[0] = 0\n",
    "for i in range(n):\n",
    "    for j in range(array[i], m + 1):\n",
    "        if d[j - array[i]] != 10001: #(i - k)원을 만드는 방법이 존재하는 경우\n",
    "            d[j] = min(d[j], d[j - array[i]] + 1)\n",
    "            \n",
    "#계산된 결과 출력\n",
    "if d[m] == 10001: #cㅚ종적으로 M원을 만드는 방법이 없는 경우\n",
    "    print(-1)\n",
    "else :\n",
    "    print(d[m])\n",
    "    \n",
    "    "
   ]
  },
  {
   "cell_type": "code",
   "execution_count": null,
   "id": "a4943c82",
   "metadata": {},
   "outputs": [],
   "source": []
  },
  {
   "cell_type": "markdown",
   "id": "16e67bfb",
   "metadata": {},
   "source": [
    "![](image/135.png)"
   ]
  },
  {
   "cell_type": "markdown",
   "id": "d2aa4d0b",
   "metadata": {},
   "source": [
    "![](image/136.png)"
   ]
  },
  {
   "cell_type": "markdown",
   "id": "aacaf3a4",
   "metadata": {},
   "source": [
    "![](image/137.png)"
   ]
  },
  {
   "cell_type": "markdown",
   "id": "cd5c420f",
   "metadata": {},
   "source": [
    "![](image/138.png)"
   ]
  },
  {
   "cell_type": "markdown",
   "id": "0bf26b57",
   "metadata": {},
   "source": [
    "![](image/139.png)"
   ]
  },
  {
   "cell_type": "code",
   "execution_count": 16,
   "id": "ad2e8c91",
   "metadata": {},
   "outputs": [
    {
     "name": "stdout",
     "output_type": "stream",
     "text": [
      "2\n",
      "3 4\n",
      "1 3 3 2 2 1 4 1 0 6 4 7\n",
      "19\n",
      "4 4\n",
      "1 3 1 5 2 2 4 1 5 0 2 3 0 6 1 2\n",
      "16\n"
     ]
    }
   ],
   "source": [
    "#테스트 케이스 입력\n",
    "for tc in range(int(input())):\n",
    "    #금광 정보 입력\n",
    "    n, m = map(int,input().split())\n",
    "    array = list(map(int,input().split()))\n",
    "    # 다이나믹 프로그래밍을 위한 2차원 DP 테이블 초기화\n",
    "    dp = []\n",
    "    index = 0\n",
    "    for i in range(n):\n",
    "        dp.append(array[index:index + m])\n",
    "        index += m\n",
    "    #다이나믹 프로그래밍 진행\n",
    "    for j in range(1, m):\n",
    "        for i in range(n):\n",
    "            #왼쪽 위에서 오는 경우\n",
    "            if i == 0 :\n",
    "                left_up = 0\n",
    "            else :\n",
    "                left_up = dp[i - 1][j - 1]\n",
    "            #왼쪽 아래에서 오는 경우\n",
    "            if i == n - 1:\n",
    "                left_down = 0 \n",
    "            else:\n",
    "                left_down = dp[i + 1][j - 1]\n",
    "            #왼쪽에서 오는 경우\n",
    "            left = dp[i][j - 1]\n",
    "            dp[i][j] = dp[i][j]+ max(left_up, left_down, left)\n",
    "    result = 0\n",
    "    for i in range(n):\n",
    "        result = max(result, dp[i][m - 1])\n",
    "    print(result)\n",
    "            "
   ]
  },
  {
   "cell_type": "code",
   "execution_count": null,
   "id": "0c73629d",
   "metadata": {},
   "outputs": [],
   "source": []
  },
  {
   "cell_type": "markdown",
   "id": "218fbd5c",
   "metadata": {},
   "source": [
    "![](image/140.png)"
   ]
  },
  {
   "cell_type": "markdown",
   "id": "7d3c8a2f",
   "metadata": {},
   "source": [
    "![](image/141.png)"
   ]
  },
  {
   "cell_type": "markdown",
   "id": "dc6a9140",
   "metadata": {},
   "source": [
    "![](image/142.png)"
   ]
  },
  {
   "cell_type": "markdown",
   "id": "a16c92f8",
   "metadata": {},
   "source": [
    "![](image/143.png)"
   ]
  },
  {
   "cell_type": "markdown",
   "id": "707a6556",
   "metadata": {},
   "source": [
    "![](image/144.png)"
   ]
  },
  {
   "cell_type": "markdown",
   "id": "224c5aba",
   "metadata": {},
   "source": [
    "![](image/145.png)"
   ]
  },
  {
   "cell_type": "markdown",
   "id": "fcda2ab6",
   "metadata": {},
   "source": [
    "![](image/146.png)"
   ]
  },
  {
   "cell_type": "code",
   "execution_count": 17,
   "id": "9865cbc4",
   "metadata": {},
   "outputs": [
    {
     "name": "stdout",
     "output_type": "stream",
     "text": [
      "7\n",
      "15 11 4 8 5 2 4\n",
      "2\n"
     ]
    }
   ],
   "source": [
    "n = int(input())\n",
    "array = list(map(int,input().split()))\n",
    "#순서를 뒤집어 '최장 증가 부분 수열' 문제로 변환\n",
    "array.reverse()\n",
    "\n",
    "#다이나믹 프로그래밍을 위한 1차원 DP 테이블 초기화\n",
    "dp = [1] * n\n",
    "\n",
    "#가장 긴 증가하는 부분 수열(LIS) 알고리즘 수행\n",
    "for i in range(1, n):\n",
    "    for j in range(0, i):\n",
    "        if array[j] < array[i]:\n",
    "            dp[i] = max(dp[i], dp[j] + 1)\n",
    "            \n",
    "#열외해야 하는 병사의 최소 수를 출력\n",
    "print(n - max(dp))"
   ]
  },
  {
   "cell_type": "markdown",
   "id": "338a7169",
   "metadata": {},
   "source": [
    "출처 : https://www.youtube.com/watch?v=5Lu34WIx2Us&list=PLRx0vPvlEmdAghTr5mXQxGpHjWqSz0dgC&index=7"
   ]
  }
 ],
 "metadata": {
  "kernelspec": {
   "display_name": "Python 3 (ipykernel)",
   "language": "python",
   "name": "python3"
  },
  "language_info": {
   "codemirror_mode": {
    "name": "ipython",
    "version": 3
   },
   "file_extension": ".py",
   "mimetype": "text/x-python",
   "name": "python",
   "nbconvert_exporter": "python",
   "pygments_lexer": "ipython3",
   "version": "3.9.7"
  }
 },
 "nbformat": 4,
 "nbformat_minor": 5
}
