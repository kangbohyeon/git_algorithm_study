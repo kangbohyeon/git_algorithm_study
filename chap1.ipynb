{
 "cells": [
  {
   "cell_type": "code",
   "execution_count": 9,
   "metadata": {},
   "outputs": [
    {
     "name": "stdout",
     "output_type": "stream",
     "text": [
      "====================================================================================================\n",
      " 이 크롤러는 RISS 사이트의 논문 및 학술자료 수집용 웹크롤러입니다.\n",
      "====================================================================================================\n",
      "1.수집할 자료의 키워드는 무엇입니까?(여러개일 경우 , 로 구분하여 입력): 전염병\n",
      "\n",
      "\n"
     ]
    },
    {
     "name": "stderr",
     "output_type": "stream",
     "text": [
      "/var/folders/bb/9fd_283x46vgg_b_10chnt900000gn/T/ipykernel_60845/2725549761.py:23: DeprecationWarning: executable_path has been deprecated, please pass in a Service object\n",
      "  driver = webdriver.Chrome(chrome_path)\n"
     ]
    }
   ],
   "source": [
    "# riss.kr 에서 특정 키워드로 논문 / 학술 자료 검색하기(검색은 안됨)\n",
    "\n",
    "#Step 1. 필요한 모듈을 로딩합니다\n",
    "from selenium import webdriver\n",
    "import time          \n",
    "\n",
    "#신규방법 사용시 아래 코드의 주석 제거후 사용하세요\n",
    "#from selenium.webdriver.common.by import By\n",
    "#from selenium.webdriver.common.keys import Keys\n",
    "#from selenium.webdriver.chrome.service import Service\n",
    "\n",
    "#Step 2. 사용자에게 검색 관련 정보들을 입력 받습니다.\n",
    "print(\"=\" *100)\n",
    "print(\" 이 크롤러는 RISS 사이트의 논문 및 학술자료 수집용 웹크롤러입니다.\")\n",
    "print(\"=\" *100)\n",
    "query_txt = input('1.수집할 자료의 키워드는 무엇입니까?(여러개일 경우 , 로 구분하여 입력): ')\n",
    "#query_txt = '해양자원,도시재생'\n",
    "print(\"\\n\")\n",
    "\n",
    "#Step 3. 크롬 드라이버 설정 및 웹 페이지 열기 \n",
    "#크롬 드라이버 설정 기존 방법\n",
    "chrome_path = \"/Users/bohyenkang/jupyter notebook/chromedriver\"\n",
    "driver = webdriver.Chrome(chrome_path)\n",
    "\n",
    "#크롬 드라이버 설정 신규 방법-윈도기준\n",
    "#s = Service(\"c:/temp/chromedriver.exe\")\n",
    "#driver = webdriver.Chrome(service=s)\n",
    "\n",
    "#Step 3. 크롬 드라이버 설정 - macOS용\n",
    "#s = Service(\"/Users/bohyenkang/jupyter notebook/chromedriver\")\n",
    "#driver = webdriver.Chrome(service=s)\n",
    "\n",
    "url = 'http://www.riss.kr/'\n",
    "driver.get(url)\n",
    "time.sleep(2)"
   ]
  },
  {
   "cell_type": "code",
   "execution_count": 13,
   "metadata": {
    "scrolled": true
   },
   "outputs": [
    {
     "name": "stdout",
     "output_type": "stream",
     "text": [
      "====================================================================================================\n",
      " 이 크롤러는 RISS 사이트의 논문 및 학술자료 수집용 웹크롤러입니다.\n",
      "====================================================================================================\n",
      "1.수집할 자료의 키워드는 무엇입니까?(여러개일 경우 , 로 구분하여 입력): 전염병\n",
      "\n",
      "\n"
     ]
    },
    {
     "name": "stderr",
     "output_type": "stream",
     "text": [
      "/var/folders/bb/9fd_283x46vgg_b_10chnt900000gn/T/ipykernel_60845/158169393.py:23: DeprecationWarning: executable_path has been deprecated, please pass in a Service object\n",
      "  driver = webdriver.Chrome(chrome_path)\n",
      "/var/folders/bb/9fd_283x46vgg_b_10chnt900000gn/T/ipykernel_60845/158169393.py:41: DeprecationWarning: find_element_by_* commands are deprecated. Please use find_element() instead\n",
      "  element = driver.find_element_by_xpath('//*[@id=\"query\"]')\n",
      "/var/folders/bb/9fd_283x46vgg_b_10chnt900000gn/T/ipykernel_60845/158169393.py:42: DeprecationWarning: find_element_by_* commands are deprecated. Please use find_element() instead\n",
      "  driver.find_element_by_id(\"query\").click( )\n",
      "/var/folders/bb/9fd_283x46vgg_b_10chnt900000gn/T/ipykernel_60845/158169393.py:47: DeprecationWarning: find_element_by_* commands are deprecated. Please use find_element() instead\n",
      "  driver.find_element_by_link_text('학위논문').click() #특정메뉴클릭\n"
     ]
    }
   ],
   "source": [
    "# riss.kr 에서 특정 키워드로 논문 / 학술 자료 검색하기 / 클릭하기 \n",
    "\n",
    "#Step 1. 필요한 모듈을 로딩합니다\n",
    "from selenium import webdriver\n",
    "import time          \n",
    "\n",
    "#신규방법 사용시 아래 코드의 주석 제거후 사용하세요\n",
    "#from selenium.webdriver.common.by import By\n",
    "#from selenium.webdriver.common.keys import Keys\n",
    "#from selenium.webdriver.chrome.service import Service\n",
    "\n",
    "#Step 2. 사용자에게 검색 관련 정보들을 입력 받습니다.\n",
    "print(\"=\" *100)\n",
    "print(\" 이 크롤러는 RISS 사이트의 논문 및 학술자료 수집용 웹크롤러입니다.\")\n",
    "print(\"=\" *100)\n",
    "query_txt = input('1.수집할 자료의 키워드는 무엇입니까?(여러개일 경우 , 로 구분하여 입력): ')\n",
    "#query_txt = '해양자원,도시재생'\n",
    "print(\"\\n\")\n",
    "\n",
    "#Step 3. 크롬 드라이버 설정 및 웹 페이지 열기 \n",
    "#크롬 드라이버 설정 기존 방법\n",
    "chrome_path = \"/Users/bohyenkang/jupyter notebook/chromedriver\"\n",
    "driver = webdriver.Chrome(chrome_path)\n",
    "\n",
    "#크롬 드라이버 설정 신규 방법-윈도기준\n",
    "#s = Service(\"c:/temp/chromedriver.exe\")\n",
    "#driver = webdriver.Chrome(service=s)\n",
    "\n",
    "#Step 3. 크롬 드라이버 설정 - macOS용\n",
    "#s = Service(\"/Users/bohyenkang/jupyter notebook/chromedriver\")\n",
    "#driver = webdriver.Chrome(service=s)\n",
    "\n",
    "url = 'http://www.riss.kr/'\n",
    "driver.get(url)\n",
    "time.sleep(2)\n",
    "driver.maximize_window() #전체화면으로 키우기\n",
    "\n",
    "#Step 4. 자동으로 검색어 입력 후 조회하기-기존방법\n",
    "#element = driver.find_element_by_id(\"query\") id방법\n",
    "#element = driver.find_element_by_name(\"query\") name 방법\n",
    "element = driver.find_element_by_xpath('//*[@id=\"query\"]')\n",
    "driver.find_element_by_id(\"query\").click( )\n",
    "element.send_keys(query_txt)\n",
    "element.send_keys(\"\\n\")\n",
    "\n",
    "time.sleep(2)\n",
    "driver.find_element_by_link_text('학위논문').click() #특정메뉴클릭 \n",
    "\n",
    "#Step 4. 자동으로 검색어 입력 후 조회하기-신규방법\n",
    "# element = driver.find_element(By.ID,'query')\n",
    "# driver.find_element(By.ID,'query').click( )\n",
    "# element.send_keys(query_txt)\n",
    "# element.send_keys(\"\\n\")"
   ]
  },
  {
   "cell_type": "code",
   "execution_count": null,
   "metadata": {},
   "outputs": [],
   "source": []
  }
 ],
 "metadata": {
  "kernelspec": {
   "display_name": "Python 3 (ipykernel)",
   "language": "python",
   "name": "python3"
  },
  "language_info": {
   "codemirror_mode": {
    "name": "ipython",
    "version": 3
   },
   "file_extension": ".py",
   "mimetype": "text/x-python",
   "name": "python",
   "nbconvert_exporter": "python",
   "pygments_lexer": "ipython3",
   "version": "3.9.7"
  }
 },
 "nbformat": 4,
 "nbformat_minor": 2
}
