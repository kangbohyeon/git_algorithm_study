{
 "cells": [
  {
   "cell_type": "markdown",
   "id": "ac76104a",
   "metadata": {},
   "source": [
    "# 그리디 알고리즘\n",
    "### 현재 상황에서 지금 당장 좋은 것만 고르는 방법을 의미\n",
    "### 문제를 풀기 위한 최소한의 아이디어를 떠올릴 수 있는 능력을 요구\n",
    "### 정당성 분석이 중요\n",
    "### 단순히 가장 좋아 보이는 것을 반복적으로 선택해도 최적의 해를 구할 수 있는지 검토\n"
   ]
  },
  {
   "cell_type": "markdown",
   "id": "0ff68515",
   "metadata": {},
   "source": [
    "![](attachement:1.png)"
    
   ]
  },
  {
   "cell_type": "markdown",
   "id": "d7fee26a",
   "metadata": {},
   "source": [
    "### 최적의 해를 빠르게 구하기 위해서는 가장큰 화폐 단위부터 돈을 거슬러 주면 됩니다.\n",
    "### N원을 거슬러 줘야 할때, 가장 먼저 500원으로 거슬러 줄 수 있을 만큼 거슬러 줍니다.\n",
    "    이후에 100원, 50원, 10원짜리 동전을 차례대로 거슬러 줄 수 있을 만큼 거슬러 주면 됩니다."
   ]
  },
  {
   "cell_type": "code",
   "execution_count": 3,
   "id": "a5bcc6c2",
   "metadata": {},
   "outputs": [
    {
     "name": "stdout",
     "output_type": "stream",
     "text": [
      "6\n"
     ]
    }
   ],
   "source": [
    "n = 1260\n",
    "count = 0\n",
    "\n",
    "#큰 단위의 화폐부터 차례대로 확인하기\n",
    "array = [500, 100, 50, 10]\n",
    "\n",
    "for coin in array:\n",
    "    count += n // coin #해당 화폐로 거슬러 줄 수 있는 동전의 개수 세기\n",
    "    n %= coin\n",
    "\n",
    "print(count)"
   ]
  },
  {
   "cell_type": "code",
   "execution_count": null,
   "id": "2b9e3ae2",
   "metadata": {},
   "outputs": [],
   "source": []
  },
  {
   "cell_type": "markdown",
   "id": "11034f37",
   "metadata": {},
   "source": [
    "화폐의 종류가 k라고 할 때, 소스코드의 시간 복잡도는 O(K)\n",
    "\n",
    "알고리즘의 시간 복잡도는 거슬러줘야 하는 금액과는 무관하며, 동전의 총 종류에만 영향을 받습니다."
   ]
  },
  {
   "cell_type": "markdown",
   "id": "5a9f64a2",
   "metadata": {},
   "source": [
    "![](./1.jpg)"
   ]
  },
  {
   "cell_type": "markdown",
   "id": "b9b304a5",
   "metadata": {},
   "source": [
    "![](./2.jpg)"
   ]
  },
  {
   "cell_type": "markdown",
   "id": "bbde8e4f",
   "metadata": {},
   "source": [
    "![](./3.jpg)"
   ]
  },
  {
   "cell_type": "markdown",
   "id": "1495fdb0",
   "metadata": {},
   "source": [
    "### N이 아무리 큰 수여도, K로 계속 나눈다면 기하급수적으로 빠르게 줄일 수 있습니다.\n",
    "### 다시 말해 K가 2 이상이기만 하면, K로 나누는 것이 1을 빼는 것보다 항상 빠르게 N을 줄일 수 있습니다\n",
    "    또한 N은 항상 1에 도달(최적의 해 성립)"
   ]
  },
  {
   "cell_type": "code",
   "execution_count": 6,
   "id": "95af3ce2",
   "metadata": {},
   "outputs": [
    {
     "name": "stdout",
     "output_type": "stream",
     "text": [
      "25 3\n",
      "6\n"
     ]
    }
   ],
   "source": [
    "# N, k을 공백을 기준으로 구분하여 입력 받기\n",
    "n, k = map(int, input().split())\n",
    "\n",
    "result = 0\n",
    "\n",
    "while True:\n",
    "    # N이 k로 나누어 떨어지는 수가 될 때까지 빼기\n",
    "    target = (n // k) * k\n",
    "    result += (n- target)\n",
    "    n = target\n",
    "    #N이 K보다 작을 때 (더 이상 나눌 수 없을 때) 반복문 탈출\n",
    "    if n<k:\n",
    "        break\n",
    "    # k로 나누기\n",
    "    result += 1\n",
    "    n //= k\n",
    "\n",
    "# 마지막으로 남은 수에 대하여 1씩 빼기\n",
    "result += (n - 1)\n",
    "print(result)\n"
   ]
  },
  {
   "cell_type": "code",
   "execution_count": null,
   "id": "fd95eab7",
   "metadata": {},
   "outputs": [],
   "source": []
  },
  {
   "cell_type": "markdown",
   "id": "1659b2b4",
   "metadata": {},
   "source": [
    "![](./4.jpg)"
   ]
  },
  {
   "cell_type": "markdown",
   "id": "25386077",
   "metadata": {},
   "source": [
    "![](./5.png)"
   ]
  },
  {
   "cell_type": "markdown",
   "id": "a7e8d061",
   "metadata": {},
   "source": [
    "### 대부분 경우 '+'보다는 '*'가 더 값을 크게 만듭니다.\n",
    "    예를 들어 5 + 6 =11이고, 5 * 6 =30\n",
    "### 다만 두 수 중에서 하나라도 '0' 혹은 '1'인 경우, 곱하기보다는 더하기를 수행하는 것이 효율적\n",
    "### 따라서 두 수에 대하여 연산을 수행할 때, 두 수 중에서 하나라도 1 이하인 경우에는 더하며, 두 수가 모두 2 이상인 경우에는 곱하면 정답"
   ]
  },
  {
   "cell_type": "code",
   "execution_count": 9,
   "id": "edb3fa31",
   "metadata": {},
   "outputs": [
    {
     "name": "stdout",
     "output_type": "stream",
     "text": [
      "02984\n",
      "576\n"
     ]
    }
   ],
   "source": [
    "data = input()\n",
    "\n",
    "# 첫 번째 문자를 숫자로 변경하여 대입\n",
    "result = int(data[0])\n",
    "\n",
    "for i in range(1, len(data)):\n",
    "    #두 수 중에서 하나라도 '0' 혹은 '1'인 경우, 곱하기보다는 더하기 수행\n",
    "    num = int(data[i])\n",
    "    if num <=1 or result <=1 :\n",
    "        result += num\n",
    "    else :\n",
    "        result *= num\n",
    "    \n",
    "print(result)"
   ]
  },
  {
   "cell_type": "code",
   "execution_count": null,
   "id": "95c706ea",
   "metadata": {},
   "outputs": [],
   "source": []
  },
  {
   "cell_type": "markdown",
   "id": "502e1195",
   "metadata": {},
   "source": [
    "![](./6.png)"
   ]
  },
  {
   "cell_type": "markdown",
   "id": "e71f0aac",
   "metadata": {},
   "source": [
    "![](./7.png)"
   ]
  },
  {
   "cell_type": "markdown",
   "id": "c891178c",
   "metadata": {},
   "source": [
    "![](./8.png)"
   ]
  },
  {
   "cell_type": "markdown",
   "id": "9ad8fa9b",
   "metadata": {},
   "source": [
    "![](./9.png)"
   ]
  },
  {
   "cell_type": "markdown",
   "id": "d520d68b",
   "metadata": {},
   "source": [
    "![](./10.png)"
   ]
  },
  {
   "cell_type": "code",
   "execution_count": 10,
   "id": "66abd645",
   "metadata": {},
   "outputs": [
    {
     "name": "stdout",
     "output_type": "stream",
     "text": [
      "5\n",
      "2 3 1 2 2\n",
      "2\n"
     ]
    }
   ],
   "source": [
    "n = int(input())\n",
    "data = list(map(int, input().split()))\n",
    "data.sort()\n",
    "\n",
    "result = 0 # 총 그룹의 수\n",
    "count = 0 #현재 그룹에 포함된 모험가의 수\n",
    "\n",
    "for i in data : # 공포도를 낮은 것 부터 하나씩 확인하며\n",
    "    count += 1 #현재 그룹에 해당 모험가를 포함시키기\n",
    "    if count >= i: #현재 그룹에 포함된 모험가의 수가 현재의 공포도 이상이라면, 그룹 결성\n",
    "        result +=1 #총 그룹의 수 증가시키기\n",
    "        count = 0 #현재 그룹에 포함된 모험가의 수 초기화\n",
    "        \n",
    "print(result) #총 그룹의 수 출력\n"
   ]
  },
  {
   "cell_type": "code",
   "execution_count": null,
   "id": "f5d62935",
   "metadata": {},
   "outputs": [],
   "source": []
  },
  {
   "cell_type": "markdown",
   "id": "539844e5",
   "metadata": {},
   "source": [
    "![](./11.png)"
   ]
  },
  {
   "cell_type": "markdown",
   "id": "44f56553",
   "metadata": {},
   "source": [
    "# 구현\n",
    "### 흔히 알고리즘 대회에서 구현 유형의 문제란 무엇을 의미할까요??\n",
    "    풀이를 떠올리는 것은 쉽지만 소스코드로 옮기기 어려운 문제를 지칭\n",
    "### 구현 유형의 예시는 다음과 같습니다.\n",
    "    알고리즘은 간단한데 코드가 지나칠 만큼 길어지는 문제\n",
    "    실수 연산을 다루고, 특정 소수점 자리까지 출력해야 하는 문제\n",
    "    문자열을 특정한 기준에 따라서 끊어 처리해야 하는 문제\n",
    "    적절한 라이브러리를 찾아서 사용해야 하는 문제"
   ]
  },
  {
   "cell_type": "markdown",
   "id": "a3d39238",
   "metadata": {},
   "source": [
    "![](./12.png)"
   ]
  },
  {
   "cell_type": "markdown",
   "id": "03678bb2",
   "metadata": {},
   "source": [
    "![](./13.png)"
   ]
  },
  {
   "cell_type": "code",
   "execution_count": null,
   "id": "c553caa8",
   "metadata": {},
   "outputs": [],
   "source": []
  },
  {
   "cell_type": "markdown",
   "id": "03c3536f",
   "metadata": {},
   "source": [
    "![](./14.png)"
   ]
  },
  {
   "cell_type": "markdown",
   "id": "736c130d",
   "metadata": {},
   "source": [
    "![](./15.png)"
   ]
  },
  {
   "cell_type": "markdown",
   "id": "ada4f8f8",
   "metadata": {},
   "source": [
    "![](./16.png)"
   ]
  },
  {
   "cell_type": "markdown",
   "id": "c8ef7bfd",
   "metadata": {},
   "source": [
    "![](./17.png)"
   ]
  },
  {
   "cell_type": "code",
   "execution_count": 12,
   "id": "aa4c68ac",
   "metadata": {},
   "outputs": [
    {
     "name": "stdout",
     "output_type": "stream",
     "text": [
      "5\n",
      "R R R U D\n",
      "2 4\n"
     ]
    }
   ],
   "source": [
    "#N 입력 받기\n",
    "n = int(input())\n",
    "x, y =1, 1\n",
    "plans = input().split()\n",
    "\n",
    "#L, R, U, D에 따른 이동 방향\n",
    "dx = [0, 0, -1, 1]\n",
    "dy = [-1, 1, 0, 0]\n",
    "move_types = ['L', 'R', 'U', 'D']\n",
    "\n",
    "#이동 계획을 하나씩 확인하기\n",
    "for plan in plans :\n",
    "    #이동 후 좌표 구하기\n",
    "    for i in range(len(move_types)):\n",
    "        if plan == move_types[i]:\n",
    "            nx = x + dx[i]\n",
    "            ny = y + dy[i]\n",
    "        #공간을 벗어나는 경우 무시\n",
    "    if nx < 1 or ny <1 or nx > n or ny > n:\n",
    "            continue\n",
    "        #이동 수행\n",
    "    x, y = nx, ny\n",
    "        \n",
    "\n",
    "print(x, y)\n",
    "\n"
   ]
  },
  {
   "cell_type": "code",
   "execution_count": null,
   "id": "5f5beb36",
   "metadata": {},
   "outputs": [],
   "source": []
  },
  {
   "cell_type": "markdown",
   "id": "7ee81e57",
   "metadata": {},
   "source": [
    "![](./18.png)"
   ]
  },
  {
   "cell_type": "markdown",
   "id": "f16ddc24",
   "metadata": {},
   "source": [
    "![](./19.png)"
   ]
  },
  {
   "cell_type": "markdown",
   "id": "e4b66a2f",
   "metadata": {},
   "source": [
    "![](./20.png)"
   ]
  },
  {
   "cell_type": "code",
   "execution_count": 14,
   "id": "3c755d66",
   "metadata": {},
   "outputs": [
    {
     "name": "stdout",
     "output_type": "stream",
     "text": [
      "5\n",
      "11475\n"
     ]
    }
   ],
   "source": [
    "#H 입력 받기\n",
    "h = int(input())\n",
    "\n",
    "count  = 0\n",
    "for i in range(h + 1):\n",
    "    for j in range(60):\n",
    "        for k in range(60):\n",
    "            #매 시각 안에 '3'이 포함되어 있다면 카운트 증가\n",
    "            if '3' in str(i) + str(j) + str(k):\n",
    "                count +=1\n",
    "                \n",
    "print(count)"
   ]
  },
  {
   "cell_type": "code",
   "execution_count": null,
   "id": "49359b3e",
   "metadata": {},
   "outputs": [],
   "source": []
  },
  {
   "cell_type": "markdown",
   "id": "7ce205ac",
   "metadata": {},
   "source": [
    "![](./21.png)"
   ]
  },
  {
   "cell_type": "markdown",
   "id": "330537a5",
   "metadata": {},
   "source": [
    "![](./22.png)"
   ]
  },
  {
   "cell_type": "markdown",
   "id": "cbbd6f27",
   "metadata": {},
   "source": [
    "![](./23.png)"
   ]
  },
  {
   "cell_type": "markdown",
   "id": "31705ba8",
   "metadata": {},
   "source": [
    "![](./24.png)"
   ]
  },
  {
   "cell_type": "code",
   "execution_count": 17,
   "id": "03f59635",
   "metadata": {},
   "outputs": [
    {
     "name": "stdout",
     "output_type": "stream",
     "text": [
      "a1\n",
      "2\n"
     ]
    }
   ],
   "source": [
    "#현재 나이트의 위치 입력받기\n",
    "input_data = input()\n",
    "row = int(input_data[1])\n",
    "column = int(ord(input_data[0])) - int(ord('a')) + 1\n",
    "\n",
    "#나이트가 이동할 수 있는 8가지 방향 정의\n",
    "steps = [(-2,-1), (-1, -2), (1, -2), (2, -1), (2, 1), (1, 2), (-1, 2), (-2, 1)]\n",
    "\n",
    "#8가지 방향에 대하여 각 위치로 이동이 가능한지 확인\n",
    "result = 0\n",
    "for step in steps:\n",
    "    #이동하고자 하는 위치 확인\n",
    "    next_row = row + step[0]\n",
    "    next_column = column + step[1]\n",
    "    #해당 위치로 이동이 가능하다면 카운트 증가\n",
    "    if next_row >= 1 and next_row <= 8 and next_column >=1 and next_column <=8:\n",
    "        result +=1\n",
    "        \n",
    "print(result)"
   ]
  },
  {
   "cell_type": "code",
   "execution_count": null,
   "id": "d6fdfea7",
   "metadata": {},
   "outputs": [],
   "source": []
  },
  {
   "cell_type": "markdown",
   "id": "b535f94f",
   "metadata": {},
   "source": [
    "![](./25.png)"
   ]
  },
  {
   "cell_type": "markdown",
   "id": "c30e4fe6",
   "metadata": {},
   "source": [
    "![](./26.png)"
   ]
  },
  {
   "cell_type": "markdown",
   "id": "aac3a858",
   "metadata": {},
   "source": [
    "![](./27.png)"
   ]
  },
  {
   "cell_type": "code",
   "execution_count": 18,
   "id": "9d3a4d44",
   "metadata": {},
   "outputs": [
    {
     "name": "stdout",
     "output_type": "stream",
     "text": [
      "asdfh123\n",
      "adfhs6\n"
     ]
    }
   ],
   "source": [
    "data = input()\n",
    "result = []\n",
    "value = 0\n",
    "\n",
    "#문자를 하나씩 확인하며\n",
    "for x in data :\n",
    "    #알파벳인 경우 결과 리스트에 삽입\n",
    "    if x.isalpha():\n",
    "        result.append(x)\n",
    "    #숫자는 따로 더하기\n",
    "    else :\n",
    "        value += int(x)\n",
    "        \n",
    "#알파벳을 오름차순으로 정렬\n",
    "result.sort()\n",
    "\n",
    "#숫자가 하나라도 존재하는 경우 가장 뒤에 삽입\n",
    "if value !=0:\n",
    "    result.append(str(value))\n",
    "    \n",
    "#최종 결과 출력(리스트를 문자열로 변환하여 출력)\n",
    "print(''.join(result))"
   ]
  },
  {
   "cell_type": "code",
   "execution_count": null,
   "id": "f816d462",
   "metadata": {},
   "outputs": [],
   "source": [
    "c"
   ]
  }
 ],
 "metadata": {
  "kernelspec": {
   "display_name": "Python 3 (ipykernel)",
   "language": "python",
   "name": "python3"
  },
  "language_info": {
   "codemirror_mode": {
    "name": "ipython",
    "version": 3
   },
   "file_extension": ".py",
   "mimetype": "text/x-python",
   "name": "python",
   "nbconvert_exporter": "python",
   "pygments_lexer": "ipython3",
   "version": "3.9.7"
  }
 },
 "nbformat": 4,
 "nbformat_minor": 5
}
