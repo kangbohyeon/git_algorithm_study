{
 "cells": [
  {
   "cell_type": "markdown",
   "id": "94176f44",
   "metadata": {},
   "source": [
    "![](image/56.png)"
   ]
  },
  {
   "cell_type": "markdown",
   "id": "fca605c2",
   "metadata": {},
   "source": [
    "# 선택 정렬\n",
    "+ 처리되지 않은 데이터 중에서 가장 작은 데이터를 선택해 맨 앞에 있는 데이터와 바꾸는 것을 반복합니다"
   ]
  },
  {
   "cell_type": "markdown",
   "id": "19957092",
   "metadata": {},
   "source": [
    "# 선택 정렬의 시간 복잡도\n",
    "+ 선택 정렬은 N번 만큼 가장 작은 수를 찾아서 맨 앞으로 보내야 합니다.\n",
    "+ 구현 방식에 따라서 사소한 오차는 있을 수 있지만, 전체 연산 횟수는 다음과 같습니다.\n",
    "                N + (N -1) + (N -2) + ... + 2\n",
    "+ 이는 (N^2 + N - 2)/2로 표현할 수 있는데, 빅오 표기법에 따라서 O(N^2)이라고 작성합니다."
   ]
  },
  {
   "cell_type": "markdown",
   "id": "67781f7f",
   "metadata": {},
   "source": [
    "![](image/57.png)"
   ]
  },
  {
   "cell_type": "markdown",
   "id": "489f3247",
   "metadata": {},
   "source": [
    "![](image/58.png)"
   ]
  },
  {
   "cell_type": "markdown",
   "id": "ff259016",
   "metadata": {},
   "source": [
    "![](image/59.png)"
   ]
  },
  {
   "cell_type": "markdown",
   "id": "70a60137",
   "metadata": {},
   "source": [
    "![](image/60.png)"
   ]
  },
  {
   "cell_type": "markdown",
   "id": "5b79260b",
   "metadata": {},
   "source": [
    "![](image/61.png)"
   ]
  },
  {
   "cell_type": "markdown",
   "id": "75663c0f",
   "metadata": {},
   "source": [
    "![](image/62.png)"
   ]
  },
  {
   "cell_type": "code",
   "execution_count": 3,
   "id": "90ea3098",
   "metadata": {},
   "outputs": [
    {
     "name": "stdout",
     "output_type": "stream",
     "text": [
      "[0, 1, 2, 3, 4, 5, 6, 7, 8, 9]\n"
     ]
    }
   ],
   "source": [
    "array = [7, 5, 9, 0, 3, 1, 6, 2, 4, 8]\n",
    "\n",
    "for i in range(len(array)):\n",
    "    min_index = i #가장 작은 원소의 인덱스\n",
    "    for j in range(i + 1, len(array)):\n",
    "        if array[min_index] > array[j]:\n",
    "            min_index = j\n",
    "    array[i], array[min_index] = array[min_index], array[i] # 스와프\n",
    "    \n",
    "print(array)"
   ]
  },
  {
   "cell_type": "code",
   "execution_count": null,
   "id": "ac4292b2",
   "metadata": {},
   "outputs": [],
   "source": []
  },
  {
   "cell_type": "markdown",
   "id": "b88f163c",
   "metadata": {},
   "source": [
    "# 삽입 정렬\n",
    "+ 처리되지 않은 데이터를 하나씩 골라 적절한 위치에 삽입합니다.\n",
    "+ 선택 정렬에 비해 구현 난이도가 높은 편이지만, 일반적으로 더 효율적으로 동작합니다."
   ]
  },
  {
   "cell_type": "markdown",
   "id": "4a5ba618",
   "metadata": {},
   "source": [
    "![](image/63.png)"
   ]
  },
  {
   "cell_type": "markdown",
   "id": "7f74e9c5",
   "metadata": {},
   "source": [
    "![](image/64.png)"
   ]
  },
  {
   "cell_type": "markdown",
   "id": "13c1bddd",
   "metadata": {},
   "source": [
    "![](image/65.png)"
   ]
  },
  {
   "cell_type": "markdown",
   "id": "d19f1767",
   "metadata": {},
   "source": [
    "![](image/66.png)"
   ]
  },
  {
   "cell_type": "markdown",
   "id": "7d9ebd8a",
   "metadata": {},
   "source": [
    "![](image/67.png)"
   ]
  },
  {
   "cell_type": "code",
   "execution_count": 4,
   "id": "2431ee67",
   "metadata": {},
   "outputs": [
    {
     "name": "stdout",
     "output_type": "stream",
     "text": [
      "[0, 1, 2, 3, 4, 5, 6, 7, 8, 9]\n"
     ]
    }
   ],
   "source": [
    "array = [7, 5, 9, 0, 3, 1, 6, 2, 4, 8]\n",
    "\n",
    "for i in range(1,len(array)):\n",
    "    for j in range(i, 0, -1): #인덱스 i부터 1까지 1씩 감소하며 반복하는 문법\n",
    "        if array[j] < array[j - 1]: # 한 칸씩 왼쪽으로 이동\n",
    "            array[j], array[j - 1] = array[j - 1], array[j]\n",
    "        else : #자기보다 작은 데이터를 만나면 그 위치에서 멈춤\n",
    "            break\n",
    "            \n",
    "print(array)"
   ]
  },
  {
   "cell_type": "markdown",
   "id": "4f9108db",
   "metadata": {},
   "source": [
    "![](image/68.png)"
   ]
  },
  {
   "cell_type": "code",
   "execution_count": null,
   "id": "b3f27ec7",
   "metadata": {},
   "outputs": [],
   "source": []
  },
  {
   "cell_type": "markdown",
   "id": "69d3b0ea",
   "metadata": {},
   "source": [
    "# 퀵정렬\n",
    "+ 기준 데이터를 설정하고 그 기준보다 큰 데이터와 작은 데이터의 위치를 바꾸는 방법입니다.\n",
    "+ 일반적인 상황에서 가장 많이 사용되는 정렬 알고리즘 중 하나입니다.\n",
    "+ 병합 정렬과 더불어 대부분의 프로그래밍 언어의 정렬 라이브러리의 근간이 되는 알고리즘입니다.\n",
    "+ 가장 기본적인 퀵 정렬은 첫 번째 데이터를 기준 데이터로 설정합니다."
   ]
  },
  {
   "cell_type": "markdown",
   "id": "c05f3437",
   "metadata": {},
   "source": [
    "![](image/69.png)"
   ]
  },
  {
   "attachments": {},
   "cell_type": "markdown",
   "id": "26a33158",
   "metadata": {},
   "source": [
    "![](image/70.png)"
   ]
  },
  {
   "cell_type": "markdown",
   "id": "740835bd",
   "metadata": {},
   "source": [
    "![](image/71.png)"
   ]
  },
  {
   "cell_type": "markdown",
   "id": "29d73637",
   "metadata": {},
   "source": [
    "![](image/72.png)"
   ]
  },
  {
   "cell_type": "markdown",
   "id": "523bd607",
   "metadata": {},
   "source": [
    "![](image/73.png)"
   ]
  },
  {
   "cell_type": "markdown",
   "id": "0f39c0e5",
   "metadata": {},
   "source": [
    "![](image/74.png)"
   ]
  },
  {
   "cell_type": "markdown",
   "id": "7c8bbdbb",
   "metadata": {},
   "source": [
    "![](image/75.png)"
   ]
  },
  {
   "cell_type": "markdown",
   "id": "ba247381",
   "metadata": {},
   "source": [
    "![](image/76.png)"
   ]
  },
  {
   "cell_type": "code",
   "execution_count": 1,
   "id": "e1e8c26e",
   "metadata": {},
   "outputs": [
    {
     "name": "stdout",
     "output_type": "stream",
     "text": [
      "[0, 1, 2, 3, 4, 5, 6, 7, 8, 9]\n"
     ]
    }
   ],
   "source": [
    "array = [5, 7, 9, 0, 3, 1, 6, 2, 4, 8]\n",
    "\n",
    "def quick_sort(array, start, end):\n",
    "    if start >= end: #원소가 1개인 경우 종료\n",
    "        return\n",
    "    pivot = start #피벗은 첫 번째 원소\n",
    "    left = start + 1\n",
    "    right = end\n",
    "    while(left <= right):\n",
    "        # 피벗보다 큰 데이터를 찾을 때까지 반복\n",
    "        while(left <= end and array[left] <= array[pivot]):\n",
    "            left += 1\n",
    "        #피벗보다 작은 데이터를 찾을 때까지 반복    \n",
    "        while(right > start and array[right] >= array[pivot]):\n",
    "            right -= 1\n",
    "        if(left > right): # 엇갈렸다면 작은 데이터와 피벗을 교체\n",
    "            array[right], array[pivot] = array[pivot], array[right]\n",
    "        else :#엇갈리지 않았다면 작은 데이터와 큰 데이터를 교체\n",
    "            array[left], array[right] = array[right], array[left]\n",
    "    #분할 이후 왼쪽 부분과 오른쪽 부분에서 각각 정렬 수행        \n",
    "    quick_sort(array, start, right - 1)\n",
    "    quick_sort(array, right + 1, end)\n",
    "    \n",
    "quick_sort(array, 0 , len(array) - 1)\n",
    "print(array)\n",
    "    "
   ]
  },
  {
   "cell_type": "code",
   "execution_count": 2,
   "id": "053f69e6",
   "metadata": {},
   "outputs": [
    {
     "name": "stdout",
     "output_type": "stream",
     "text": [
      "[0, 1, 2, 3, 4, 5, 6, 7, 8, 9]\n"
     ]
    }
   ],
   "source": [
    "#파이썬의 장점을 살린 방식\n",
    "array = [5, 7, 9, 0, 3, 1, 6, 2, 4, 8]\n",
    "\n",
    "def quick_sort(array):\n",
    "    #리스트가 하나 이하의 원소만을 담고 있다면 종료\n",
    "    if len(array) <= 1:\n",
    "        return array\n",
    "    pivot = array[0]#피벗은 첫 번째 원소\n",
    "    tail = array[1:]#피벗을 제외한 리스트\n",
    "    \n",
    "    left_side = [x for x in tail if x<= pivot]#분할된 왼쪽 부분\n",
    "    right_side = [x for x in tail if x> pivot]#분할된 오른쪽 부분\n",
    "    \n",
    "    #분할 이후 왼쪽 부분과 오른쪽 부분에서 각각 정렬 수행하고, 전체 리스트 반환\n",
    "    return quick_sort(left_side) + [pivot] + quick_sort(right_side)\n",
    "\n",
    "print(quick_sort(array))"
   ]
  },
  {
   "cell_type": "code",
   "execution_count": null,
   "id": "d087799c",
   "metadata": {},
   "outputs": [],
   "source": []
  },
  {
   "cell_type": "markdown",
   "id": "5c38e6f7",
   "metadata": {},
   "source": [
    "# 계수 정렬\n",
    "+ 특정한 조건이 부합할 때만 사용할 수 있지만 매우 빠르게 동작하는 정렬 알고리즘입니다.\n",
    "    + 계수 정렬은 데이터의 크기 범위가 제한되어 정수 형태로 표현할 수 있을 때 사용 가능힙니다.\n",
    "+ 데이터의 개수가 N,데이터(양수)중 최댓값이 k일 때 최악의 경우에도 수행 시간O(N + K)를 보장합니다."
   ]
  },
  {
   "cell_type": "markdown",
   "id": "ef7bdf40",
   "metadata": {},
   "source": [
    "![](image/77.png)"
   ]
  },
  {
   "cell_type": "markdown",
   "id": "175ed28f",
   "metadata": {},
   "source": [
    "![](image/78.png)"
   ]
  },
  {
   "cell_type": "markdown",
   "id": "804e324b",
   "metadata": {},
   "source": [
    "![](image/79.png)"
   ]
  },
  {
   "cell_type": "markdown",
   "id": "3544d2cc",
   "metadata": {},
   "source": [
    "![](image/80.png)"
   ]
  },
  {
   "cell_type": "markdown",
   "id": "6d21f9dc",
   "metadata": {},
   "source": [
    "![](image/81.png)"
   ]
  },
  {
   "cell_type": "markdown",
   "id": "d3c583b8",
   "metadata": {},
   "source": [
    "![](image/82.png)"
   ]
  },
  {
   "cell_type": "code",
   "execution_count": 4,
   "id": "63e2ac9f",
   "metadata": {},
   "outputs": [
    {
     "name": "stdout",
     "output_type": "stream",
     "text": [
      "0 0 1 1 2 3 4 5 5 6 7 8 9 9 "
     ]
    }
   ],
   "source": [
    "#모든 원소의 값이 0보다 크거나 같다고 가정\n",
    "array = [7, 5, 9, 0, 3, 1, 6, 9, 1, 4, 8, 0, 5, 2]\n",
    "#모든 범위를 포함하는 리스트 선언(모든 값은 0으로 초기화)\n",
    "count = [0] * (max(array) + 1)\n",
    "\n",
    "for i in range(len(array)):\n",
    "    count[array[i]] += 1 #각 데이터에 해당하는 인덱스의 값 증가\n",
    "    \n",
    "for i in range(len(count)): #리스트에 기록된 정렬 정보 확인\n",
    "    for j in range(count[i]):\n",
    "        print(i, end = ' ')#띄어쓰기를 구분으로 등장한 횟수만큼 인덱스 출력"
   ]
  },
  {
   "cell_type": "markdown",
   "id": "d6ca65b0",
   "metadata": {},
   "source": [
    "# 계수 정렬의 복잡도 분석\n",
    "+ 계수 정렬의 시간 복잡도와 공간 복잡도는 모두 O(N + K)입니다.\n",
    "+ 계수 정렬은 때에 따라서 심각한 비효율성을 초래할 수 있습니다.\n",
    "    + 데이터가 0과 999,999로 단 2개만 존재하는 경우를 생각해 봅시다.\n",
    "+ 계수 정렬은 동일한 값을 가지는 데이터가 여러개 등장할 때 효과적으로 사용할 수 있습니다.\n",
    "    + 성적의 경우 100점을 맞은 학생이 여러 명일 수 있기 때문에 계수 정렬이 효과적입니다."
   ]
  },
  {
   "cell_type": "code",
   "execution_count": null,
   "id": "84a8907b",
   "metadata": {},
   "outputs": [],
   "source": []
  },
  {
   "cell_type": "markdown",
   "id": "88ce8386",
   "metadata": {},
   "source": [
    "![](image/83.png)"
   ]
  },
  {
   "cell_type": "code",
   "execution_count": 7,
   "id": "b0e2e037",
   "metadata": {},
   "outputs": [
    {
     "name": "stdout",
     "output_type": "stream",
     "text": [
      "선택 정렬 성능 측정: 5.341519117355347\n",
      "기본 정렬 라이브러리 성능 측정: 0.0008208751678466797\n"
     ]
    }
   ],
   "source": [
    "#선택 정렬과 기본 정렬 라이브러리 수행 시간 비교\n",
    "\n",
    "from random import randint\n",
    "import time\n",
    "\n",
    "#배열에 10,000개의 정수를 삽입\n",
    "array = []\n",
    "for _ in range(10000):\n",
    "    #1부터 100사이의 랜덤한 정수\n",
    "    array.append(randint(1,100))\n",
    "    \n",
    "#선택 정렬 프로그램 성능 측정\n",
    "start_time = time.time()\n",
    "\n",
    "#선택 정렬 프로그램 소스 코드\n",
    "for i in range(len(array)):\n",
    "    min_index = i #가장 작은 원소의 인덱스\n",
    "    for j in range(i + 1, len(array)):\n",
    "        if array[min_index] > array[j]:\n",
    "            min_index = j\n",
    "    array[i], array[min_index] = array[min_index], array[i]\n",
    "    \n",
    "#측정 종료\n",
    "end_time = time.time()\n",
    "#수행 시간 출력\n",
    "print(\"선택 정렬 성능 측정:\", end_time - start_time)\n",
    "\n",
    "#배열을 다시 무작위 데이터로 초기화\n",
    "array = []\n",
    "for _ in range(10000):\n",
    "    #1부터 100 사이의 랜덤한 정수\n",
    "    array.append(randint(1,100))\n",
    "    \n",
    "#기본 정렬 라이브러리 성능 측정\n",
    "start_time = time.time()\n",
    "\n",
    "#기본 정렬 라이브러리 사용\n",
    "array.sort()\n",
    "\n",
    "#측정 종료\n",
    "end_time = time.time()\n",
    "#수행 시간 출력\n",
    "print(\"기본 정렬 라이브러리 성능 측정:\", end_time - start_time)\n"
   ]
  },
  {
   "cell_type": "code",
   "execution_count": null,
   "id": "e551527a",
   "metadata": {},
   "outputs": [],
   "source": []
  },
  {
   "cell_type": "markdown",
   "id": "0644a80a",
   "metadata": {},
   "source": [
    "![](image/84.png)"
   ]
  },
  {
   "cell_type": "markdown",
   "id": "8ff67f1a",
   "metadata": {},
   "source": [
    "![](image/85.png)"
   ]
  },
  {
   "cell_type": "markdown",
   "id": "2db7a7b7",
   "metadata": {},
   "source": [
    "![](image/86.png)"
   ]
  },
  {
   "cell_type": "markdown",
   "id": "fe0ad6c4",
   "metadata": {},
   "source": [
    "![](image/87.png)"
   ]
  },
  {
   "cell_type": "code",
   "execution_count": 9,
   "id": "c18ecac5",
   "metadata": {},
   "outputs": [
    {
     "name": "stdout",
     "output_type": "stream",
     "text": [
      "5 3\n",
      "1 2 5 4 3\n",
      "5 5 6 6 5\n",
      "26\n"
     ]
    }
   ],
   "source": [
    "n , k = map(int, input().split()) #N 과 K를 입력 받기\n",
    "a = list(map(int, input().split())) #배열 A의 모든 원소를 입력받기\n",
    "b = list(map(int, input().split())) #배열 B의 모든 원소를 입력받기\n",
    "\n",
    "a.sort() #배열 A는 오름차순 정렬 수행\n",
    "b.sort(reverse=True)#배열 B는 내림차순 정렬 수행\n",
    "\n",
    "#첫 번째 인덱스부터 확이하며, 두배열의 원소를 최대 K번 비교\n",
    "for i in range(k):\n",
    "    #A의 원소가 B의 원소보다 작은 경우\n",
    "    if a[i] < b[i]:\n",
    "        #두 원소를 교체\n",
    "        a[i], b[i] = b[i], a[i]\n",
    "    else : #A의 원소가 B의 원소보다 크거나 같을 때, 반복문을 탈출\n",
    "        break\n",
    "        \n",
    "        \n",
    "print(sum(a)) #배열 A의 모든 원소의 합을 출력\n",
    "        "
   ]
  },
  {
   "cell_type": "markdown",
   "id": "0201c50b",
   "metadata": {},
   "source": [
    "출처 :https://www.youtube.com/watch?v=KGyK-pNvWos&list=PLRx0vPvlEmdAghTr5mXQxGpHjWqSz0dgC&index=4"
   ]
  }
 ],
 "metadata": {
  "kernelspec": {
   "display_name": "Python 3 (ipykernel)",
   "language": "python",
   "name": "python3"
  },
  "language_info": {
   "codemirror_mode": {
    "name": "ipython",
    "version": 3
   },
   "file_extension": ".py",
   "mimetype": "text/x-python",
   "name": "python",
   "nbconvert_exporter": "python",
   "pygments_lexer": "ipython3",
   "version": "3.9.7"
  }
 },
 "nbformat": 4,
 "nbformat_minor": 5
}
