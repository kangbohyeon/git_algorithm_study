{
 "cells": [
  {
   "cell_type": "markdown",
   "id": "0b19c993",
   "metadata": {},
   "source": [
    "# 이진 탐색 알고리즘\n",
    "+ 순차 탐색 : 리스트 안에 있는 데이터를 찾기 위해 앞에서부터 데이터를 하나씩 확인하는 방법\n",
    "+ 이진 탐색 : 정렬되어 있는 리스트에서 탐색 범위를 절반식 좁혀가며 데이터를 탐색하는 방법\n",
    "    + 이진 탐색은 시작점, 끝점, 중간점을 이용하여 탐색 범위를 설정합니다."
   ]
  },
  {
   "cell_type": "markdown",
   "id": "c31bb7c3",
   "metadata": {},
   "source": [
    "# 이진 탐색의 시간 복잡도\n",
    "+ 단계마다 탐색 범위를 2로 나누는것과 동일하므로 연산 횟수는 log2N에 비례합니다.\n",
    "+ 예를 들어 초기 데이터 개수가 32개일 때, 이상적으로 1단계를 거치면 16개가량의 데이터만 남습니다.\n",
    "    + 2단계를 거치면 8개가량의 데이터만 남습니다.\n",
    "    + 3단계를 거치면 4개가량의 데이터만 남습니다.\n",
    "+ 다시 말해 이진 탐색은 탐색 범위를 절반씩 줄이며, 시간 복잡도는 O(logN)을 보장합니다."
   ]
  },
  {
   "cell_type": "markdown",
   "id": "03ac5b46",
   "metadata": {},
   "source": [
    "![](image/88.png)"
   ]
  },
  {
   "cell_type": "markdown",
   "id": "ea1340d0",
   "metadata": {},
   "source": [
    "![](image/89.png)"
   ]
  },
  {
   "cell_type": "markdown",
   "id": "be20f126",
   "metadata": {},
   "source": [
    "![](image/90.png)"
   ]
  },
  {
   "cell_type": "markdown",
   "id": "2051a333",
   "metadata": {},
   "source": [
    "![](image/91.png)"
   ]
  },
  {
   "cell_type": "code",
   "execution_count": 7,
   "id": "52f004f8",
   "metadata": {},
   "outputs": [
    {
     "name": "stdout",
     "output_type": "stream",
     "text": [
      "10 7\n",
      "1 3 5 6 9 11 13 15 17 19\n",
      "원소가 존재하지 않습니다.\n"
     ]
    }
   ],
   "source": [
    "#이진 탐색 소스코드 구현(재귀 함수)\n",
    "def binary_search(array, target, start, end):\n",
    "    if start > end:\n",
    "        return None\n",
    "    mid = (start + end) //2\n",
    "    #찾은 경우 중간점 인덱스 반환\n",
    "    if array[mid] == target:\n",
    "        return mid\n",
    "    #중간점의 값보다 찾고자 하는 값이 작은 경우 왼쪽 확인\n",
    "    elif array[mid] > target:\n",
    "        return binary_search(array, target, start, mid - 1)\n",
    "    #중간점의 값보다 찾고자 하는 값이 큰 경우 오른쪽 확인\n",
    "    else : \n",
    "        return binary_search(array, target, mid + 1, end )\n",
    "    \n",
    "#n(원소의 개수 )과 target(찾고자 하는 값)을 입력받기\n",
    "n, target = list(map(int,input().split()))\n",
    "#전체 원소 입력 받기\n",
    "array = list(map(int, input().split()))\n",
    "\n",
    "#이진 탐색 수행 결과 출력\n",
    "result = binary_search(array, target, 0, n - 1)\n",
    "if result == None :\n",
    "    print(\"원소가 존재하지 않습니다.\")\n",
    "else : \n",
    "    print(result + 1)\n",
    "\n",
    "\n",
    "    "
   ]
  },
  {
   "cell_type": "code",
   "execution_count": 8,
   "id": "e77a78cb",
   "metadata": {},
   "outputs": [
    {
     "name": "stdout",
     "output_type": "stream",
     "text": [
      "10 7\n",
      "1 3 5 7 9 11 13 15 17 19\n",
      "4\n"
     ]
    }
   ],
   "source": [
    "#이진 탐색 소스코드 구현(반복문)\n",
    "def binary_search(array, target, start, end):\n",
    "    while start <= end:\n",
    "        mid = (start + end) //2    \n",
    "        #찾은 경우 중간점 인덱스 반환\n",
    "        if array[mid] == target:\n",
    "            return mid\n",
    "        #중간점의 값보다 찾고자 하는 값이 작은 경우 왼쪽 확인\n",
    "        elif array[mid] > target:\n",
    "            end = mid - 1\n",
    "        #중간점의 값보다 찾고자 하는 값이 큰 경우 오른쪽 확인\n",
    "        else :\n",
    "            start = mid + 1\n",
    "    return None\n",
    "    \n",
    "#n(원소의 개수 )과 target(찾고자 하는 값)을 입력받기\n",
    "n, target = list(map(int,input().split()))\n",
    "#전체 원소 입력 받기\n",
    "array = list(map(int, input().split()))\n",
    "\n",
    "#이진 탐색 수행 결과 출력\n",
    "result = binary_search(array, target, 0, n - 1)\n",
    "if result == None :\n",
    "    print(\"원소가 존재하지 않습니다.\")\n",
    "else : \n",
    "    print(result + 1) "
   ]
  },
  {
   "cell_type": "markdown",
   "id": "caf82f82",
   "metadata": {},
   "source": [
    "![](image/92.png)"
   ]
  },
  {
   "cell_type": "code",
   "execution_count": 22,
   "id": "03ef8556",
   "metadata": {},
   "outputs": [
    {
     "name": "stdout",
     "output_type": "stream",
     "text": [
      "2\n",
      "4\n"
     ]
    }
   ],
   "source": [
    "from bisect import bisect_left, bisect_right\n",
    "\n",
    "a = [1, 2, 4, 4, 8]\n",
    "x = 4\n",
    "\n",
    "print(bisect_left(a, x))\n",
    "print(bisect_right(a, x))"
   ]
  },
  {
   "cell_type": "code",
   "execution_count": 21,
   "id": "0704edd2",
   "metadata": {},
   "outputs": [
    {
     "name": "stdout",
     "output_type": "stream",
     "text": [
      "2\n",
      "6\n"
     ]
    }
   ],
   "source": [
    "from bisect import bisect_left, bisect_right\n",
    "\n",
    "#값이 [left_value, right_value]인 데이터의 개수를 반환하는 함수\n",
    "def count_by_range(a, left_value, right_value):\n",
    "    right_index = bisect_right(a, right_value)\n",
    "    left_index = bisect_left(a, left_value)\n",
    "    return right_index - left_index\n",
    "\n",
    "#배열 선언\n",
    "a = [1, 2, 3, 3, 3, 3, 4, 4, 8, 9]\n",
    "\n",
    "#값이 4인 데이터 개수 출력\n",
    "print(count_by_range(a, 4, 4))\n",
    "\n",
    "# 값이 [-1, 3] 범위에 있는 데이터 개수 출력\n",
    "print(count_by_range(a, -1, 3))"
   ]
  },
  {
   "cell_type": "code",
   "execution_count": null,
   "id": "eda60168",
   "metadata": {},
   "outputs": [],
   "source": []
  },
  {
   "cell_type": "markdown",
   "id": "faa59f90",
   "metadata": {},
   "source": [
    "# 파라메트릭 서치(Parametric Search\n",
    "+ 파라메트릭 서치란 최적화 문제를 결정 문제('예' 혹은 '아니오')로 바꾸어 해결하는 기법입니다.\n",
    "    + 예시 : 특정한 조건을 만족하는 가장 알맞은 값을 빠르게 찾는 최적화 문제\n",
    "+ 일반적으로 코딩 테스트에서 파라메트릭 서치 문제는 이진 탐색을 이용하여 해결할 수 있습니다."
   ]
  },
  {
   "cell_type": "code",
   "execution_count": null,
   "id": "4df09981",
   "metadata": {},
   "outputs": [],
   "source": []
  },
  {
   "cell_type": "markdown",
   "id": "fcb4f404",
   "metadata": {},
   "source": [
    "![](image/93.png)"
   ]
  },
  {
   "cell_type": "markdown",
   "id": "1a85587f",
   "metadata": {},
   "source": [
    "![](image/94.png)"
   ]
  },
  {
   "cell_type": "markdown",
   "id": "5fc8248e",
   "metadata": {},
   "source": [
    "![](image/95.png)"
   ]
  },
  {
   "cell_type": "markdown",
   "id": "bb28c7fe",
   "metadata": {},
   "source": [
    "![](image/96.png)"
   ]
  },
  {
   "cell_type": "markdown",
   "id": "a8cc92f0",
   "metadata": {},
   "source": [
    "![](image/97.png)"
   ]
  },
  {
   "cell_type": "markdown",
   "id": "7554d2ac",
   "metadata": {},
   "source": [
    "![](image/98.png)"
   ]
  },
  {
   "cell_type": "markdown",
   "id": "da14a6ac",
   "metadata": {},
   "source": [
    "![](image/99.png)"
   ]
  },
  {
   "cell_type": "markdown",
   "id": "94475f13",
   "metadata": {},
   "source": [
    "![](image/100.png)"
   ]
  },
  {
   "cell_type": "code",
   "execution_count": 23,
   "id": "39725325",
   "metadata": {},
   "outputs": [
    {
     "name": "stdout",
     "output_type": "stream",
     "text": [
      "4 6\n",
      "19 15 10 17\n",
      "15\n"
     ]
    }
   ],
   "source": [
    "#떡의 개수(N)와 요청한 떡의 길이(M)을 입력\n",
    "n, m = list(map(int, input().split()))\n",
    "# 각 떡의 개별 높이 정보를 입력\n",
    "array = list(map(int, input().split()))\n",
    "\n",
    "#이진 탐색을 위한 시작점과 끝점 설정\n",
    "start = 0\n",
    "end = max(array)\n",
    "\n",
    "#이진 탐색 수행(반복적)\n",
    "result = 0\n",
    "while(start <= end):\n",
    "    total = 0\n",
    "    mid = (start + end) // 2\n",
    "    for x in array :\n",
    "        #잘랐을 때의 떡의 양 계산\n",
    "        if x > mid :\n",
    "            total += x - mid\n",
    "    #떡의 양이 부족한 경우 더 많이 자르기 (왼쪽 부분 탐색)\n",
    "    if total < m :\n",
    "        end = mid - 1\n",
    "    #떡의 양이 충분하 경우 덜 자르기( 오른쪽 부분 탐색)\n",
    "    else:\n",
    "        result = mid #최대한 덜 잘랐을 때가 정답이므로, 여기에서 result에 기록\n",
    "        start = mid + 1\n",
    "        \n",
    "#정답 출력\n",
    "print(result)"
   ]
  },
  {
   "cell_type": "markdown",
   "id": "56909a1b",
   "metadata": {},
   "source": [
    "![](image/101.png)"
   ]
  },
  {
   "attachments": {},
   "cell_type": "markdown",
   "id": "cc8c8ff2",
   "metadata": {},
   "source": [
    "![](image/102.png)"
   ]
  },
  {
   "cell_type": "markdown",
   "id": "8c579884",
   "metadata": {},
   "source": [
    "![](image/103.png)"
   ]
  },
  {
   "cell_type": "code",
   "execution_count": 29,
   "id": "28037696",
   "metadata": {},
   "outputs": [
    {
     "name": "stdout",
     "output_type": "stream",
     "text": [
      "7 2\n",
      "1 1 2 2 2 2 3\n",
      "4\n"
     ]
    }
   ],
   "source": [
    "from bisect import bisect_left, bisect_right\n",
    "\n",
    "#값이 [left_value, right_value]인 데이터의 개수를 반환하는 함수\n",
    "def count_by_range(array, left_value, right_value):\n",
    "    right_index = bisect_right(array, right_value)\n",
    "    left_index = bisect_left(array, left_value)\n",
    "    return right_index - left_index\n",
    "\n",
    "n, x = map(int,input().split()) #데이터의 개수 N, 찾고자 하는 값 x입력받기\n",
    "array = list(map(int, input().split())) #전체 원소 입력 받기\n",
    "\n",
    "#값이 [x, x] 범위에 있는 데이터의 개수 계산\n",
    "count = count_by_range(array, x, x)\n",
    "\n",
    "#값이 x인 원소가 존재하지 않는다면\n",
    "if count == 0 :\n",
    "    print(-1)\n",
    "#값이 x인 원소가 존재한다면\n",
    "else :\n",
    "    print(count)\n"
   ]
  },
  {
   "cell_type": "markdown",
   "id": "191ea414",
   "metadata": {},
   "source": [
    "출처 :  https://www.youtube.com/watch?v=94RC-DsGMLo&list=PLRx0vPvlEmdAghTr5mXQxGpHjWqSz0dgC&index=5"
   ]
  }
 ],
 "metadata": {
  "kernelspec": {
   "display_name": "Python 3 (ipykernel)",
   "language": "python",
   "name": "python3"
  },
  "language_info": {
   "codemirror_mode": {
    "name": "ipython",
    "version": 3
   },
   "file_extension": ".py",
   "mimetype": "text/x-python",
   "name": "python",
   "nbconvert_exporter": "python",
   "pygments_lexer": "ipython3",
   "version": "3.9.7"
  }
 },
 "nbformat": 4,
 "nbformat_minor": 5
}
