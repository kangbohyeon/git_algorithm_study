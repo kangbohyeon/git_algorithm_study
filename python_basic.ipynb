{
 "cells": [
  {
   "cell_type": "markdown",
   "id": "8d77e2e3",
   "metadata": {},
   "source": [
    "### input() 함수는 한 줄의 문자열을 입력 받는 함수\n",
    "### map() 함수는 리스트의 모든 원소에 각각 특정한 함수를 적용할 때 사용\n",
    "### 사용자로부터 입력을 최대한 빠르게 받아야 하는 경우\n",
    "### 파이썬의 경우 sys 라이브러리에 정의되어 있는 sys.stdin.readline() 메서드를 이용\n",
    "    단, 입력후 엔터가 줄 바꿈 기호로 입력되므로 rstrip() 메서드를 함께 사용"
   ]
  },
  {
   "cell_type": "code",
   "execution_count": 1,
   "id": "03e22715",
   "metadata": {},
   "outputs": [
    {
     "name": "stdout",
     "output_type": "stream",
     "text": [
      "5\n",
      "12 131 344590 1 34\n",
      "[12, 131, 344590, 1, 34]\n",
      "\n"
     ]
    }
   ],
   "source": [
    "#ex\n",
    "import sys\n",
    "\n",
    "n = int(input())\n",
    "data = list(map(int,input().split())) #공백을 기준으로 구분하여 입력\n",
    "\n",
    "print(data)\n",
    "\n",
    "data = sys.stdin.readline().rstrip() #문자열 입력 받기\n",
    "print(data)"
   ]
  },
  {
   "cell_type": "markdown",
   "id": "582de7e8",
   "metadata": {},
   "source": [
    "### 내장 함수 : 기본 입출력 함수부터 정렬 함수까지 기본적인 함수들을 제공합니다\n",
    "파이썬 프로그램을 작성할 때 없어서는 안 되는 필수적인 기능을 포함하고 있습니다.\n",
    "### itertools : 파이썬에서 반복되는 형태의 데이터를 처리하기 위한 유용한 기능들을 제공합니다.\n",
    "특히 순열과 조합 라이브러리는 코딩 테스트에서 자주 사용됩니다.\n",
    "### heapq : 힙(Heap)자료구조를 제공합니다.\n",
    "일반적으로 우선순위 큐 기능을 구현하기 위해 사용됩니다.\n",
    "### bisect: 이진탐색 기능을 제공합니다.\n",
    "### collections ; 덱,카운터등의 유용한 자료구조를 포함합니다.\n",
    "### math : 필수적인 수학적 기능을 제공합니다.\n",
    "팩토리얼, 제곱근, 최대공약수 삼각함수 관련 함수부터 파이와 같은 상수를 포함합니다."
   ]
  },
  {
   "cell_type": "code",
   "execution_count": 5,
   "id": "e7b61d1e",
   "metadata": {},
   "outputs": [
    {
     "name": "stdout",
     "output_type": "stream",
     "text": [
      "56\n",
      "[('홍길동', 35), ('이순신', 75), ('아무개', 50)]\n",
      "[('이순신', 75), ('아무개', 50), ('홍길동', 35)]\n"
     ]
    }
   ],
   "source": [
    "#ex\n",
    "#eval()\n",
    "result = eval(\"(3+5)*7\") #식에 대한 결과값\n",
    "print(result)\n",
    "\n",
    "array  = [('홍길동',35),('이순신',75),('아무개',50)]\n",
    "print(array)\n",
    "result = sorted(array, key=lambda x:x[1],reverse=True) # 람다형식 정렬\n",
    "print(result)"
   ]
  },
  {
   "cell_type": "code",
   "execution_count": 6,
   "id": "a60ebc63",
   "metadata": {},
   "outputs": [
    {
     "name": "stdout",
     "output_type": "stream",
     "text": [
      "[('A', 'B', 'C'), ('A', 'C', 'B'), ('B', 'A', 'C'), ('B', 'C', 'A'), ('C', 'A', 'B'), ('C', 'B', 'A')]\n",
      "[('A', 'B'), ('A', 'C'), ('B', 'C')]\n",
      "[('A', 'A'), ('A', 'B'), ('A', 'C'), ('B', 'A'), ('B', 'B'), ('B', 'C'), ('C', 'A'), ('C', 'B'), ('C', 'C')]\n",
      "[('A', 'A'), ('A', 'B'), ('A', 'C'), ('B', 'B'), ('B', 'C'), ('C', 'C')]\n"
     ]
    }
   ],
   "source": [
    "#ex\n",
    "from itertools import permutations\n",
    "from itertools import combinations\n",
    "from itertools import product\n",
    "from itertools import combinations_with_replacement\n",
    "data = ['A', 'B', 'C'] # 데이터 준비\n",
    "result = list(permutations(data,3))     #모든 순열 구하기\n",
    "print(result)\n",
    "\n",
    "data = ['A', 'B', 'C'] # 데이터 준비\n",
    "result = list(combinations(data,2))     #2개를 뽑는 모든 조합 구하기\n",
    "print(result)\n",
    "\n",
    "data = ['A', 'B', 'C'] # 데이터 준비\n",
    "result = list(product(data,repeat=2))     #2개를 뽑는 모든 순열 구하기(중복허용)\n",
    "print(result)\n",
    "\n",
    "data = ['A', 'B', 'C'] # 데이터 준비\n",
    "result = list(combinations_with_replacement(data,2))     #2개를 뽑는 모든 조합 구하기(중복허용)\n",
    "print(result)"
   ]
  },
  {
   "cell_type": "code",
   "execution_count": null,
   "id": "aea955bd",
   "metadata": {},
   "outputs": [],
   "source": []
  }
 ],
 "metadata": {
  "kernelspec": {
   "display_name": "Python 3 (ipykernel)",
   "language": "python",
   "name": "python3"
  },
  "language_info": {
   "codemirror_mode": {
    "name": "ipython",
    "version": 3
   },
   "file_extension": ".py",
   "mimetype": "text/x-python",
   "name": "python",
   "nbconvert_exporter": "python",
   "pygments_lexer": "ipython3",
   "version": "3.9.7"
  }
 },
 "nbformat": 4,
 "nbformat_minor": 5
}
