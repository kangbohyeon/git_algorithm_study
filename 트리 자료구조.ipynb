{
 "cells": [
  {
   "cell_type": "markdown",
   "id": "ab2e7f5b",
   "metadata": {},
   "source": [
    "![](image/279.png)"
   ]
  },
  {
   "cell_type": "markdown",
   "id": "b1041e52",
   "metadata": {},
   "source": [
    "![](image/280.png)"
   ]
  },
  {
   "cell_type": "markdown",
   "id": "7549cbce",
   "metadata": {},
   "source": [
    "![](image/281.png)"
   ]
  },
  {
   "cell_type": "markdown",
   "id": "477ac7f9",
   "metadata": {},
   "source": [
    "![](image/282.png)"
   ]
  },
  {
   "cell_type": "markdown",
   "id": "b243a87f",
   "metadata": {},
   "source": [
    "![](image/283.png)"
   ]
  },
  {
   "cell_type": "markdown",
   "id": "f53fe734",
   "metadata": {},
   "source": [
    "![](image/284.png)"
   ]
  },
  {
   "cell_type": "markdown",
   "id": "42551e21",
   "metadata": {},
   "source": [
    "![](image/285.png)"
   ]
  },
  {
   "cell_type": "code",
   "execution_count": 23,
   "id": "2e05414c",
   "metadata": {},
   "outputs": [
    {
     "name": "stdout",
     "output_type": "stream",
     "text": [
      "7\n",
      "A B C\n",
      "B D E\n",
      "C F G\n",
      "D None None\n",
      "E None None\n",
      "F None None\n",
      "G None None\n",
      "A B D E C F G \n",
      "B D E A C F G \n",
      "B D E C F G A "
     ]
    }
   ],
   "source": [
    "class Node :\n",
    "    def __init__(self, data, left_node, right_node):\n",
    "        self.data = data\n",
    "        self.left_node = left_node\n",
    "        self.right_node = right_node\n",
    "\n",
    "#전위 순회\n",
    "def pre_order(node):\n",
    "    print(node.data, end = ' ')\n",
    "    if node.left_node != None:\n",
    "        pre_order(tree[node.left_node])\n",
    "    if node.right_node != None:\n",
    "        pre_order(tree[node.right_node])\n",
    "        \n",
    "\n",
    "        \n",
    "#중위 순회\n",
    "def in_order(node):\n",
    "    if node.left_node != None:\n",
    "        pre_order(tree[node.left_node])\n",
    "    print(node.data, end = ' ')\n",
    "    if node.right_node != None:\n",
    "        pre_order(tree[node.right_node])\n",
    "        \n",
    "#후위 순회\n",
    "def post_order(node):\n",
    "    if node.left_node != None:\n",
    "        pre_order(tree[node.left_node])\n",
    "    if node.right_node != None:\n",
    "        pre_order(tree[node.right_node])\n",
    "    print(node.data, end = ' ')\n",
    "    \n",
    "n = int(input())\n",
    "tree = {}\n",
    "\n",
    "for i in range(n):\n",
    "    data, left_node, right_node = input().split()\n",
    "    if left_node == 'None':\n",
    "        left_node = None\n",
    "    if right_node == 'None':\n",
    "        right_node = None\n",
    "    tree[data] = Node(data, left_node, right_node)\n",
    "    \n",
    " \n",
    "    \n",
    "pre_order(tree['A'])\n",
    "print()\n",
    "in_order(tree['A'])\n",
    "print()\n",
    "post_order(tree['A'])"
   ]
  }
 ],
 "metadata": {
  "kernelspec": {
   "display_name": "Python 3 (ipykernel)",
   "language": "python",
   "name": "python3"
  },
  "language_info": {
   "codemirror_mode": {
    "name": "ipython",
    "version": 3
   },
   "file_extension": ".py",
   "mimetype": "text/x-python",
   "name": "python",
   "nbconvert_exporter": "python",
   "pygments_lexer": "ipython3",
   "version": "3.9.7"
  }
 },
 "nbformat": 4,
 "nbformat_minor": 5
}
