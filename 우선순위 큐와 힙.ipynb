{
 "cells": [
  {
   "cell_type": "markdown",
   "id": "71da95c7",
   "metadata": {},
   "source": [
    "![](image/271.png)"
   ]
  },
  {
   "cell_type": "markdown",
   "id": "ac81ded7",
   "metadata": {},
   "source": [
    "![](image/272.png)"
   ]
  },
  {
   "cell_type": "markdown",
   "id": "9b12e824",
   "metadata": {},
   "source": [
    "![](image/273.png)"
   ]
  },
  {
   "cell_type": "markdown",
   "id": "dd7504d1",
   "metadata": {},
   "source": [
    "![](image/274.png)"
   ]
  },
  {
   "cell_type": "markdown",
   "id": "fb8395b2",
   "metadata": {},
   "source": [
    "![](image/275.png)"
   ]
  },
  {
   "cell_type": "markdown",
   "id": "73bb3d8f",
   "metadata": {},
   "source": [
    "![](image/276.png)"
   ]
  },
  {
   "cell_type": "markdown",
   "id": "e2d0c8da",
   "metadata": {},
   "source": [
    "![](image/277.png)"
   ]
  },
  {
   "cell_type": "markdown",
   "id": "a4b67915",
   "metadata": {},
   "source": [
    "![](image/278.png)"
   ]
  },
  {
   "cell_type": "code",
   "execution_count": 6,
   "id": "9b5e6243",
   "metadata": {},
   "outputs": [
    {
     "name": "stdout",
     "output_type": "stream",
     "text": [
      "5\n",
      "9\n",
      "3\n",
      "4\n",
      "6\n",
      "5\n",
      "3 4 5 6 9 "
     ]
    }
   ],
   "source": [
    "#import sys\n",
    "import heapq\n",
    "#input = sys.stdin.readline\n",
    "\n",
    "def heapsort(iterable):\n",
    "    h = []\n",
    "    result = []\n",
    "    #모든 원소를 차례대로 힙에 삽입\n",
    "    for value in iterable:\n",
    "        heapq.heappush(h, value)\n",
    "    #힙에 삽입된 모든 원소를 차례대로 꺼내어 담기\n",
    "    for i in range(len(h)):\n",
    "        result.append(heapq.heappop(h))\n",
    "    return result\n",
    "\n",
    "n = int(input())\n",
    "arr = []\n",
    "\n",
    "for i in range(n):\n",
    "    arr.append(int(input()))\n",
    "    \n",
    "res = heapsort(arr)\n",
    "\n",
    "for i in range(n):\n",
    "    print(res[i], end =' ')"
   ]
  }
 ],
 "metadata": {
  "kernelspec": {
   "display_name": "Python 3 (ipykernel)",
   "language": "python",
   "name": "python3"
  },
  "language_info": {
   "codemirror_mode": {
    "name": "ipython",
    "version": 3
   },
   "file_extension": ".py",
   "mimetype": "text/x-python",
   "name": "python",
   "nbconvert_exporter": "python",
   "pygments_lexer": "ipython3",
   "version": "3.9.7"
  }
 },
 "nbformat": 4,
 "nbformat_minor": 5
}
