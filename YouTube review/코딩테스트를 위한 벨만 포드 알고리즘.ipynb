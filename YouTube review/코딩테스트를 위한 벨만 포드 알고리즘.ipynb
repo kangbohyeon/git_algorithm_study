{
 "cells": [
  {
   "cell_type": "markdown",
   "id": "a2832d3b",
   "metadata": {},
   "source": [
    "![](image/286.png)"
   ]
  },
  {
   "cell_type": "markdown",
   "id": "100b5d06",
   "metadata": {},
   "source": [
    "![](image/287.png)"
   ]
  },
  {
   "cell_type": "markdown",
   "id": "5912c073",
   "metadata": {},
   "source": [
    "![](image/288.png)"
   ]
  },
  {
   "cell_type": "markdown",
   "id": "2c01a497",
   "metadata": {},
   "source": [
    "![](image/289.png)"
   ]
  },
  {
   "cell_type": "markdown",
   "id": "940d6ea0",
   "metadata": {},
   "source": [
    "![](image/290.png)"
   ]
  },
  {
   "cell_type": "markdown",
   "id": "1c2f8d2d",
   "metadata": {},
   "source": [
    "![](image/291.png)"
   ]
  },
  {
   "cell_type": "markdown",
   "id": "af93fea0",
   "metadata": {},
   "source": [
    "![](image/292.png)"
   ]
  },
  {
   "cell_type": "code",
   "execution_count": 1,
   "id": "294fa629",
   "metadata": {},
   "outputs": [
    {
     "name": "stdout",
     "output_type": "stream",
     "text": [
      "6 9\n",
      "1 2 6\n",
      "1 3 2\n",
      "2 4 2\n",
      "2 3 2\n",
      "4 6 2\n",
      "3 5 1\n",
      "5 2 1\n",
      "5 4 3\n",
      "5 6 4\n",
      "4\n",
      "2\n",
      "6\n",
      "3\n",
      "7\n"
     ]
    }
   ],
   "source": [
    "#import sys\n",
    "#input = sys.stdin.readline\n",
    "INF = int(1e9) # 무한을 의미하는 값으로 10억을 설정\n",
    "\n",
    "# 노드의 개수, 간선의 개수를 입력받기\n",
    "n, m = map(int, input().split())\n",
    "# 모든 간선에 대한 정보를 담는 리스트 만들기\n",
    "edges = []\n",
    "# 최단 거리 테이블을 모두 무한으로 초기화\n",
    "distance = [INF] * (n + 1)\n",
    "\n",
    "# 모든 간선 정보를 입력받기\n",
    "for _ in range(m):\n",
    "    a, b, c = map(int, input().split())\n",
    "    # a번 노드에서 b번 노드로 가는 비용이 c라는 의미\n",
    "    edges.append((a, b, c))\n",
    "\n",
    "def bf(start):\n",
    "    # 시작 노드에 대해서 초기화\n",
    "    distance[start] = 0\n",
    "    # 전체 n - 1번의 라운드(round)를 반복\n",
    "    for i in range(n):\n",
    "        # 매 반복마다 \"모든 간선\"을 확인하며\n",
    "        for j in range(m):\n",
    "            cur_node = edges[j][0]\n",
    "            next_node = edges[j][1]\n",
    "            edge_cost = edges[j][2]\n",
    "            # 현재 간선을 거쳐서 다른 노드로 이동하는 거리가 더 짧은 경우\n",
    "            if distance[cur_node] != INF and distance[next_node] > distance[cur_node] + edge_cost:\n",
    "                distance[next_node] = distance[cur_node] + edge_cost\n",
    "                # n번째 라운드에서도 값이 갱신된다면 음수 순환이 존재\n",
    "                if i == n - 1:\n",
    "                    return True\n",
    "    return False\n",
    "\n",
    "# 벨만 포드 알고리즘을 수행\n",
    "negative_cycle = bf(1) # 1번 노드가 시작 노드\n",
    "\n",
    "if negative_cycle:\n",
    "    print(\"-1\")\n",
    "else:\n",
    "    # 1번 노드를 제외한 다른 모든 노드로 가기 위한 최단 거리를 출력\n",
    "    for i in range(2, n + 1):\n",
    "        # 도달할 수 없는 경우, -1을 출력\n",
    "        if distance[i] == INF:\n",
    "            print(\"-1\")\n",
    "        # 도달할 수 있는 경우 거리를 출력\n",
    "        else:\n",
    "            print(distance[i])"
   ]
  }
 ],
 "metadata": {
  "kernelspec": {
   "display_name": "Python 3 (ipykernel)",
   "language": "python",
   "name": "python3"
  },
  "language_info": {
   "codemirror_mode": {
    "name": "ipython",
    "version": 3
   },
   "file_extension": ".py",
   "mimetype": "text/x-python",
   "name": "python",
   "nbconvert_exporter": "python",
   "pygments_lexer": "ipython3",
   "version": "3.9.7"
  }
 },
 "nbformat": 4,
 "nbformat_minor": 5
}
