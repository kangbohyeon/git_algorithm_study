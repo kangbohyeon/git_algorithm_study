{
 "cells": [
  {
   "cell_type": "markdown",
   "id": "6f624d00",
   "metadata": {},
   "source": [
    "![](image/181.png)"
   ]
  },
  {
   "cell_type": "markdown",
   "id": "1863dc81",
   "metadata": {},
   "source": [
    "![](image/182.png)"
   ]
  },
  {
   "cell_type": "markdown",
   "id": "c8eda1d0",
   "metadata": {},
   "source": [
    "![](image/183.png)"
   ]
  },
  {
   "cell_type": "markdown",
   "id": "2e4f8732",
   "metadata": {},
   "source": [
    "![](image/184.png)"
   ]
  },
  {
   "cell_type": "markdown",
   "id": "6aad06eb",
   "metadata": {},
   "source": [
    "![](image/185.png)"
   ]
  },
  {
   "cell_type": "markdown",
   "id": "6665788d",
   "metadata": {},
   "source": [
    "![](image/186.png)"
   ]
  },
  {
   "cell_type": "markdown",
   "id": "e0ae3373",
   "metadata": {},
   "source": [
    "![](image/187.png)"
   ]
  },
  {
   "cell_type": "markdown",
   "id": "ee03f2c0",
   "metadata": {},
   "source": [
    "![](image/188.png)"
   ]
  },
  {
   "cell_type": "markdown",
   "id": "716dc724",
   "metadata": {},
   "source": [
    "![](image/189.png)"
   ]
  },
  {
   "cell_type": "markdown",
   "id": "62001cca",
   "metadata": {},
   "source": [
    "![](image/190.png)"
   ]
  },
  {
   "cell_type": "code",
   "execution_count": 2,
   "id": "739b0c80",
   "metadata": {},
   "outputs": [
    {
     "name": "stdout",
     "output_type": "stream",
     "text": [
      "6 6\n",
      "1 2 3 4 5 6\n"
     ]
    },
    {
     "ename": "ValueError",
     "evalue": "too many values to unpack (expected 2)",
     "output_type": "error",
     "traceback": [
      "\u001b[0;31m---------------------------------------------------------------------------\u001b[0m",
      "\u001b[0;31mValueError\u001b[0m                                Traceback (most recent call last)",
      "\u001b[0;32m/var/folders/bb/9fd_283x46vgg_b_10chnt900000gn/T/ipykernel_22901/2061350877.py\u001b[0m in \u001b[0;36m<module>\u001b[0;34m\u001b[0m\n\u001b[1;32m     25\u001b[0m \u001b[0;31m#Union 연산을 각각 수행\u001b[0m\u001b[0;34m\u001b[0m\u001b[0;34m\u001b[0m\u001b[0m\n\u001b[1;32m     26\u001b[0m \u001b[0;32mfor\u001b[0m \u001b[0mi\u001b[0m \u001b[0;32min\u001b[0m \u001b[0mrange\u001b[0m\u001b[0;34m(\u001b[0m\u001b[0me\u001b[0m\u001b[0;34m)\u001b[0m\u001b[0;34m:\u001b[0m\u001b[0;34m\u001b[0m\u001b[0;34m\u001b[0m\u001b[0m\n\u001b[0;32m---> 27\u001b[0;31m     \u001b[0ma\u001b[0m\u001b[0;34m,\u001b[0m \u001b[0mb\u001b[0m\u001b[0;34m=\u001b[0m \u001b[0mmap\u001b[0m\u001b[0;34m(\u001b[0m\u001b[0mint\u001b[0m\u001b[0;34m,\u001b[0m\u001b[0minput\u001b[0m\u001b[0;34m(\u001b[0m\u001b[0;34m)\u001b[0m\u001b[0;34m.\u001b[0m\u001b[0msplit\u001b[0m\u001b[0;34m(\u001b[0m\u001b[0;34m)\u001b[0m\u001b[0;34m)\u001b[0m\u001b[0;34m\u001b[0m\u001b[0;34m\u001b[0m\u001b[0m\n\u001b[0m\u001b[1;32m     28\u001b[0m     \u001b[0munion_parent\u001b[0m\u001b[0;34m(\u001b[0m\u001b[0mparent\u001b[0m\u001b[0;34m,\u001b[0m \u001b[0ma\u001b[0m\u001b[0;34m,\u001b[0m \u001b[0mb\u001b[0m\u001b[0;34m)\u001b[0m\u001b[0;34m\u001b[0m\u001b[0;34m\u001b[0m\u001b[0m\n\u001b[1;32m     29\u001b[0m \u001b[0;34m\u001b[0m\u001b[0m\n",
      "\u001b[0;31mValueError\u001b[0m: too many values to unpack (expected 2)"
     ]
    }
   ],
   "source": [
    "###### 특정 원소가 속한 집합을 찾기\n",
    "def find_parent(parent, x):\n",
    "    #루트 노드를 찾을 때까지 재귀 호출\n",
    "    if parent[x] != x:\n",
    "        return find_parent(parent, parent[x])\n",
    "    return x\n",
    "\n",
    "#두 원소가 속한 집합을 합치기\n",
    "def union_parent(parent, a, b):\n",
    "    a = find_parent(parent, a)\n",
    "    b = find_parent(parent, b)\n",
    "    if a < b:\n",
    "        parent[b] = a\n",
    "    else :\n",
    "        parent[a] = b\n",
    "        \n",
    "#노드의 개수와 간선의 개수 입력받기\n",
    "v, e= map(int,input().split())\n",
    "parent = [0] * (v + 1)#부모 테이블 초기화하기\n",
    "\n",
    "# 부모 테이블상에서, 부모를 자기 자신으로 초기화\n",
    "for i in range(1, v + 1):\n",
    "    parent[i] = i\n",
    "    \n",
    "#Union 연산을 각각 수행\n",
    "for i in range(e):\n",
    "    a, b= map(int,input().split())\n",
    "    union_parent(parent, a, b)\n",
    "    \n",
    "#각 원소가 속한 집합 출력하기\n",
    "print('각 원소가 속한 집합: ',end = ' ')\n",
    "for i in range(1, v + 1):\n",
    "    print(find_parent(parent, i), end = ' ')\n",
    "    \n",
    "print()\n",
    "\n",
    "#부모 테이블 내용 출력하기\n",
    "print('부모 테이블: ',end = ' ')\n",
    "for i in range(1, v + 1):\n",
    "    print(parent[i], end = ' ')\n",
    "\n"
   ]
  },
  {
   "cell_type": "markdown",
   "id": "489d52d1",
   "metadata": {},
   "source": [
    "![](image/191.png)"
   ]
  },
  {
   "cell_type": "markdown",
   "id": "3686d3ab",
   "metadata": {},
   "source": [
    "![](image/192.png)"
   ]
  },
  {
   "cell_type": "markdown",
   "id": "62df65aa",
   "metadata": {},
   "source": [
    "![](image/193.png)"
   ]
  },
  {
   "cell_type": "code",
   "execution_count": null,
   "id": "19d8241e",
   "metadata": {},
   "outputs": [],
   "source": []
  },
  {
   "cell_type": "markdown",
   "id": "607356ab",
   "metadata": {},
   "source": [
    "![](image/194.png)"
   ]
  },
  {
   "cell_type": "markdown",
   "id": "3024aa5a",
   "metadata": {},
   "source": [
    "![](image/195.png)"
   ]
  },
  {
   "cell_type": "markdown",
   "id": "23070c4e",
   "metadata": {},
   "source": [
    "![](image/196.png)"
   ]
  },
  {
   "cell_type": "markdown",
   "id": "8c1f2af9",
   "metadata": {},
   "source": [
    "![](image/197.png)"
   ]
  },
  {
   "cell_type": "markdown",
   "id": "05cceb89",
   "metadata": {},
   "source": [
    "![](image/198.png)"
   ]
  },
  {
   "cell_type": "code",
   "execution_count": 3,
   "id": "b868027a",
   "metadata": {},
   "outputs": [
    {
     "name": "stdout",
     "output_type": "stream",
     "text": [
      "5 6\n",
      "1 2 \n",
      "3 4\n",
      "5 6\n"
     ]
    },
    {
     "ename": "IndexError",
     "evalue": "list index out of range",
     "output_type": "error",
     "traceback": [
      "\u001b[0;31m---------------------------------------------------------------------------\u001b[0m",
      "\u001b[0;31mIndexError\u001b[0m                                Traceback (most recent call last)",
      "\u001b[0;32m/var/folders/bb/9fd_283x46vgg_b_10chnt900000gn/T/ipykernel_22901/3947194395.py\u001b[0m in \u001b[0;36m<module>\u001b[0;34m\u001b[0m\n\u001b[1;32m     28\u001b[0m     \u001b[0ma\u001b[0m\u001b[0;34m,\u001b[0m \u001b[0mb\u001b[0m \u001b[0;34m=\u001b[0m \u001b[0mmap\u001b[0m\u001b[0;34m(\u001b[0m\u001b[0mint\u001b[0m\u001b[0;34m,\u001b[0m\u001b[0minput\u001b[0m\u001b[0;34m(\u001b[0m\u001b[0;34m)\u001b[0m\u001b[0;34m.\u001b[0m\u001b[0msplit\u001b[0m\u001b[0;34m(\u001b[0m\u001b[0;34m)\u001b[0m\u001b[0;34m)\u001b[0m\u001b[0;34m\u001b[0m\u001b[0;34m\u001b[0m\u001b[0m\n\u001b[1;32m     29\u001b[0m     \u001b[0;31m#사이클이 발생한 경우 종료\u001b[0m\u001b[0;34m\u001b[0m\u001b[0;34m\u001b[0m\u001b[0m\n\u001b[0;32m---> 30\u001b[0;31m     \u001b[0;32mif\u001b[0m \u001b[0mfind_parent\u001b[0m\u001b[0;34m(\u001b[0m\u001b[0mparent\u001b[0m\u001b[0;34m,\u001b[0m \u001b[0ma\u001b[0m\u001b[0;34m)\u001b[0m \u001b[0;34m==\u001b[0m \u001b[0mfind_parent\u001b[0m\u001b[0;34m(\u001b[0m\u001b[0mparent\u001b[0m\u001b[0;34m,\u001b[0m \u001b[0mb\u001b[0m\u001b[0;34m)\u001b[0m\u001b[0;34m:\u001b[0m\u001b[0;34m\u001b[0m\u001b[0;34m\u001b[0m\u001b[0m\n\u001b[0m\u001b[1;32m     31\u001b[0m         \u001b[0mcycle\u001b[0m \u001b[0;34m=\u001b[0m \u001b[0;32mTrue\u001b[0m\u001b[0;34m\u001b[0m\u001b[0;34m\u001b[0m\u001b[0m\n\u001b[1;32m     32\u001b[0m         \u001b[0;32mbreak\u001b[0m\u001b[0;34m\u001b[0m\u001b[0;34m\u001b[0m\u001b[0m\n",
      "\u001b[0;32m/var/folders/bb/9fd_283x46vgg_b_10chnt900000gn/T/ipykernel_22901/3947194395.py\u001b[0m in \u001b[0;36mfind_parent\u001b[0;34m(parent, x)\u001b[0m\n\u001b[1;32m      2\u001b[0m \u001b[0;32mdef\u001b[0m \u001b[0mfind_parent\u001b[0m\u001b[0;34m(\u001b[0m\u001b[0mparent\u001b[0m\u001b[0;34m,\u001b[0m \u001b[0mx\u001b[0m\u001b[0;34m)\u001b[0m\u001b[0;34m:\u001b[0m\u001b[0;34m\u001b[0m\u001b[0;34m\u001b[0m\u001b[0m\n\u001b[1;32m      3\u001b[0m     \u001b[0;31m#루트 노드를 찾을 때까지 재귀 호출\u001b[0m\u001b[0;34m\u001b[0m\u001b[0;34m\u001b[0m\u001b[0m\n\u001b[0;32m----> 4\u001b[0;31m     \u001b[0;32mif\u001b[0m \u001b[0mparent\u001b[0m\u001b[0;34m[\u001b[0m\u001b[0mx\u001b[0m\u001b[0;34m]\u001b[0m \u001b[0;34m!=\u001b[0m \u001b[0mx\u001b[0m\u001b[0;34m:\u001b[0m\u001b[0;34m\u001b[0m\u001b[0;34m\u001b[0m\u001b[0m\n\u001b[0m\u001b[1;32m      5\u001b[0m         \u001b[0;32mreturn\u001b[0m \u001b[0mfind_parent\u001b[0m\u001b[0;34m(\u001b[0m\u001b[0mparent\u001b[0m\u001b[0;34m,\u001b[0m \u001b[0mparent\u001b[0m\u001b[0;34m[\u001b[0m\u001b[0mx\u001b[0m\u001b[0;34m]\u001b[0m\u001b[0;34m)\u001b[0m\u001b[0;34m\u001b[0m\u001b[0;34m\u001b[0m\u001b[0m\n\u001b[1;32m      6\u001b[0m     \u001b[0;32mreturn\u001b[0m \u001b[0mx\u001b[0m\u001b[0;34m\u001b[0m\u001b[0;34m\u001b[0m\u001b[0m\n",
      "\u001b[0;31mIndexError\u001b[0m: list index out of range"
     ]
    }
   ],
   "source": [
    "###### 특정 원소가 속한 집합을 찾기\n",
    "def find_parent(parent, x):\n",
    "    #루트 노드를 찾을 때까지 재귀 호출\n",
    "    if parent[x] != x:\n",
    "        return find_parent(parent, parent[x])\n",
    "    return x\n",
    "\n",
    "#두 원소가 속한 집합을 합치기\n",
    "def union_parent(parent, a, b):\n",
    "    a = find_parent(parent, a)\n",
    "    b = find_parent(parent, b)\n",
    "    if a < b:\n",
    "        parent[b] = a\n",
    "    else :\n",
    "        parent[a] = b\n",
    "        \n",
    "#노드의 개수와 간선의 개수 입력받기\n",
    "v, e = map(int,input().split())\n",
    "parent = [0] * (v + 1)#부모 테이블 초기화하기\n",
    "\n",
    "# 부모 테이블상에서, 부모를 자기 자신으로 초기화\n",
    "for i in range(1, v + 1):\n",
    "    parent[i] = i\n",
    "\n",
    "cycle = False #사이클 발생 여부\n",
    "\n",
    "for i in range(e):\n",
    "    a, b = map(int,input().split())\n",
    "    #사이클이 발생한 경우 종료\n",
    "    if find_parent(parent, a) == find_parent(parent, b):\n",
    "        cycle = True\n",
    "        break\n",
    "    #사이클이 발생하지 않았다면 합집합 연산 수행\n",
    "    else :\n",
    "        union_parent(parent, a, b)\n",
    "        \n",
    "if cycle:\n",
    "    print(\"사이클이 발생했습니다.\")\n",
    "else:\n",
    "        print(\"사이클이 발생하지 않았습니다.\")"
   ]
  },
  {
   "cell_type": "code",
   "execution_count": null,
   "id": "b5ddc5a1",
   "metadata": {},
   "outputs": [],
   "source": []
  },
  {
   "cell_type": "markdown",
   "id": "b207cf35",
   "metadata": {},
   "source": [
    "![](image/199.png)"
   ]
  },
  {
   "cell_type": "markdown",
   "id": "b34aa04f",
   "metadata": {},
   "source": [
    "![](image/200.png)"
   ]
  },
  {
   "cell_type": "markdown",
   "id": "6d8a0d41",
   "metadata": {},
   "source": [
    "![](image/201.png)"
   ]
  },
  {
   "cell_type": "markdown",
   "id": "ff9ff20b",
   "metadata": {},
   "source": [
    "![](image/202.png)"
   ]
  },
  {
   "cell_type": "markdown",
   "id": "31f01f22",
   "metadata": {},
   "source": [
    "![](image/203.png)"
   ]
  },
  {
   "cell_type": "markdown",
   "id": "d6e2c24d",
   "metadata": {},
   "source": [
    "![](image/204.png)"
   ]
  },
  {
   "cell_type": "markdown",
   "id": "571e4d8f",
   "metadata": {},
   "source": [
    "![](image/205.png)"
   ]
  },
  {
   "cell_type": "markdown",
   "id": "29a86279",
   "metadata": {},
   "source": [
    "![](image/206.png)"
   ]
  },
  {
   "cell_type": "markdown",
   "id": "ec541193",
   "metadata": {},
   "source": [
    "![](image/207.png)"
   ]
  },
  {
   "cell_type": "markdown",
   "id": "ee9d6d18",
   "metadata": {},
   "source": [
    "![](image/208.png)"
   ]
  },
  {
   "cell_type": "markdown",
   "id": "faa2c889",
   "metadata": {},
   "source": [
    "![](image/209.png)"
   ]
  },
  {
   "cell_type": "markdown",
   "id": "77f9bce2",
   "metadata": {},
   "source": [
    "![](image/210.png)"
   ]
  },
  {
   "cell_type": "markdown",
   "id": "d861dab2",
   "metadata": {},
   "source": [
    "![](image/211.png)"
   ]
  },
  {
   "cell_type": "markdown",
   "id": "1090d835",
   "metadata": {},
   "source": [
    "![](image/212.png)"
   ]
  },
  {
   "cell_type": "code",
   "execution_count": 5,
   "id": "d03db84b",
   "metadata": {},
   "outputs": [
    {
     "name": "stdout",
     "output_type": "stream",
     "text": [
      "7 9\n",
      "1 2 29\n",
      "1 5 75\n",
      "2 3 35\n",
      "2 6 34\n",
      "5 6 53\n",
      "3 4 7\n",
      "4 6 23\n",
      "4 7 13\n",
      "6 7 25\n",
      "159\n"
     ]
    }
   ],
   "source": [
    "###### 특정 원소가 속한 집합을 찾기\n",
    "def find_parent(parent, x):\n",
    "    #루트 노드를 찾을 때까지 재귀 호출\n",
    "    if parent[x] != x:\n",
    "        return find_parent(parent, parent[x])\n",
    "    return x\n",
    "\n",
    "#두 원소가 속한 집합을 합치기\n",
    "def union_parent(parent, a, b):\n",
    "    a = find_parent(parent, a)\n",
    "    b = find_parent(parent, b)\n",
    "    if a < b:\n",
    "        parent[b] = a\n",
    "    else :\n",
    "        parent[a] = b\n",
    "        \n",
    "#노드의 개수와 간선의 개수 입력받기\n",
    "v, e = map(int,input().split())\n",
    "parent = [0] * (v + 1)#부모 테이블 초기화하기\n",
    "\n",
    "#모든 간선을 담을 리시트와, 최종 비용을 담을 변수\n",
    "edges = []\n",
    "result = 0\n",
    "\n",
    "#부모 테이블상에서, 부모를 자기 자신으로 초기화\n",
    "for i in range(1, v + 1):\n",
    "    parent[i] = i\n",
    "    \n",
    "#모든 간선에 대한 정보를 입력 받기\n",
    "for _ in range(e):\n",
    "    a, b, cost = map(int, input().split())\n",
    "    #비용순으로 정렬하기 위해서 튜플의 첫 번째 원소를 비용으로 설정\n",
    "    edges.append((cost, a, b))\n",
    "    \n",
    "#간선을 비용순으로 정렬\n",
    "edges.sort()\n",
    "\n",
    "#간선을 하나씩 확인하며\n",
    "for edge in edges:\n",
    "    cost, a, b = edge\n",
    "    #사이클이 발생하지 않는 경우에만 집합에 포함\n",
    "    if find_parent(parent, a) != find_parent(parent, b):\n",
    "        union_parent(parent, a, b)\n",
    "        result += cost\n",
    "        \n",
    "print(result)"
   ]
  },
  {
   "cell_type": "markdown",
   "id": "0891d44f",
   "metadata": {},
   "source": []
  },
  {
   "cell_type": "markdown",
   "id": "3364e784",
   "metadata": {},
   "source": [
    "![](image/213.png)"
   ]
  },
  {
   "cell_type": "markdown",
   "id": "84d341fc",
   "metadata": {},
   "source": [
    "![](image/214.png)"
   ]
  },
  {
   "cell_type": "markdown",
   "id": "9a293bbb",
   "metadata": {},
   "source": [
    "![](image/215.png)"
   ]
  },
  {
   "cell_type": "markdown",
   "id": "859b9356",
   "metadata": {},
   "source": [
    "![](image/216.png)"
   ]
  },
  {
   "cell_type": "markdown",
   "id": "ced7e13c",
   "metadata": {},
   "source": [
    "![](image/217.png)"
   ]
  },
  {
   "cell_type": "markdown",
   "id": "99ef05bd",
   "metadata": {},
   "source": [
    "![](image/218.png)"
   ]
  },
  {
   "cell_type": "markdown",
   "id": "c56c9f7b",
   "metadata": {},
   "source": [
    "![](image/219.png)"
   ]
  },
  {
   "cell_type": "markdown",
   "id": "0ffb5d66",
   "metadata": {},
   "source": [
    "![](image/220.png)"
   ]
  },
  {
   "cell_type": "markdown",
   "id": "7b208c37",
   "metadata": {},
   "source": [
    "![](image/221.png)"
   ]
  },
  {
   "cell_type": "markdown",
   "id": "1f60e7fc",
   "metadata": {},
   "source": [
    "![](image/222.png)"
   ]
  },
  {
   "cell_type": "markdown",
   "id": "af562a30",
   "metadata": {},
   "source": [
    "![](image/223.png)"
   ]
  },
  {
   "cell_type": "markdown",
   "id": "861be7b3",
   "metadata": {},
   "source": [
    "![](image/224.png)"
   ]
  },
  {
   "cell_type": "markdown",
   "id": "a973b6a9",
   "metadata": {},
   "source": [
    "![](image/225.png)"
   ]
  },
  {
   "cell_type": "markdown",
   "id": "15af8668",
   "metadata": {},
   "source": [
    "![](image/226.png)"
   ]
  },
  {
   "cell_type": "markdown",
   "id": "8446326d",
   "metadata": {},
   "source": [
    "![](image/227.png)"
   ]
  },
  {
   "cell_type": "code",
   "execution_count": 6,
   "id": "cf92514d",
   "metadata": {},
   "outputs": [
    {
     "name": "stdout",
     "output_type": "stream",
     "text": [
      "7 8\n",
      "1 2\n",
      "1 5\n",
      "2 3\n",
      "2 6\n",
      "3 4\n",
      "4 7\n",
      "5 6\n",
      "6 4\n",
      "1 2 5 3 6 4 7 "
     ]
    }
   ],
   "source": [
    "from collections import deque\n",
    "\n",
    "#노드의 개수와 간선의 개수를 입력 받기\n",
    "v, e = map(int, input().split())\n",
    "#모든 노드에 대한 진입차수는 0으로 초기화\n",
    "indegree = [0] * (v + 1)\n",
    "#각 노드에 연결된 간선 정보를 담기 위한 연결 리스트 초기화\n",
    "graph = [[] for i in range(v + 1)]\n",
    "\n",
    "#방향 그래프의 모든 간선 정보를 입력 받기\n",
    "for _ in range(e):\n",
    "    a, b = map(int, input().split())\n",
    "    graph[a].append(b)#정점 A에서 B로 이동 가능\n",
    "    #진입 차수를 1증가\n",
    "    indegree[b] +=1\n",
    "    \n",
    "#위상 정렬 함수\n",
    "def topology_sort():\n",
    "    result = [] #알고리즘 수행결과를 담을 리스트\n",
    "    q = deque() #큐 기능을 위한 deque 라이브러리 사용\n",
    "    #처음 시작할 때는 진입차수가 0인 노드를 큐에 삽입\n",
    "    for i in range(1, v + 1):\n",
    "        if indegree[i] == 0:\n",
    "            q.append(i)\n",
    "    #큐가 빌 때까지 반복\n",
    "    while q:\n",
    "        #큐에서 원소 꺼내기\n",
    "        now = q.popleft()\n",
    "        result.append(now)\n",
    "        #해당 원소와 연결된 노드들의 진입차수에서 1 빼기\n",
    "        for i in graph[now]:\n",
    "            indegree[i] -= 1\n",
    "            #새롭게 진입차수가 0이 되는 노드를 큐에 삽입\n",
    "            if indegree[i] == 0:\n",
    "                q.append(i)\n",
    "    #위상 정렬을 수행한 결과 출력\n",
    "    for i in result:\n",
    "        print(i, end= ' ')\n",
    "        \n",
    "topology_sort()"
   ]
  },
  {
   "cell_type": "markdown",
   "id": "9a7047ba",
   "metadata": {},
   "source": [
    "![](image/228.png)"
   ]
  },
  {
   "cell_type": "markdown",
   "id": "3ff515d8",
   "metadata": {},
   "source": [
    "출처 : https://www.youtube.com/watch?v=aOhhNFTIeFI&list=PLRx0vPvlEmdAghTr5mXQxGpHjWqSz0dgC&index=8"
   ]
  }
 ],
 "metadata": {
  "kernelspec": {
   "display_name": "Python 3 (ipykernel)",
   "language": "python",
   "name": "python3"
  },
  "language_info": {
   "codemirror_mode": {
    "name": "ipython",
    "version": 3
   },
   "file_extension": ".py",
   "mimetype": "text/x-python",
   "name": "python",
   "nbconvert_exporter": "python",
   "pygments_lexer": "ipython3",
   "version": "3.9.7"
  }
 },
 "nbformat": 4,
 "nbformat_minor": 5
}
